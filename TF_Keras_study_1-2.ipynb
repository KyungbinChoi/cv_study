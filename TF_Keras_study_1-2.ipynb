{
  "nbformat": 4,
  "nbformat_minor": 0,
  "metadata": {
    "colab": {
      "name": "Keras_tutorial.ipynb",
      "provenance": [],
      "collapsed_sections": []
    },
    "kernelspec": {
      "name": "python3",
      "display_name": "Python 3"
    },
    "language_info": {
      "name": "python"
    },
    "accelerator": "GPU",
    "widgets": {
      "application/vnd.jupyter.widget-state+json": {
        "49bf4e942be148c38116da9cbf30f77a": {
          "model_module": "@jupyter-widgets/controls",
          "model_name": "HBoxModel",
          "state": {
            "_view_name": "HBoxView",
            "_dom_classes": [],
            "_model_name": "HBoxModel",
            "_view_module": "@jupyter-widgets/controls",
            "_model_module_version": "1.5.0",
            "_view_count": null,
            "_view_module_version": "1.5.0",
            "box_style": "",
            "layout": "IPY_MODEL_2ff14c9880e84c8bb6ac22bfeab9959e",
            "_model_module": "@jupyter-widgets/controls",
            "children": [
              "IPY_MODEL_1aae3c021cb9453388a1f32d970b91a0",
              "IPY_MODEL_7997ac9956524f4d89e6196092955295"
            ]
          }
        },
        "2ff14c9880e84c8bb6ac22bfeab9959e": {
          "model_module": "@jupyter-widgets/base",
          "model_name": "LayoutModel",
          "state": {
            "_view_name": "LayoutView",
            "grid_template_rows": null,
            "right": null,
            "justify_content": null,
            "_view_module": "@jupyter-widgets/base",
            "overflow": null,
            "_model_module_version": "1.2.0",
            "_view_count": null,
            "flex_flow": null,
            "width": null,
            "min_width": null,
            "border": null,
            "align_items": null,
            "bottom": null,
            "_model_module": "@jupyter-widgets/base",
            "top": null,
            "grid_column": null,
            "overflow_y": null,
            "overflow_x": null,
            "grid_auto_flow": null,
            "grid_area": null,
            "grid_template_columns": null,
            "flex": null,
            "_model_name": "LayoutModel",
            "justify_items": null,
            "grid_row": null,
            "max_height": null,
            "align_content": null,
            "visibility": null,
            "align_self": null,
            "height": null,
            "min_height": null,
            "padding": null,
            "grid_auto_rows": null,
            "grid_gap": null,
            "max_width": null,
            "order": null,
            "_view_module_version": "1.2.0",
            "grid_template_areas": null,
            "object_position": null,
            "object_fit": null,
            "grid_auto_columns": null,
            "margin": null,
            "display": null,
            "left": null
          }
        },
        "1aae3c021cb9453388a1f32d970b91a0": {
          "model_module": "@jupyter-widgets/controls",
          "model_name": "FloatProgressModel",
          "state": {
            "_view_name": "ProgressView",
            "style": "IPY_MODEL_c01fa9ec9a774a9184a360c69398192f",
            "_dom_classes": [],
            "description": "Dl Completed...: 100%",
            "_model_name": "FloatProgressModel",
            "bar_style": "success",
            "max": 1,
            "_view_module": "@jupyter-widgets/controls",
            "_model_module_version": "1.5.0",
            "value": 1,
            "_view_count": null,
            "_view_module_version": "1.5.0",
            "orientation": "horizontal",
            "min": 0,
            "description_tooltip": null,
            "_model_module": "@jupyter-widgets/controls",
            "layout": "IPY_MODEL_060aade10ed54b6086da25af1369fe22"
          }
        },
        "7997ac9956524f4d89e6196092955295": {
          "model_module": "@jupyter-widgets/controls",
          "model_name": "HTMLModel",
          "state": {
            "_view_name": "HTMLView",
            "style": "IPY_MODEL_2ee4b02214314fe08c3b3587d8911c0a",
            "_dom_classes": [],
            "description": "",
            "_model_name": "HTMLModel",
            "placeholder": "​",
            "_view_module": "@jupyter-widgets/controls",
            "_model_module_version": "1.5.0",
            "value": " 1/1 [00:03&lt;00:00,  3.96s/ url]",
            "_view_count": null,
            "_view_module_version": "1.5.0",
            "description_tooltip": null,
            "_model_module": "@jupyter-widgets/controls",
            "layout": "IPY_MODEL_22497458fa914a818de82f0c4391ca70"
          }
        },
        "c01fa9ec9a774a9184a360c69398192f": {
          "model_module": "@jupyter-widgets/controls",
          "model_name": "ProgressStyleModel",
          "state": {
            "_view_name": "StyleView",
            "_model_name": "ProgressStyleModel",
            "description_width": "initial",
            "_view_module": "@jupyter-widgets/base",
            "_model_module_version": "1.5.0",
            "_view_count": null,
            "_view_module_version": "1.2.0",
            "bar_color": null,
            "_model_module": "@jupyter-widgets/controls"
          }
        },
        "060aade10ed54b6086da25af1369fe22": {
          "model_module": "@jupyter-widgets/base",
          "model_name": "LayoutModel",
          "state": {
            "_view_name": "LayoutView",
            "grid_template_rows": null,
            "right": null,
            "justify_content": null,
            "_view_module": "@jupyter-widgets/base",
            "overflow": null,
            "_model_module_version": "1.2.0",
            "_view_count": null,
            "flex_flow": null,
            "width": null,
            "min_width": null,
            "border": null,
            "align_items": null,
            "bottom": null,
            "_model_module": "@jupyter-widgets/base",
            "top": null,
            "grid_column": null,
            "overflow_y": null,
            "overflow_x": null,
            "grid_auto_flow": null,
            "grid_area": null,
            "grid_template_columns": null,
            "flex": null,
            "_model_name": "LayoutModel",
            "justify_items": null,
            "grid_row": null,
            "max_height": null,
            "align_content": null,
            "visibility": null,
            "align_self": null,
            "height": null,
            "min_height": null,
            "padding": null,
            "grid_auto_rows": null,
            "grid_gap": null,
            "max_width": null,
            "order": null,
            "_view_module_version": "1.2.0",
            "grid_template_areas": null,
            "object_position": null,
            "object_fit": null,
            "grid_auto_columns": null,
            "margin": null,
            "display": null,
            "left": null
          }
        },
        "2ee4b02214314fe08c3b3587d8911c0a": {
          "model_module": "@jupyter-widgets/controls",
          "model_name": "DescriptionStyleModel",
          "state": {
            "_view_name": "StyleView",
            "_model_name": "DescriptionStyleModel",
            "description_width": "",
            "_view_module": "@jupyter-widgets/base",
            "_model_module_version": "1.5.0",
            "_view_count": null,
            "_view_module_version": "1.2.0",
            "_model_module": "@jupyter-widgets/controls"
          }
        },
        "22497458fa914a818de82f0c4391ca70": {
          "model_module": "@jupyter-widgets/base",
          "model_name": "LayoutModel",
          "state": {
            "_view_name": "LayoutView",
            "grid_template_rows": null,
            "right": null,
            "justify_content": null,
            "_view_module": "@jupyter-widgets/base",
            "overflow": null,
            "_model_module_version": "1.2.0",
            "_view_count": null,
            "flex_flow": null,
            "width": null,
            "min_width": null,
            "border": null,
            "align_items": null,
            "bottom": null,
            "_model_module": "@jupyter-widgets/base",
            "top": null,
            "grid_column": null,
            "overflow_y": null,
            "overflow_x": null,
            "grid_auto_flow": null,
            "grid_area": null,
            "grid_template_columns": null,
            "flex": null,
            "_model_name": "LayoutModel",
            "justify_items": null,
            "grid_row": null,
            "max_height": null,
            "align_content": null,
            "visibility": null,
            "align_self": null,
            "height": null,
            "min_height": null,
            "padding": null,
            "grid_auto_rows": null,
            "grid_gap": null,
            "max_width": null,
            "order": null,
            "_view_module_version": "1.2.0",
            "grid_template_areas": null,
            "object_position": null,
            "object_fit": null,
            "grid_auto_columns": null,
            "margin": null,
            "display": null,
            "left": null
          }
        },
        "51a2782ada154c4e92e997df4b1e2bbf": {
          "model_module": "@jupyter-widgets/controls",
          "model_name": "HBoxModel",
          "state": {
            "_view_name": "HBoxView",
            "_dom_classes": [],
            "_model_name": "HBoxModel",
            "_view_module": "@jupyter-widgets/controls",
            "_model_module_version": "1.5.0",
            "_view_count": null,
            "_view_module_version": "1.5.0",
            "box_style": "",
            "layout": "IPY_MODEL_dfd26f2c8983471ca3e3fa723847c072",
            "_model_module": "@jupyter-widgets/controls",
            "children": [
              "IPY_MODEL_277b9cc7462c48ddab918e613e5f3a88",
              "IPY_MODEL_257545a896a64a7e8574597639214b11"
            ]
          }
        },
        "dfd26f2c8983471ca3e3fa723847c072": {
          "model_module": "@jupyter-widgets/base",
          "model_name": "LayoutModel",
          "state": {
            "_view_name": "LayoutView",
            "grid_template_rows": null,
            "right": null,
            "justify_content": null,
            "_view_module": "@jupyter-widgets/base",
            "overflow": null,
            "_model_module_version": "1.2.0",
            "_view_count": null,
            "flex_flow": null,
            "width": null,
            "min_width": null,
            "border": null,
            "align_items": null,
            "bottom": null,
            "_model_module": "@jupyter-widgets/base",
            "top": null,
            "grid_column": null,
            "overflow_y": null,
            "overflow_x": null,
            "grid_auto_flow": null,
            "grid_area": null,
            "grid_template_columns": null,
            "flex": null,
            "_model_name": "LayoutModel",
            "justify_items": null,
            "grid_row": null,
            "max_height": null,
            "align_content": null,
            "visibility": null,
            "align_self": null,
            "height": null,
            "min_height": null,
            "padding": null,
            "grid_auto_rows": null,
            "grid_gap": null,
            "max_width": null,
            "order": null,
            "_view_module_version": "1.2.0",
            "grid_template_areas": null,
            "object_position": null,
            "object_fit": null,
            "grid_auto_columns": null,
            "margin": null,
            "display": null,
            "left": null
          }
        },
        "277b9cc7462c48ddab918e613e5f3a88": {
          "model_module": "@jupyter-widgets/controls",
          "model_name": "FloatProgressModel",
          "state": {
            "_view_name": "ProgressView",
            "style": "IPY_MODEL_47767c83aa6b47b7a932e9a0a649d856",
            "_dom_classes": [],
            "description": "Dl Size...: 100%",
            "_model_name": "FloatProgressModel",
            "bar_style": "success",
            "max": 1,
            "_view_module": "@jupyter-widgets/controls",
            "_model_module_version": "1.5.0",
            "value": 1,
            "_view_count": null,
            "_view_module_version": "1.5.0",
            "orientation": "horizontal",
            "min": 0,
            "description_tooltip": null,
            "_model_module": "@jupyter-widgets/controls",
            "layout": "IPY_MODEL_653d8cfaba8148d9a52a30da9f29812b"
          }
        },
        "257545a896a64a7e8574597639214b11": {
          "model_module": "@jupyter-widgets/controls",
          "model_name": "HTMLModel",
          "state": {
            "_view_name": "HTMLView",
            "style": "IPY_MODEL_381cd3165bc7488a88278ed9c630db94",
            "_dom_classes": [],
            "description": "",
            "_model_name": "HTMLModel",
            "placeholder": "​",
            "_view_module": "@jupyter-widgets/controls",
            "_model_module_version": "1.5.0",
            "value": " 80/80 [00:03&lt;00:00, 20.34 MiB/s]",
            "_view_count": null,
            "_view_module_version": "1.5.0",
            "description_tooltip": null,
            "_model_module": "@jupyter-widgets/controls",
            "layout": "IPY_MODEL_bc997fa577f541eda7a6ab06a480f524"
          }
        },
        "47767c83aa6b47b7a932e9a0a649d856": {
          "model_module": "@jupyter-widgets/controls",
          "model_name": "ProgressStyleModel",
          "state": {
            "_view_name": "StyleView",
            "_model_name": "ProgressStyleModel",
            "description_width": "initial",
            "_view_module": "@jupyter-widgets/base",
            "_model_module_version": "1.5.0",
            "_view_count": null,
            "_view_module_version": "1.2.0",
            "bar_color": null,
            "_model_module": "@jupyter-widgets/controls"
          }
        },
        "653d8cfaba8148d9a52a30da9f29812b": {
          "model_module": "@jupyter-widgets/base",
          "model_name": "LayoutModel",
          "state": {
            "_view_name": "LayoutView",
            "grid_template_rows": null,
            "right": null,
            "justify_content": null,
            "_view_module": "@jupyter-widgets/base",
            "overflow": null,
            "_model_module_version": "1.2.0",
            "_view_count": null,
            "flex_flow": null,
            "width": null,
            "min_width": null,
            "border": null,
            "align_items": null,
            "bottom": null,
            "_model_module": "@jupyter-widgets/base",
            "top": null,
            "grid_column": null,
            "overflow_y": null,
            "overflow_x": null,
            "grid_auto_flow": null,
            "grid_area": null,
            "grid_template_columns": null,
            "flex": null,
            "_model_name": "LayoutModel",
            "justify_items": null,
            "grid_row": null,
            "max_height": null,
            "align_content": null,
            "visibility": null,
            "align_self": null,
            "height": null,
            "min_height": null,
            "padding": null,
            "grid_auto_rows": null,
            "grid_gap": null,
            "max_width": null,
            "order": null,
            "_view_module_version": "1.2.0",
            "grid_template_areas": null,
            "object_position": null,
            "object_fit": null,
            "grid_auto_columns": null,
            "margin": null,
            "display": null,
            "left": null
          }
        },
        "381cd3165bc7488a88278ed9c630db94": {
          "model_module": "@jupyter-widgets/controls",
          "model_name": "DescriptionStyleModel",
          "state": {
            "_view_name": "StyleView",
            "_model_name": "DescriptionStyleModel",
            "description_width": "",
            "_view_module": "@jupyter-widgets/base",
            "_model_module_version": "1.5.0",
            "_view_count": null,
            "_view_module_version": "1.2.0",
            "_model_module": "@jupyter-widgets/controls"
          }
        },
        "bc997fa577f541eda7a6ab06a480f524": {
          "model_module": "@jupyter-widgets/base",
          "model_name": "LayoutModel",
          "state": {
            "_view_name": "LayoutView",
            "grid_template_rows": null,
            "right": null,
            "justify_content": null,
            "_view_module": "@jupyter-widgets/base",
            "overflow": null,
            "_model_module_version": "1.2.0",
            "_view_count": null,
            "flex_flow": null,
            "width": null,
            "min_width": null,
            "border": null,
            "align_items": null,
            "bottom": null,
            "_model_module": "@jupyter-widgets/base",
            "top": null,
            "grid_column": null,
            "overflow_y": null,
            "overflow_x": null,
            "grid_auto_flow": null,
            "grid_area": null,
            "grid_template_columns": null,
            "flex": null,
            "_model_name": "LayoutModel",
            "justify_items": null,
            "grid_row": null,
            "max_height": null,
            "align_content": null,
            "visibility": null,
            "align_self": null,
            "height": null,
            "min_height": null,
            "padding": null,
            "grid_auto_rows": null,
            "grid_gap": null,
            "max_width": null,
            "order": null,
            "_view_module_version": "1.2.0",
            "grid_template_areas": null,
            "object_position": null,
            "object_fit": null,
            "grid_auto_columns": null,
            "margin": null,
            "display": null,
            "left": null
          }
        },
        "ebe2abe48d8b4488844aefc126221e1a": {
          "model_module": "@jupyter-widgets/controls",
          "model_name": "HBoxModel",
          "state": {
            "_view_name": "HBoxView",
            "_dom_classes": [],
            "_model_name": "HBoxModel",
            "_view_module": "@jupyter-widgets/controls",
            "_model_module_version": "1.5.0",
            "_view_count": null,
            "_view_module_version": "1.5.0",
            "box_style": "",
            "layout": "IPY_MODEL_1b88c89b65f34e7f8be1cc6109fc10de",
            "_model_module": "@jupyter-widgets/controls",
            "children": [
              "IPY_MODEL_dee4a62de8a741c6ac048b4deca01544",
              "IPY_MODEL_080678c703fe48909a9433837809a968"
            ]
          }
        },
        "1b88c89b65f34e7f8be1cc6109fc10de": {
          "model_module": "@jupyter-widgets/base",
          "model_name": "LayoutModel",
          "state": {
            "_view_name": "LayoutView",
            "grid_template_rows": null,
            "right": null,
            "justify_content": null,
            "_view_module": "@jupyter-widgets/base",
            "overflow": null,
            "_model_module_version": "1.2.0",
            "_view_count": null,
            "flex_flow": null,
            "width": null,
            "min_width": null,
            "border": null,
            "align_items": null,
            "bottom": null,
            "_model_module": "@jupyter-widgets/base",
            "top": null,
            "grid_column": null,
            "overflow_y": null,
            "overflow_x": null,
            "grid_auto_flow": null,
            "grid_area": null,
            "grid_template_columns": null,
            "flex": null,
            "_model_name": "LayoutModel",
            "justify_items": null,
            "grid_row": null,
            "max_height": null,
            "align_content": null,
            "visibility": null,
            "align_self": null,
            "height": null,
            "min_height": null,
            "padding": null,
            "grid_auto_rows": null,
            "grid_gap": null,
            "max_width": null,
            "order": null,
            "_view_module_version": "1.2.0",
            "grid_template_areas": null,
            "object_position": null,
            "object_fit": null,
            "grid_auto_columns": null,
            "margin": null,
            "display": null,
            "left": null
          }
        },
        "dee4a62de8a741c6ac048b4deca01544": {
          "model_module": "@jupyter-widgets/controls",
          "model_name": "FloatProgressModel",
          "state": {
            "_view_name": "ProgressView",
            "style": "IPY_MODEL_e1c8eb803e0a4d868063846b5d30dbcd",
            "_dom_classes": [],
            "description": "Generating splits...: 100%",
            "_model_name": "FloatProgressModel",
            "bar_style": "",
            "max": 3,
            "_view_module": "@jupyter-widgets/controls",
            "_model_module_version": "1.5.0",
            "value": 3,
            "_view_count": null,
            "_view_module_version": "1.5.0",
            "orientation": "horizontal",
            "min": 0,
            "description_tooltip": null,
            "_model_module": "@jupyter-widgets/controls",
            "layout": "IPY_MODEL_0cb6aafcd7b94a3e8f77d1e8414177d6"
          }
        },
        "080678c703fe48909a9433837809a968": {
          "model_module": "@jupyter-widgets/controls",
          "model_name": "HTMLModel",
          "state": {
            "_view_name": "HTMLView",
            "style": "IPY_MODEL_e66694cefe704eb28b4b4f2875f50dac",
            "_dom_classes": [],
            "description": "",
            "_model_name": "HTMLModel",
            "placeholder": "​",
            "_view_module": "@jupyter-widgets/controls",
            "_model_module_version": "1.5.0",
            "value": " 3/3 [00:45&lt;00:00, 14.95s/ splits]",
            "_view_count": null,
            "_view_module_version": "1.5.0",
            "description_tooltip": null,
            "_model_module": "@jupyter-widgets/controls",
            "layout": "IPY_MODEL_7460e6e8f4d64ef5bf68379057970652"
          }
        },
        "e1c8eb803e0a4d868063846b5d30dbcd": {
          "model_module": "@jupyter-widgets/controls",
          "model_name": "ProgressStyleModel",
          "state": {
            "_view_name": "StyleView",
            "_model_name": "ProgressStyleModel",
            "description_width": "initial",
            "_view_module": "@jupyter-widgets/base",
            "_model_module_version": "1.5.0",
            "_view_count": null,
            "_view_module_version": "1.2.0",
            "bar_color": null,
            "_model_module": "@jupyter-widgets/controls"
          }
        },
        "0cb6aafcd7b94a3e8f77d1e8414177d6": {
          "model_module": "@jupyter-widgets/base",
          "model_name": "LayoutModel",
          "state": {
            "_view_name": "LayoutView",
            "grid_template_rows": null,
            "right": null,
            "justify_content": null,
            "_view_module": "@jupyter-widgets/base",
            "overflow": null,
            "_model_module_version": "1.2.0",
            "_view_count": null,
            "flex_flow": null,
            "width": null,
            "min_width": null,
            "border": null,
            "align_items": null,
            "bottom": null,
            "_model_module": "@jupyter-widgets/base",
            "top": null,
            "grid_column": null,
            "overflow_y": null,
            "overflow_x": null,
            "grid_auto_flow": null,
            "grid_area": null,
            "grid_template_columns": null,
            "flex": null,
            "_model_name": "LayoutModel",
            "justify_items": null,
            "grid_row": null,
            "max_height": null,
            "align_content": null,
            "visibility": null,
            "align_self": null,
            "height": null,
            "min_height": null,
            "padding": null,
            "grid_auto_rows": null,
            "grid_gap": null,
            "max_width": null,
            "order": null,
            "_view_module_version": "1.2.0",
            "grid_template_areas": null,
            "object_position": null,
            "object_fit": null,
            "grid_auto_columns": null,
            "margin": null,
            "display": null,
            "left": null
          }
        },
        "e66694cefe704eb28b4b4f2875f50dac": {
          "model_module": "@jupyter-widgets/controls",
          "model_name": "DescriptionStyleModel",
          "state": {
            "_view_name": "StyleView",
            "_model_name": "DescriptionStyleModel",
            "description_width": "",
            "_view_module": "@jupyter-widgets/base",
            "_model_module_version": "1.5.0",
            "_view_count": null,
            "_view_module_version": "1.2.0",
            "_model_module": "@jupyter-widgets/controls"
          }
        },
        "7460e6e8f4d64ef5bf68379057970652": {
          "model_module": "@jupyter-widgets/base",
          "model_name": "LayoutModel",
          "state": {
            "_view_name": "LayoutView",
            "grid_template_rows": null,
            "right": null,
            "justify_content": null,
            "_view_module": "@jupyter-widgets/base",
            "overflow": null,
            "_model_module_version": "1.2.0",
            "_view_count": null,
            "flex_flow": null,
            "width": null,
            "min_width": null,
            "border": null,
            "align_items": null,
            "bottom": null,
            "_model_module": "@jupyter-widgets/base",
            "top": null,
            "grid_column": null,
            "overflow_y": null,
            "overflow_x": null,
            "grid_auto_flow": null,
            "grid_area": null,
            "grid_template_columns": null,
            "flex": null,
            "_model_name": "LayoutModel",
            "justify_items": null,
            "grid_row": null,
            "max_height": null,
            "align_content": null,
            "visibility": null,
            "align_self": null,
            "height": null,
            "min_height": null,
            "padding": null,
            "grid_auto_rows": null,
            "grid_gap": null,
            "max_width": null,
            "order": null,
            "_view_module_version": "1.2.0",
            "grid_template_areas": null,
            "object_position": null,
            "object_fit": null,
            "grid_auto_columns": null,
            "margin": null,
            "display": null,
            "left": null
          }
        },
        "9306d719684f4dbca14757a832cfae66": {
          "model_module": "@jupyter-widgets/controls",
          "model_name": "HBoxModel",
          "state": {
            "_view_name": "HBoxView",
            "_dom_classes": [],
            "_model_name": "HBoxModel",
            "_view_module": "@jupyter-widgets/controls",
            "_model_module_version": "1.5.0",
            "_view_count": null,
            "_view_module_version": "1.5.0",
            "box_style": "",
            "layout": "IPY_MODEL_000348d02d4d4a1ea69d0a4f022246db",
            "_model_module": "@jupyter-widgets/controls",
            "children": [
              "IPY_MODEL_ea4e0e451d034b03a79ee2513e18f2f4",
              "IPY_MODEL_482a5a0f98ca418fb2324c33ab182659"
            ]
          }
        },
        "000348d02d4d4a1ea69d0a4f022246db": {
          "model_module": "@jupyter-widgets/base",
          "model_name": "LayoutModel",
          "state": {
            "_view_name": "LayoutView",
            "grid_template_rows": null,
            "right": null,
            "justify_content": null,
            "_view_module": "@jupyter-widgets/base",
            "overflow": null,
            "_model_module_version": "1.2.0",
            "_view_count": null,
            "flex_flow": null,
            "width": null,
            "min_width": null,
            "border": null,
            "align_items": null,
            "bottom": null,
            "_model_module": "@jupyter-widgets/base",
            "top": null,
            "grid_column": null,
            "overflow_y": null,
            "overflow_x": null,
            "grid_auto_flow": null,
            "grid_area": null,
            "grid_template_columns": null,
            "flex": null,
            "_model_name": "LayoutModel",
            "justify_items": null,
            "grid_row": null,
            "max_height": null,
            "align_content": null,
            "visibility": null,
            "align_self": null,
            "height": null,
            "min_height": null,
            "padding": null,
            "grid_auto_rows": null,
            "grid_gap": null,
            "max_width": null,
            "order": null,
            "_view_module_version": "1.2.0",
            "grid_template_areas": null,
            "object_position": null,
            "object_fit": null,
            "grid_auto_columns": null,
            "margin": null,
            "display": null,
            "left": null
          }
        },
        "ea4e0e451d034b03a79ee2513e18f2f4": {
          "model_module": "@jupyter-widgets/controls",
          "model_name": "FloatProgressModel",
          "state": {
            "_view_name": "ProgressView",
            "style": "IPY_MODEL_33415dbd8fa44329bf7cb8cabf3bae70",
            "_dom_classes": [],
            "description": "Generating train examples...: 100%",
            "_model_name": "FloatProgressModel",
            "bar_style": "",
            "max": 25000,
            "_view_module": "@jupyter-widgets/controls",
            "_model_module_version": "1.5.0",
            "value": 25000,
            "_view_count": null,
            "_view_module_version": "1.5.0",
            "orientation": "horizontal",
            "min": 0,
            "description_tooltip": null,
            "_model_module": "@jupyter-widgets/controls",
            "layout": "IPY_MODEL_566f04c743a34e7fbbaf5b7097bad8f0"
          }
        },
        "482a5a0f98ca418fb2324c33ab182659": {
          "model_module": "@jupyter-widgets/controls",
          "model_name": "HTMLModel",
          "state": {
            "_view_name": "HTMLView",
            "style": "IPY_MODEL_a6a5570220a74ff19b5250ef37e1d029",
            "_dom_classes": [],
            "description": "",
            "_model_name": "HTMLModel",
            "placeholder": "​",
            "_view_module": "@jupyter-widgets/controls",
            "_model_module_version": "1.5.0",
            "value": " 25000/25000 [00:13&lt;00:00, 3535.23 examples/s]",
            "_view_count": null,
            "_view_module_version": "1.5.0",
            "description_tooltip": null,
            "_model_module": "@jupyter-widgets/controls",
            "layout": "IPY_MODEL_a1ad4d6a2315483f9ad29703a22b6b39"
          }
        },
        "33415dbd8fa44329bf7cb8cabf3bae70": {
          "model_module": "@jupyter-widgets/controls",
          "model_name": "ProgressStyleModel",
          "state": {
            "_view_name": "StyleView",
            "_model_name": "ProgressStyleModel",
            "description_width": "initial",
            "_view_module": "@jupyter-widgets/base",
            "_model_module_version": "1.5.0",
            "_view_count": null,
            "_view_module_version": "1.2.0",
            "bar_color": null,
            "_model_module": "@jupyter-widgets/controls"
          }
        },
        "566f04c743a34e7fbbaf5b7097bad8f0": {
          "model_module": "@jupyter-widgets/base",
          "model_name": "LayoutModel",
          "state": {
            "_view_name": "LayoutView",
            "grid_template_rows": null,
            "right": null,
            "justify_content": null,
            "_view_module": "@jupyter-widgets/base",
            "overflow": null,
            "_model_module_version": "1.2.0",
            "_view_count": null,
            "flex_flow": null,
            "width": null,
            "min_width": null,
            "border": null,
            "align_items": null,
            "bottom": null,
            "_model_module": "@jupyter-widgets/base",
            "top": null,
            "grid_column": null,
            "overflow_y": null,
            "overflow_x": null,
            "grid_auto_flow": null,
            "grid_area": null,
            "grid_template_columns": null,
            "flex": null,
            "_model_name": "LayoutModel",
            "justify_items": null,
            "grid_row": null,
            "max_height": null,
            "align_content": null,
            "visibility": null,
            "align_self": null,
            "height": null,
            "min_height": null,
            "padding": null,
            "grid_auto_rows": null,
            "grid_gap": null,
            "max_width": null,
            "order": null,
            "_view_module_version": "1.2.0",
            "grid_template_areas": null,
            "object_position": null,
            "object_fit": null,
            "grid_auto_columns": null,
            "margin": null,
            "display": null,
            "left": null
          }
        },
        "a6a5570220a74ff19b5250ef37e1d029": {
          "model_module": "@jupyter-widgets/controls",
          "model_name": "DescriptionStyleModel",
          "state": {
            "_view_name": "StyleView",
            "_model_name": "DescriptionStyleModel",
            "description_width": "",
            "_view_module": "@jupyter-widgets/base",
            "_model_module_version": "1.5.0",
            "_view_count": null,
            "_view_module_version": "1.2.0",
            "_model_module": "@jupyter-widgets/controls"
          }
        },
        "a1ad4d6a2315483f9ad29703a22b6b39": {
          "model_module": "@jupyter-widgets/base",
          "model_name": "LayoutModel",
          "state": {
            "_view_name": "LayoutView",
            "grid_template_rows": null,
            "right": null,
            "justify_content": null,
            "_view_module": "@jupyter-widgets/base",
            "overflow": null,
            "_model_module_version": "1.2.0",
            "_view_count": null,
            "flex_flow": null,
            "width": null,
            "min_width": null,
            "border": null,
            "align_items": null,
            "bottom": null,
            "_model_module": "@jupyter-widgets/base",
            "top": null,
            "grid_column": null,
            "overflow_y": null,
            "overflow_x": null,
            "grid_auto_flow": null,
            "grid_area": null,
            "grid_template_columns": null,
            "flex": null,
            "_model_name": "LayoutModel",
            "justify_items": null,
            "grid_row": null,
            "max_height": null,
            "align_content": null,
            "visibility": null,
            "align_self": null,
            "height": null,
            "min_height": null,
            "padding": null,
            "grid_auto_rows": null,
            "grid_gap": null,
            "max_width": null,
            "order": null,
            "_view_module_version": "1.2.0",
            "grid_template_areas": null,
            "object_position": null,
            "object_fit": null,
            "grid_auto_columns": null,
            "margin": null,
            "display": null,
            "left": null
          }
        },
        "b5c62090f12b4f4a98933565c2afd8ec": {
          "model_module": "@jupyter-widgets/controls",
          "model_name": "HBoxModel",
          "state": {
            "_view_name": "HBoxView",
            "_dom_classes": [],
            "_model_name": "HBoxModel",
            "_view_module": "@jupyter-widgets/controls",
            "_model_module_version": "1.5.0",
            "_view_count": null,
            "_view_module_version": "1.5.0",
            "box_style": "",
            "layout": "IPY_MODEL_1b2c37cc064d4dddaf8c30ce12bb9099",
            "_model_module": "@jupyter-widgets/controls",
            "children": [
              "IPY_MODEL_bab5f8d3bab745a6b06fe6be134ccab8",
              "IPY_MODEL_ed389854cb5b4035a65638336ac4aa6f"
            ]
          }
        },
        "1b2c37cc064d4dddaf8c30ce12bb9099": {
          "model_module": "@jupyter-widgets/base",
          "model_name": "LayoutModel",
          "state": {
            "_view_name": "LayoutView",
            "grid_template_rows": null,
            "right": null,
            "justify_content": null,
            "_view_module": "@jupyter-widgets/base",
            "overflow": null,
            "_model_module_version": "1.2.0",
            "_view_count": null,
            "flex_flow": null,
            "width": null,
            "min_width": null,
            "border": null,
            "align_items": null,
            "bottom": null,
            "_model_module": "@jupyter-widgets/base",
            "top": null,
            "grid_column": null,
            "overflow_y": null,
            "overflow_x": null,
            "grid_auto_flow": null,
            "grid_area": null,
            "grid_template_columns": null,
            "flex": null,
            "_model_name": "LayoutModel",
            "justify_items": null,
            "grid_row": null,
            "max_height": null,
            "align_content": null,
            "visibility": null,
            "align_self": null,
            "height": null,
            "min_height": null,
            "padding": null,
            "grid_auto_rows": null,
            "grid_gap": null,
            "max_width": null,
            "order": null,
            "_view_module_version": "1.2.0",
            "grid_template_areas": null,
            "object_position": null,
            "object_fit": null,
            "grid_auto_columns": null,
            "margin": null,
            "display": null,
            "left": null
          }
        },
        "bab5f8d3bab745a6b06fe6be134ccab8": {
          "model_module": "@jupyter-widgets/controls",
          "model_name": "FloatProgressModel",
          "state": {
            "_view_name": "ProgressView",
            "style": "IPY_MODEL_10b876386e8b45868cfd208fe5d7e98f",
            "_dom_classes": [],
            "description": "Shuffling imdb_reviews-train.tfrecord...: 100%",
            "_model_name": "FloatProgressModel",
            "bar_style": "",
            "max": 25000,
            "_view_module": "@jupyter-widgets/controls",
            "_model_module_version": "1.5.0",
            "value": 25000,
            "_view_count": null,
            "_view_module_version": "1.5.0",
            "orientation": "horizontal",
            "min": 0,
            "description_tooltip": null,
            "_model_module": "@jupyter-widgets/controls",
            "layout": "IPY_MODEL_6650e999ba4343a882693f550f91cdb4"
          }
        },
        "ed389854cb5b4035a65638336ac4aa6f": {
          "model_module": "@jupyter-widgets/controls",
          "model_name": "HTMLModel",
          "state": {
            "_view_name": "HTMLView",
            "style": "IPY_MODEL_4285fbe70718409abcc0feb2756ff71b",
            "_dom_classes": [],
            "description": "",
            "_model_name": "HTMLModel",
            "placeholder": "​",
            "_view_module": "@jupyter-widgets/controls",
            "_model_module_version": "1.5.0",
            "value": " 25000/25000 [00:00&lt;00:00, 112028.50 examples/s]",
            "_view_count": null,
            "_view_module_version": "1.5.0",
            "description_tooltip": null,
            "_model_module": "@jupyter-widgets/controls",
            "layout": "IPY_MODEL_fa22c74b3ff34a2aae4f325e5350dd5d"
          }
        },
        "10b876386e8b45868cfd208fe5d7e98f": {
          "model_module": "@jupyter-widgets/controls",
          "model_name": "ProgressStyleModel",
          "state": {
            "_view_name": "StyleView",
            "_model_name": "ProgressStyleModel",
            "description_width": "initial",
            "_view_module": "@jupyter-widgets/base",
            "_model_module_version": "1.5.0",
            "_view_count": null,
            "_view_module_version": "1.2.0",
            "bar_color": null,
            "_model_module": "@jupyter-widgets/controls"
          }
        },
        "6650e999ba4343a882693f550f91cdb4": {
          "model_module": "@jupyter-widgets/base",
          "model_name": "LayoutModel",
          "state": {
            "_view_name": "LayoutView",
            "grid_template_rows": null,
            "right": null,
            "justify_content": null,
            "_view_module": "@jupyter-widgets/base",
            "overflow": null,
            "_model_module_version": "1.2.0",
            "_view_count": null,
            "flex_flow": null,
            "width": null,
            "min_width": null,
            "border": null,
            "align_items": null,
            "bottom": null,
            "_model_module": "@jupyter-widgets/base",
            "top": null,
            "grid_column": null,
            "overflow_y": null,
            "overflow_x": null,
            "grid_auto_flow": null,
            "grid_area": null,
            "grid_template_columns": null,
            "flex": null,
            "_model_name": "LayoutModel",
            "justify_items": null,
            "grid_row": null,
            "max_height": null,
            "align_content": null,
            "visibility": null,
            "align_self": null,
            "height": null,
            "min_height": null,
            "padding": null,
            "grid_auto_rows": null,
            "grid_gap": null,
            "max_width": null,
            "order": null,
            "_view_module_version": "1.2.0",
            "grid_template_areas": null,
            "object_position": null,
            "object_fit": null,
            "grid_auto_columns": null,
            "margin": null,
            "display": null,
            "left": null
          }
        },
        "4285fbe70718409abcc0feb2756ff71b": {
          "model_module": "@jupyter-widgets/controls",
          "model_name": "DescriptionStyleModel",
          "state": {
            "_view_name": "StyleView",
            "_model_name": "DescriptionStyleModel",
            "description_width": "",
            "_view_module": "@jupyter-widgets/base",
            "_model_module_version": "1.5.0",
            "_view_count": null,
            "_view_module_version": "1.2.0",
            "_model_module": "@jupyter-widgets/controls"
          }
        },
        "fa22c74b3ff34a2aae4f325e5350dd5d": {
          "model_module": "@jupyter-widgets/base",
          "model_name": "LayoutModel",
          "state": {
            "_view_name": "LayoutView",
            "grid_template_rows": null,
            "right": null,
            "justify_content": null,
            "_view_module": "@jupyter-widgets/base",
            "overflow": null,
            "_model_module_version": "1.2.0",
            "_view_count": null,
            "flex_flow": null,
            "width": null,
            "min_width": null,
            "border": null,
            "align_items": null,
            "bottom": null,
            "_model_module": "@jupyter-widgets/base",
            "top": null,
            "grid_column": null,
            "overflow_y": null,
            "overflow_x": null,
            "grid_auto_flow": null,
            "grid_area": null,
            "grid_template_columns": null,
            "flex": null,
            "_model_name": "LayoutModel",
            "justify_items": null,
            "grid_row": null,
            "max_height": null,
            "align_content": null,
            "visibility": null,
            "align_self": null,
            "height": null,
            "min_height": null,
            "padding": null,
            "grid_auto_rows": null,
            "grid_gap": null,
            "max_width": null,
            "order": null,
            "_view_module_version": "1.2.0",
            "grid_template_areas": null,
            "object_position": null,
            "object_fit": null,
            "grid_auto_columns": null,
            "margin": null,
            "display": null,
            "left": null
          }
        },
        "504233586ef84bcea0ac642dee926ce8": {
          "model_module": "@jupyter-widgets/controls",
          "model_name": "HBoxModel",
          "state": {
            "_view_name": "HBoxView",
            "_dom_classes": [],
            "_model_name": "HBoxModel",
            "_view_module": "@jupyter-widgets/controls",
            "_model_module_version": "1.5.0",
            "_view_count": null,
            "_view_module_version": "1.5.0",
            "box_style": "",
            "layout": "IPY_MODEL_a8b5b11ca6fb4c7bb01c870a4f64e8db",
            "_model_module": "@jupyter-widgets/controls",
            "children": [
              "IPY_MODEL_eaefd78780b74bdc85ff431d8bf19444",
              "IPY_MODEL_7c924d9e51ed4a7096da9d78d9535b19"
            ]
          }
        },
        "a8b5b11ca6fb4c7bb01c870a4f64e8db": {
          "model_module": "@jupyter-widgets/base",
          "model_name": "LayoutModel",
          "state": {
            "_view_name": "LayoutView",
            "grid_template_rows": null,
            "right": null,
            "justify_content": null,
            "_view_module": "@jupyter-widgets/base",
            "overflow": null,
            "_model_module_version": "1.2.0",
            "_view_count": null,
            "flex_flow": null,
            "width": null,
            "min_width": null,
            "border": null,
            "align_items": null,
            "bottom": null,
            "_model_module": "@jupyter-widgets/base",
            "top": null,
            "grid_column": null,
            "overflow_y": null,
            "overflow_x": null,
            "grid_auto_flow": null,
            "grid_area": null,
            "grid_template_columns": null,
            "flex": null,
            "_model_name": "LayoutModel",
            "justify_items": null,
            "grid_row": null,
            "max_height": null,
            "align_content": null,
            "visibility": null,
            "align_self": null,
            "height": null,
            "min_height": null,
            "padding": null,
            "grid_auto_rows": null,
            "grid_gap": null,
            "max_width": null,
            "order": null,
            "_view_module_version": "1.2.0",
            "grid_template_areas": null,
            "object_position": null,
            "object_fit": null,
            "grid_auto_columns": null,
            "margin": null,
            "display": null,
            "left": null
          }
        },
        "eaefd78780b74bdc85ff431d8bf19444": {
          "model_module": "@jupyter-widgets/controls",
          "model_name": "FloatProgressModel",
          "state": {
            "_view_name": "ProgressView",
            "style": "IPY_MODEL_d973fad1729247069b117ddb4994c901",
            "_dom_classes": [],
            "description": "Generating test examples...: 100%",
            "_model_name": "FloatProgressModel",
            "bar_style": "",
            "max": 25000,
            "_view_module": "@jupyter-widgets/controls",
            "_model_module_version": "1.5.0",
            "value": 25000,
            "_view_count": null,
            "_view_module_version": "1.5.0",
            "orientation": "horizontal",
            "min": 0,
            "description_tooltip": null,
            "_model_module": "@jupyter-widgets/controls",
            "layout": "IPY_MODEL_a2250cf177fe4c369a2e7fb523cfd590"
          }
        },
        "7c924d9e51ed4a7096da9d78d9535b19": {
          "model_module": "@jupyter-widgets/controls",
          "model_name": "HTMLModel",
          "state": {
            "_view_name": "HTMLView",
            "style": "IPY_MODEL_0b167d60499e4c55b208556f5b2d94ab",
            "_dom_classes": [],
            "description": "",
            "_model_name": "HTMLModel",
            "placeholder": "​",
            "_view_module": "@jupyter-widgets/controls",
            "_model_module_version": "1.5.0",
            "value": " 25000/25000 [00:13&lt;00:00, 3613.47 examples/s]",
            "_view_count": null,
            "_view_module_version": "1.5.0",
            "description_tooltip": null,
            "_model_module": "@jupyter-widgets/controls",
            "layout": "IPY_MODEL_9f0fe9cba7ca4bab8b5506041e6e7e06"
          }
        },
        "d973fad1729247069b117ddb4994c901": {
          "model_module": "@jupyter-widgets/controls",
          "model_name": "ProgressStyleModel",
          "state": {
            "_view_name": "StyleView",
            "_model_name": "ProgressStyleModel",
            "description_width": "initial",
            "_view_module": "@jupyter-widgets/base",
            "_model_module_version": "1.5.0",
            "_view_count": null,
            "_view_module_version": "1.2.0",
            "bar_color": null,
            "_model_module": "@jupyter-widgets/controls"
          }
        },
        "a2250cf177fe4c369a2e7fb523cfd590": {
          "model_module": "@jupyter-widgets/base",
          "model_name": "LayoutModel",
          "state": {
            "_view_name": "LayoutView",
            "grid_template_rows": null,
            "right": null,
            "justify_content": null,
            "_view_module": "@jupyter-widgets/base",
            "overflow": null,
            "_model_module_version": "1.2.0",
            "_view_count": null,
            "flex_flow": null,
            "width": null,
            "min_width": null,
            "border": null,
            "align_items": null,
            "bottom": null,
            "_model_module": "@jupyter-widgets/base",
            "top": null,
            "grid_column": null,
            "overflow_y": null,
            "overflow_x": null,
            "grid_auto_flow": null,
            "grid_area": null,
            "grid_template_columns": null,
            "flex": null,
            "_model_name": "LayoutModel",
            "justify_items": null,
            "grid_row": null,
            "max_height": null,
            "align_content": null,
            "visibility": null,
            "align_self": null,
            "height": null,
            "min_height": null,
            "padding": null,
            "grid_auto_rows": null,
            "grid_gap": null,
            "max_width": null,
            "order": null,
            "_view_module_version": "1.2.0",
            "grid_template_areas": null,
            "object_position": null,
            "object_fit": null,
            "grid_auto_columns": null,
            "margin": null,
            "display": null,
            "left": null
          }
        },
        "0b167d60499e4c55b208556f5b2d94ab": {
          "model_module": "@jupyter-widgets/controls",
          "model_name": "DescriptionStyleModel",
          "state": {
            "_view_name": "StyleView",
            "_model_name": "DescriptionStyleModel",
            "description_width": "",
            "_view_module": "@jupyter-widgets/base",
            "_model_module_version": "1.5.0",
            "_view_count": null,
            "_view_module_version": "1.2.0",
            "_model_module": "@jupyter-widgets/controls"
          }
        },
        "9f0fe9cba7ca4bab8b5506041e6e7e06": {
          "model_module": "@jupyter-widgets/base",
          "model_name": "LayoutModel",
          "state": {
            "_view_name": "LayoutView",
            "grid_template_rows": null,
            "right": null,
            "justify_content": null,
            "_view_module": "@jupyter-widgets/base",
            "overflow": null,
            "_model_module_version": "1.2.0",
            "_view_count": null,
            "flex_flow": null,
            "width": null,
            "min_width": null,
            "border": null,
            "align_items": null,
            "bottom": null,
            "_model_module": "@jupyter-widgets/base",
            "top": null,
            "grid_column": null,
            "overflow_y": null,
            "overflow_x": null,
            "grid_auto_flow": null,
            "grid_area": null,
            "grid_template_columns": null,
            "flex": null,
            "_model_name": "LayoutModel",
            "justify_items": null,
            "grid_row": null,
            "max_height": null,
            "align_content": null,
            "visibility": null,
            "align_self": null,
            "height": null,
            "min_height": null,
            "padding": null,
            "grid_auto_rows": null,
            "grid_gap": null,
            "max_width": null,
            "order": null,
            "_view_module_version": "1.2.0",
            "grid_template_areas": null,
            "object_position": null,
            "object_fit": null,
            "grid_auto_columns": null,
            "margin": null,
            "display": null,
            "left": null
          }
        },
        "c49bf48b58d448c298397b008a7d9871": {
          "model_module": "@jupyter-widgets/controls",
          "model_name": "HBoxModel",
          "state": {
            "_view_name": "HBoxView",
            "_dom_classes": [],
            "_model_name": "HBoxModel",
            "_view_module": "@jupyter-widgets/controls",
            "_model_module_version": "1.5.0",
            "_view_count": null,
            "_view_module_version": "1.5.0",
            "box_style": "",
            "layout": "IPY_MODEL_d74c1c1a97a84f0194506d5ca8f414a0",
            "_model_module": "@jupyter-widgets/controls",
            "children": [
              "IPY_MODEL_13ac4608eb4c4e2baf25b9a2732a3ee7",
              "IPY_MODEL_7ff3fb6d2c854099a1d7caf39eed03c2"
            ]
          }
        },
        "d74c1c1a97a84f0194506d5ca8f414a0": {
          "model_module": "@jupyter-widgets/base",
          "model_name": "LayoutModel",
          "state": {
            "_view_name": "LayoutView",
            "grid_template_rows": null,
            "right": null,
            "justify_content": null,
            "_view_module": "@jupyter-widgets/base",
            "overflow": null,
            "_model_module_version": "1.2.0",
            "_view_count": null,
            "flex_flow": null,
            "width": null,
            "min_width": null,
            "border": null,
            "align_items": null,
            "bottom": null,
            "_model_module": "@jupyter-widgets/base",
            "top": null,
            "grid_column": null,
            "overflow_y": null,
            "overflow_x": null,
            "grid_auto_flow": null,
            "grid_area": null,
            "grid_template_columns": null,
            "flex": null,
            "_model_name": "LayoutModel",
            "justify_items": null,
            "grid_row": null,
            "max_height": null,
            "align_content": null,
            "visibility": null,
            "align_self": null,
            "height": null,
            "min_height": null,
            "padding": null,
            "grid_auto_rows": null,
            "grid_gap": null,
            "max_width": null,
            "order": null,
            "_view_module_version": "1.2.0",
            "grid_template_areas": null,
            "object_position": null,
            "object_fit": null,
            "grid_auto_columns": null,
            "margin": null,
            "display": null,
            "left": null
          }
        },
        "13ac4608eb4c4e2baf25b9a2732a3ee7": {
          "model_module": "@jupyter-widgets/controls",
          "model_name": "FloatProgressModel",
          "state": {
            "_view_name": "ProgressView",
            "style": "IPY_MODEL_be84acce74994a1f990d00c70b0a7bfc",
            "_dom_classes": [],
            "description": "Shuffling imdb_reviews-test.tfrecord...: 100%",
            "_model_name": "FloatProgressModel",
            "bar_style": "",
            "max": 25000,
            "_view_module": "@jupyter-widgets/controls",
            "_model_module_version": "1.5.0",
            "value": 25000,
            "_view_count": null,
            "_view_module_version": "1.5.0",
            "orientation": "horizontal",
            "min": 0,
            "description_tooltip": null,
            "_model_module": "@jupyter-widgets/controls",
            "layout": "IPY_MODEL_139e2a6334c241bd87775576ef60b101"
          }
        },
        "7ff3fb6d2c854099a1d7caf39eed03c2": {
          "model_module": "@jupyter-widgets/controls",
          "model_name": "HTMLModel",
          "state": {
            "_view_name": "HTMLView",
            "style": "IPY_MODEL_70879a8b727f457495c79667014365ca",
            "_dom_classes": [],
            "description": "",
            "_model_name": "HTMLModel",
            "placeholder": "​",
            "_view_module": "@jupyter-widgets/controls",
            "_model_module_version": "1.5.0",
            "value": " 25000/25000 [00:00&lt;00:00, 113486.59 examples/s]",
            "_view_count": null,
            "_view_module_version": "1.5.0",
            "description_tooltip": null,
            "_model_module": "@jupyter-widgets/controls",
            "layout": "IPY_MODEL_de8b224c85d147b8bbb54ef96ee497c4"
          }
        },
        "be84acce74994a1f990d00c70b0a7bfc": {
          "model_module": "@jupyter-widgets/controls",
          "model_name": "ProgressStyleModel",
          "state": {
            "_view_name": "StyleView",
            "_model_name": "ProgressStyleModel",
            "description_width": "initial",
            "_view_module": "@jupyter-widgets/base",
            "_model_module_version": "1.5.0",
            "_view_count": null,
            "_view_module_version": "1.2.0",
            "bar_color": null,
            "_model_module": "@jupyter-widgets/controls"
          }
        },
        "139e2a6334c241bd87775576ef60b101": {
          "model_module": "@jupyter-widgets/base",
          "model_name": "LayoutModel",
          "state": {
            "_view_name": "LayoutView",
            "grid_template_rows": null,
            "right": null,
            "justify_content": null,
            "_view_module": "@jupyter-widgets/base",
            "overflow": null,
            "_model_module_version": "1.2.0",
            "_view_count": null,
            "flex_flow": null,
            "width": null,
            "min_width": null,
            "border": null,
            "align_items": null,
            "bottom": null,
            "_model_module": "@jupyter-widgets/base",
            "top": null,
            "grid_column": null,
            "overflow_y": null,
            "overflow_x": null,
            "grid_auto_flow": null,
            "grid_area": null,
            "grid_template_columns": null,
            "flex": null,
            "_model_name": "LayoutModel",
            "justify_items": null,
            "grid_row": null,
            "max_height": null,
            "align_content": null,
            "visibility": null,
            "align_self": null,
            "height": null,
            "min_height": null,
            "padding": null,
            "grid_auto_rows": null,
            "grid_gap": null,
            "max_width": null,
            "order": null,
            "_view_module_version": "1.2.0",
            "grid_template_areas": null,
            "object_position": null,
            "object_fit": null,
            "grid_auto_columns": null,
            "margin": null,
            "display": null,
            "left": null
          }
        },
        "70879a8b727f457495c79667014365ca": {
          "model_module": "@jupyter-widgets/controls",
          "model_name": "DescriptionStyleModel",
          "state": {
            "_view_name": "StyleView",
            "_model_name": "DescriptionStyleModel",
            "description_width": "",
            "_view_module": "@jupyter-widgets/base",
            "_model_module_version": "1.5.0",
            "_view_count": null,
            "_view_module_version": "1.2.0",
            "_model_module": "@jupyter-widgets/controls"
          }
        },
        "de8b224c85d147b8bbb54ef96ee497c4": {
          "model_module": "@jupyter-widgets/base",
          "model_name": "LayoutModel",
          "state": {
            "_view_name": "LayoutView",
            "grid_template_rows": null,
            "right": null,
            "justify_content": null,
            "_view_module": "@jupyter-widgets/base",
            "overflow": null,
            "_model_module_version": "1.2.0",
            "_view_count": null,
            "flex_flow": null,
            "width": null,
            "min_width": null,
            "border": null,
            "align_items": null,
            "bottom": null,
            "_model_module": "@jupyter-widgets/base",
            "top": null,
            "grid_column": null,
            "overflow_y": null,
            "overflow_x": null,
            "grid_auto_flow": null,
            "grid_area": null,
            "grid_template_columns": null,
            "flex": null,
            "_model_name": "LayoutModel",
            "justify_items": null,
            "grid_row": null,
            "max_height": null,
            "align_content": null,
            "visibility": null,
            "align_self": null,
            "height": null,
            "min_height": null,
            "padding": null,
            "grid_auto_rows": null,
            "grid_gap": null,
            "max_width": null,
            "order": null,
            "_view_module_version": "1.2.0",
            "grid_template_areas": null,
            "object_position": null,
            "object_fit": null,
            "grid_auto_columns": null,
            "margin": null,
            "display": null,
            "left": null
          }
        },
        "c5d25d4f654e4f0db8516af4d60a461f": {
          "model_module": "@jupyter-widgets/controls",
          "model_name": "HBoxModel",
          "state": {
            "_view_name": "HBoxView",
            "_dom_classes": [],
            "_model_name": "HBoxModel",
            "_view_module": "@jupyter-widgets/controls",
            "_model_module_version": "1.5.0",
            "_view_count": null,
            "_view_module_version": "1.5.0",
            "box_style": "",
            "layout": "IPY_MODEL_12d1544d9c6e46d3b03acbe5244f64a0",
            "_model_module": "@jupyter-widgets/controls",
            "children": [
              "IPY_MODEL_b5c93f42a77e47aebdf8feb33c76f673",
              "IPY_MODEL_06419def75f7409e860a9becf375e34c"
            ]
          }
        },
        "12d1544d9c6e46d3b03acbe5244f64a0": {
          "model_module": "@jupyter-widgets/base",
          "model_name": "LayoutModel",
          "state": {
            "_view_name": "LayoutView",
            "grid_template_rows": null,
            "right": null,
            "justify_content": null,
            "_view_module": "@jupyter-widgets/base",
            "overflow": null,
            "_model_module_version": "1.2.0",
            "_view_count": null,
            "flex_flow": null,
            "width": null,
            "min_width": null,
            "border": null,
            "align_items": null,
            "bottom": null,
            "_model_module": "@jupyter-widgets/base",
            "top": null,
            "grid_column": null,
            "overflow_y": null,
            "overflow_x": null,
            "grid_auto_flow": null,
            "grid_area": null,
            "grid_template_columns": null,
            "flex": null,
            "_model_name": "LayoutModel",
            "justify_items": null,
            "grid_row": null,
            "max_height": null,
            "align_content": null,
            "visibility": null,
            "align_self": null,
            "height": null,
            "min_height": null,
            "padding": null,
            "grid_auto_rows": null,
            "grid_gap": null,
            "max_width": null,
            "order": null,
            "_view_module_version": "1.2.0",
            "grid_template_areas": null,
            "object_position": null,
            "object_fit": null,
            "grid_auto_columns": null,
            "margin": null,
            "display": null,
            "left": null
          }
        },
        "b5c93f42a77e47aebdf8feb33c76f673": {
          "model_module": "@jupyter-widgets/controls",
          "model_name": "FloatProgressModel",
          "state": {
            "_view_name": "ProgressView",
            "style": "IPY_MODEL_4e447734a4254933a0b732dbb0fbaab4",
            "_dom_classes": [],
            "description": "Generating unsupervised examples...: 100%",
            "_model_name": "FloatProgressModel",
            "bar_style": "",
            "max": 50000,
            "_view_module": "@jupyter-widgets/controls",
            "_model_module_version": "1.5.0",
            "value": 50000,
            "_view_count": null,
            "_view_module_version": "1.5.0",
            "orientation": "horizontal",
            "min": 0,
            "description_tooltip": null,
            "_model_module": "@jupyter-widgets/controls",
            "layout": "IPY_MODEL_51af6f50285246f98f1d9f364fef0938"
          }
        },
        "06419def75f7409e860a9becf375e34c": {
          "model_module": "@jupyter-widgets/controls",
          "model_name": "HTMLModel",
          "state": {
            "_view_name": "HTMLView",
            "style": "IPY_MODEL_acaa17e24d274207818776a32df97e13",
            "_dom_classes": [],
            "description": "",
            "_model_name": "HTMLModel",
            "placeholder": "​",
            "_view_module": "@jupyter-widgets/controls",
            "_model_module_version": "1.5.0",
            "value": " 50000/50000 [00:18&lt;00:00, 3422.58 examples/s]",
            "_view_count": null,
            "_view_module_version": "1.5.0",
            "description_tooltip": null,
            "_model_module": "@jupyter-widgets/controls",
            "layout": "IPY_MODEL_5fdb3bd1b3194d05a8d4b8c8103284a4"
          }
        },
        "4e447734a4254933a0b732dbb0fbaab4": {
          "model_module": "@jupyter-widgets/controls",
          "model_name": "ProgressStyleModel",
          "state": {
            "_view_name": "StyleView",
            "_model_name": "ProgressStyleModel",
            "description_width": "initial",
            "_view_module": "@jupyter-widgets/base",
            "_model_module_version": "1.5.0",
            "_view_count": null,
            "_view_module_version": "1.2.0",
            "bar_color": null,
            "_model_module": "@jupyter-widgets/controls"
          }
        },
        "51af6f50285246f98f1d9f364fef0938": {
          "model_module": "@jupyter-widgets/base",
          "model_name": "LayoutModel",
          "state": {
            "_view_name": "LayoutView",
            "grid_template_rows": null,
            "right": null,
            "justify_content": null,
            "_view_module": "@jupyter-widgets/base",
            "overflow": null,
            "_model_module_version": "1.2.0",
            "_view_count": null,
            "flex_flow": null,
            "width": null,
            "min_width": null,
            "border": null,
            "align_items": null,
            "bottom": null,
            "_model_module": "@jupyter-widgets/base",
            "top": null,
            "grid_column": null,
            "overflow_y": null,
            "overflow_x": null,
            "grid_auto_flow": null,
            "grid_area": null,
            "grid_template_columns": null,
            "flex": null,
            "_model_name": "LayoutModel",
            "justify_items": null,
            "grid_row": null,
            "max_height": null,
            "align_content": null,
            "visibility": null,
            "align_self": null,
            "height": null,
            "min_height": null,
            "padding": null,
            "grid_auto_rows": null,
            "grid_gap": null,
            "max_width": null,
            "order": null,
            "_view_module_version": "1.2.0",
            "grid_template_areas": null,
            "object_position": null,
            "object_fit": null,
            "grid_auto_columns": null,
            "margin": null,
            "display": null,
            "left": null
          }
        },
        "acaa17e24d274207818776a32df97e13": {
          "model_module": "@jupyter-widgets/controls",
          "model_name": "DescriptionStyleModel",
          "state": {
            "_view_name": "StyleView",
            "_model_name": "DescriptionStyleModel",
            "description_width": "",
            "_view_module": "@jupyter-widgets/base",
            "_model_module_version": "1.5.0",
            "_view_count": null,
            "_view_module_version": "1.2.0",
            "_model_module": "@jupyter-widgets/controls"
          }
        },
        "5fdb3bd1b3194d05a8d4b8c8103284a4": {
          "model_module": "@jupyter-widgets/base",
          "model_name": "LayoutModel",
          "state": {
            "_view_name": "LayoutView",
            "grid_template_rows": null,
            "right": null,
            "justify_content": null,
            "_view_module": "@jupyter-widgets/base",
            "overflow": null,
            "_model_module_version": "1.2.0",
            "_view_count": null,
            "flex_flow": null,
            "width": null,
            "min_width": null,
            "border": null,
            "align_items": null,
            "bottom": null,
            "_model_module": "@jupyter-widgets/base",
            "top": null,
            "grid_column": null,
            "overflow_y": null,
            "overflow_x": null,
            "grid_auto_flow": null,
            "grid_area": null,
            "grid_template_columns": null,
            "flex": null,
            "_model_name": "LayoutModel",
            "justify_items": null,
            "grid_row": null,
            "max_height": null,
            "align_content": null,
            "visibility": null,
            "align_self": null,
            "height": null,
            "min_height": null,
            "padding": null,
            "grid_auto_rows": null,
            "grid_gap": null,
            "max_width": null,
            "order": null,
            "_view_module_version": "1.2.0",
            "grid_template_areas": null,
            "object_position": null,
            "object_fit": null,
            "grid_auto_columns": null,
            "margin": null,
            "display": null,
            "left": null
          }
        },
        "71449d3f4a0a4b41879676ac8e868c5b": {
          "model_module": "@jupyter-widgets/controls",
          "model_name": "HBoxModel",
          "state": {
            "_view_name": "HBoxView",
            "_dom_classes": [],
            "_model_name": "HBoxModel",
            "_view_module": "@jupyter-widgets/controls",
            "_model_module_version": "1.5.0",
            "_view_count": null,
            "_view_module_version": "1.5.0",
            "box_style": "",
            "layout": "IPY_MODEL_5c89011fd004490c97d4a7e99bbba09e",
            "_model_module": "@jupyter-widgets/controls",
            "children": [
              "IPY_MODEL_8df982caee68497a8613be87748b4008",
              "IPY_MODEL_a85fc1004ac4401cb90b04f50017606b"
            ]
          }
        },
        "5c89011fd004490c97d4a7e99bbba09e": {
          "model_module": "@jupyter-widgets/base",
          "model_name": "LayoutModel",
          "state": {
            "_view_name": "LayoutView",
            "grid_template_rows": null,
            "right": null,
            "justify_content": null,
            "_view_module": "@jupyter-widgets/base",
            "overflow": null,
            "_model_module_version": "1.2.0",
            "_view_count": null,
            "flex_flow": null,
            "width": null,
            "min_width": null,
            "border": null,
            "align_items": null,
            "bottom": null,
            "_model_module": "@jupyter-widgets/base",
            "top": null,
            "grid_column": null,
            "overflow_y": null,
            "overflow_x": null,
            "grid_auto_flow": null,
            "grid_area": null,
            "grid_template_columns": null,
            "flex": null,
            "_model_name": "LayoutModel",
            "justify_items": null,
            "grid_row": null,
            "max_height": null,
            "align_content": null,
            "visibility": null,
            "align_self": null,
            "height": null,
            "min_height": null,
            "padding": null,
            "grid_auto_rows": null,
            "grid_gap": null,
            "max_width": null,
            "order": null,
            "_view_module_version": "1.2.0",
            "grid_template_areas": null,
            "object_position": null,
            "object_fit": null,
            "grid_auto_columns": null,
            "margin": null,
            "display": null,
            "left": null
          }
        },
        "8df982caee68497a8613be87748b4008": {
          "model_module": "@jupyter-widgets/controls",
          "model_name": "FloatProgressModel",
          "state": {
            "_view_name": "ProgressView",
            "style": "IPY_MODEL_b7728c413a9d46feae2ee067834725c8",
            "_dom_classes": [],
            "description": "Shuffling imdb_reviews-unsupervised.tfrecord...: 100%",
            "_model_name": "FloatProgressModel",
            "bar_style": "",
            "max": 50000,
            "_view_module": "@jupyter-widgets/controls",
            "_model_module_version": "1.5.0",
            "value": 50000,
            "_view_count": null,
            "_view_module_version": "1.5.0",
            "orientation": "horizontal",
            "min": 0,
            "description_tooltip": null,
            "_model_module": "@jupyter-widgets/controls",
            "layout": "IPY_MODEL_d3441311df964504ac4ab09d0692e96c"
          }
        },
        "a85fc1004ac4401cb90b04f50017606b": {
          "model_module": "@jupyter-widgets/controls",
          "model_name": "HTMLModel",
          "state": {
            "_view_name": "HTMLView",
            "style": "IPY_MODEL_3f10a9e2c2714beaa9ac647d261bcc47",
            "_dom_classes": [],
            "description": "",
            "_model_name": "HTMLModel",
            "placeholder": "​",
            "_view_module": "@jupyter-widgets/controls",
            "_model_module_version": "1.5.0",
            "value": " 50000/50000 [00:00&lt;00:00, 49235.69 examples/s]",
            "_view_count": null,
            "_view_module_version": "1.5.0",
            "description_tooltip": null,
            "_model_module": "@jupyter-widgets/controls",
            "layout": "IPY_MODEL_fa122be4f9404f719bd54698f6ccc094"
          }
        },
        "b7728c413a9d46feae2ee067834725c8": {
          "model_module": "@jupyter-widgets/controls",
          "model_name": "ProgressStyleModel",
          "state": {
            "_view_name": "StyleView",
            "_model_name": "ProgressStyleModel",
            "description_width": "initial",
            "_view_module": "@jupyter-widgets/base",
            "_model_module_version": "1.5.0",
            "_view_count": null,
            "_view_module_version": "1.2.0",
            "bar_color": null,
            "_model_module": "@jupyter-widgets/controls"
          }
        },
        "d3441311df964504ac4ab09d0692e96c": {
          "model_module": "@jupyter-widgets/base",
          "model_name": "LayoutModel",
          "state": {
            "_view_name": "LayoutView",
            "grid_template_rows": null,
            "right": null,
            "justify_content": null,
            "_view_module": "@jupyter-widgets/base",
            "overflow": null,
            "_model_module_version": "1.2.0",
            "_view_count": null,
            "flex_flow": null,
            "width": null,
            "min_width": null,
            "border": null,
            "align_items": null,
            "bottom": null,
            "_model_module": "@jupyter-widgets/base",
            "top": null,
            "grid_column": null,
            "overflow_y": null,
            "overflow_x": null,
            "grid_auto_flow": null,
            "grid_area": null,
            "grid_template_columns": null,
            "flex": null,
            "_model_name": "LayoutModel",
            "justify_items": null,
            "grid_row": null,
            "max_height": null,
            "align_content": null,
            "visibility": null,
            "align_self": null,
            "height": null,
            "min_height": null,
            "padding": null,
            "grid_auto_rows": null,
            "grid_gap": null,
            "max_width": null,
            "order": null,
            "_view_module_version": "1.2.0",
            "grid_template_areas": null,
            "object_position": null,
            "object_fit": null,
            "grid_auto_columns": null,
            "margin": null,
            "display": null,
            "left": null
          }
        },
        "3f10a9e2c2714beaa9ac647d261bcc47": {
          "model_module": "@jupyter-widgets/controls",
          "model_name": "DescriptionStyleModel",
          "state": {
            "_view_name": "StyleView",
            "_model_name": "DescriptionStyleModel",
            "description_width": "",
            "_view_module": "@jupyter-widgets/base",
            "_model_module_version": "1.5.0",
            "_view_count": null,
            "_view_module_version": "1.2.0",
            "_model_module": "@jupyter-widgets/controls"
          }
        },
        "fa122be4f9404f719bd54698f6ccc094": {
          "model_module": "@jupyter-widgets/base",
          "model_name": "LayoutModel",
          "state": {
            "_view_name": "LayoutView",
            "grid_template_rows": null,
            "right": null,
            "justify_content": null,
            "_view_module": "@jupyter-widgets/base",
            "overflow": null,
            "_model_module_version": "1.2.0",
            "_view_count": null,
            "flex_flow": null,
            "width": null,
            "min_width": null,
            "border": null,
            "align_items": null,
            "bottom": null,
            "_model_module": "@jupyter-widgets/base",
            "top": null,
            "grid_column": null,
            "overflow_y": null,
            "overflow_x": null,
            "grid_auto_flow": null,
            "grid_area": null,
            "grid_template_columns": null,
            "flex": null,
            "_model_name": "LayoutModel",
            "justify_items": null,
            "grid_row": null,
            "max_height": null,
            "align_content": null,
            "visibility": null,
            "align_self": null,
            "height": null,
            "min_height": null,
            "padding": null,
            "grid_auto_rows": null,
            "grid_gap": null,
            "max_width": null,
            "order": null,
            "_view_module_version": "1.2.0",
            "grid_template_areas": null,
            "object_position": null,
            "object_fit": null,
            "grid_auto_columns": null,
            "margin": null,
            "display": null,
            "left": null
          }
        }
      }
    }
  },
  "cells": [
    {
      "cell_type": "markdown",
      "metadata": {
        "id": "jMRhbdksT3eV"
      },
      "source": [
        "# Keras를 사용한 ML 기본사항"
      ]
    },
    {
      "cell_type": "markdown",
      "metadata": {
        "id": "XBto96weUHbo"
      },
      "source": [
        "## 기본 이미지 분류"
      ]
    },
    {
      "cell_type": "markdown",
      "metadata": {
        "id": "1IS3g_fjUJrO"
      },
      "source": [
        "### 첫 번쨰 신경망 훈련하기: 기초적인 분류 문제"
      ]
    },
    {
      "cell_type": "code",
      "metadata": {
        "colab": {
          "base_uri": "https://localhost:8080/"
        },
        "id": "kYXEV5GpUWmi",
        "outputId": "bc6210bb-59c1-4ed2-84cc-bd86cfcfc482"
      },
      "source": [
        "import tensorflow as tf\n",
        "from tensorflow import keras\n",
        "\n",
        "import numpy as np\n",
        "import matplotlib.pyplot as plt\n",
        "\n",
        "print(tf.__version__)"
      ],
      "execution_count": null,
      "outputs": [
        {
          "output_type": "stream",
          "text": [
            "2.4.1\n"
          ],
          "name": "stdout"
        }
      ]
    },
    {
      "cell_type": "markdown",
      "metadata": {
        "id": "7gokZmsKUQe3"
      },
      "source": [
        "#### 패션 MNIST 데이터셋 임포트하기\n",
        "- 10개의 카테고리\n",
        "- 70,000개의 28x28픽셀 흑백 이미지"
      ]
    },
    {
      "cell_type": "code",
      "metadata": {
        "id": "GgIqqtRaUVB5"
      },
      "source": [
        "fashion_mnist = keras.datasets.fashion_mnist\n",
        "\n",
        "# load_data() 함수를 호출하면 넘파이 배열 반환\n",
        "(train_images, train_labels), (test_images, test_labels) = fashion_mnist.load_data()"
      ],
      "execution_count": null,
      "outputs": []
    },
    {
      "cell_type": "code",
      "metadata": {
        "id": "WA08-1XCVDsi"
      },
      "source": [
        "# 각 이미지는 하나의 레이블에 매핑되어 있음.\n",
        "# 레이블은 0에서 9까지의 정수 배열\n",
        "# 나중에 이미지를 출력하기 위한 카테고리 리스트 저장\n",
        "class_names = ['T-shirt/top', 'Trouser', 'Pullover', 'Dress', 'Coat',\n",
        "               'Sandal', 'Shirt', 'Sneaker', 'Bag', 'Ankle boot']"
      ],
      "execution_count": null,
      "outputs": []
    },
    {
      "cell_type": "code",
      "metadata": {
        "colab": {
          "base_uri": "https://localhost:8080/"
        },
        "id": "Nr2AegiOVkCH",
        "outputId": "16857b49-c839-40ae-cb1f-a31f76dc7afa"
      },
      "source": [
        "# 60,000개의 이미지, 28x28 픽셀\n",
        "train_images.shape"
      ],
      "execution_count": null,
      "outputs": [
        {
          "output_type": "execute_result",
          "data": {
            "text/plain": [
              "(60000, 28, 28)"
            ]
          },
          "metadata": {
            "tags": []
          },
          "execution_count": 4
        }
      ]
    },
    {
      "cell_type": "code",
      "metadata": {
        "colab": {
          "base_uri": "https://localhost:8080/"
        },
        "id": "y4-ibl1UVj8z",
        "outputId": "b8909b61-09b8-4dc8-e45d-e55841ef3242"
      },
      "source": [
        "len(train_labels)"
      ],
      "execution_count": null,
      "outputs": [
        {
          "output_type": "execute_result",
          "data": {
            "text/plain": [
              "60000"
            ]
          },
          "metadata": {
            "tags": []
          },
          "execution_count": 5
        }
      ]
    },
    {
      "cell_type": "code",
      "metadata": {
        "colab": {
          "base_uri": "https://localhost:8080/"
        },
        "id": "hBykVlIRVj6M",
        "outputId": "4633c64a-df25-4f27-e72d-9aa8048f71f4"
      },
      "source": [
        "train_labels"
      ],
      "execution_count": null,
      "outputs": [
        {
          "output_type": "execute_result",
          "data": {
            "text/plain": [
              "array([9, 0, 0, ..., 3, 0, 5], dtype=uint8)"
            ]
          },
          "metadata": {
            "tags": []
          },
          "execution_count": 6
        }
      ]
    },
    {
      "cell_type": "code",
      "metadata": {
        "colab": {
          "base_uri": "https://localhost:8080/"
        },
        "id": "N8Di2uB5Vj3R",
        "outputId": "a375cbf5-b4fd-4393-d06f-f5fcfe70dcdb"
      },
      "source": [
        "# 10,000개의 이미지, 28x28 픽셀\n",
        "test_images.shape"
      ],
      "execution_count": null,
      "outputs": [
        {
          "output_type": "execute_result",
          "data": {
            "text/plain": [
              "(10000, 28, 28)"
            ]
          },
          "metadata": {
            "tags": []
          },
          "execution_count": 7
        }
      ]
    },
    {
      "cell_type": "code",
      "metadata": {
        "colab": {
          "base_uri": "https://localhost:8080/"
        },
        "id": "qKgQ2ri5Vj0c",
        "outputId": "dd9c2e58-0f1c-4b27-8f4c-8d360803b016"
      },
      "source": [
        "len(test_labels)"
      ],
      "execution_count": null,
      "outputs": [
        {
          "output_type": "execute_result",
          "data": {
            "text/plain": [
              "10000"
            ]
          },
          "metadata": {
            "tags": []
          },
          "execution_count": 8
        }
      ]
    },
    {
      "cell_type": "markdown",
      "metadata": {
        "id": "jSQ0zCb9Vjxk"
      },
      "source": [
        "#### 데이터 전처리\n",
        "- 픽셀 값의 범위는 0~255"
      ]
    },
    {
      "cell_type": "code",
      "metadata": {
        "colab": {
          "base_uri": "https://localhost:8080/",
          "height": 265
        },
        "id": "Qd_M72lSVjsa",
        "outputId": "eb2a3e98-1509-4f71-a01d-6150b6b6560d"
      },
      "source": [
        "plt.figure()\n",
        "plt.imshow(train_images[0])\n",
        "plt.colorbar()\n",
        "plt.grid(False)\n",
        "plt.show()"
      ],
      "execution_count": null,
      "outputs": [
        {
          "output_type": "display_data",
          "data": {
            "image/png": "[encoded data removed]",
            "text/plain": [
              "<Figure size 432x288 with 2 Axes>"
            ]
          },
          "metadata": {
            "tags": [],
            "needs_background": "light"
          }
        }
      ]
    },
    {
      "cell_type": "code",
      "metadata": {
        "id": "SFTh-VwaWgcE"
      },
      "source": [
        "# 값의 범위를 0~1 사이로 조정\n",
        "train_images = train_images / 255.0\n",
        "test_images = test_images / 255.0"
      ],
      "execution_count": null,
      "outputs": []
    },
    {
      "cell_type": "code",
      "metadata": {
        "colab": {
          "base_uri": "https://localhost:8080/",
          "height": 589
        },
        "id": "rlbGLkIgcqet",
        "outputId": "b8fe1d34-8a5a-45df-b97e-8c08f6f98dc0"
      },
      "source": [
        "# 훈련 세트에서 처음 25개 이미지와 클래스 이름 출력\n",
        "plt. figure(figsize=(10, 10))\n",
        "for i in range(25):\n",
        "    plt.subplot(5, 5, i+1)\n",
        "    plt.xticks([])\n",
        "    plt.yticks([])\n",
        "    plt.grid(False)\n",
        "    plt.imshow(train_images[i], cmap=plt.cm.binary)\n",
        "    plt.xlabel(class_names[train_labels[i]])\n",
        "plt.show()"
      ],
      "execution_count": null,
      "outputs": [
        {
          "output_type": "display_data",
          "data": {
            "image/png": "[encoded data removed]",
            "text/plain": [
              "<Figure size 720x720 with 25 Axes>"
            ]
          },
          "metadata": {
            "tags": []
          }
        }
      ]
    },
    {
      "cell_type": "markdown",
      "metadata": {
        "id": "dL47Y9YSdFwR"
      },
      "source": [
        "#### 모델 구성\n",
        "- 신경망 모델을 만들려면 모델의 층을 구성한 다음 모델을 컴파일"
      ]
    },
    {
      "cell_type": "markdown",
      "metadata": {
        "id": "DXXhVOrhkd8b"
      },
      "source": [
        "##### 층 설정\n",
        "- 신경망의 기본 구성 요소는 층(layer)임. 층은 주입된 데이터에서 표현을 추출함."
      ]
    },
    {
      "cell_type": "code",
      "metadata": {
        "id": "xnNYKYlNkh8d"
      },
      "source": [
        "'''\n",
        "첫 번째 층은 2차원 배열의 이미지 포맷을 28 * 28 = 784 픽셀의 1차원 배열로 변환함.\n",
        "나머지 두 개의 층을 밀집 연결 또는 완전 연결 층이라고 부름.\n",
        "첫 번째의 층은 128개의 노드(뉴런)을 가짐.\n",
        "마지막 층은 10개의 확률을 반환하고 반환된 값의 전체 합은 1임\n",
        "'''\n",
        "model = keras.Sequential([\n",
        "                          keras.layers.Dense(128, activation='relu'),\n",
        "                          keras.layers.Flatten(input_shape=(28, 28)),\n",
        "                          keras.layers.Dense(10, activation='softmax')\n",
        "])"
      ],
      "execution_count": null,
      "outputs": []
    },
    {
      "cell_type": "markdown",
      "metadata": {
        "id": "zf6f1rflkh5s"
      },
      "source": [
        "##### 모델 컴파일\n",
        "- 손실 함수(Loss function) - 훈련 하는 동안 모델의 오차를 측정. 모델의 학습이 올바른 방향으로 향하도록 이 함수를 최소화해야함.\n",
        "- 옵티마이저(Optimizer) - 데이터와 손실 함수를 바탕으로 모델의 업데이트 방법을 결정\n",
        "- 지표(Metrics) - 훈련 단계와 테스트 단계를 모니터링하기 위해 사용"
      ]
    },
    {
      "cell_type": "code",
      "metadata": {
        "id": "wE_GROvvkh29"
      },
      "source": [
        "'''\n",
        "1. categorical_crossentropy\n",
        "출력 값이 one-hot encoding된 결과로 나온다. -> label(y)을 one-hot encoding해서 넣어줘야 함\n",
        "클래스가 상호 배타적일 경우(e.g. 각 샘플이 정확히 하나의 클래스에 속하는 경우) 사용\n",
        " \n",
        "2. sparse_categorical_crossentropy\n",
        "integer type 클래스 -> one-hot encoding하지 않고 정수 형태로 label(y)을 넣어줌\n",
        "한 샘플에 여러 클래스가 있거나 label이 soft 확률일 경우 사용\n",
        "'''\n",
        "model.compile(optimizer='adam',\n",
        "              loss='sparse_categorical_crossentropy',\n",
        "              metrics=['accuracy'])"
      ],
      "execution_count": null,
      "outputs": []
    },
    {
      "cell_type": "markdown",
      "metadata": {
        "id": "cCwEcxVDkh0H"
      },
      "source": [
        "#### 모델 훈련\n",
        "1. 훈련 데이터를 모델에 주입\n",
        "2. 모델이 이미지와 레이블을 매핑하는 방법을 학습\n",
        "3. 테스트 세트에 대한 모델의 예측을 만듬. 이 예측이 test_labels 배열의 레이블과 맞는지 확인"
      ]
    },
    {
      "cell_type": "code",
      "metadata": {
        "colab": {
          "base_uri": "https://localhost:8080/"
        },
        "id": "ZiC6Q55HkhxR",
        "outputId": "021d972a-1198-45ed-d981-365fc664e6cb"
      },
      "source": [
        "# 훈련을 시작하기 위해 model.fit 메서드 호출\n",
        "model.fit(train_images, train_labels, epochs=5)"
      ],
      "execution_count": null,
      "outputs": [
        {
          "output_type": "stream",
          "text": [
            "Epoch 1/5\n",
            "1875/1875 [==============================] - 4s 2ms/step - loss: 0.5939 - accuracy: 0.7938\n",
            "Epoch 2/5\n",
            "1875/1875 [==============================] - 3s 2ms/step - loss: 0.3449 - accuracy: 0.8757\n",
            "Epoch 3/5\n",
            "1875/1875 [==============================] - 3s 2ms/step - loss: 0.3151 - accuracy: 0.8868\n",
            "Epoch 4/5\n",
            "1875/1875 [==============================] - 3s 2ms/step - loss: 0.2847 - accuracy: 0.8988\n",
            "Epoch 5/5\n",
            "1875/1875 [==============================] - 3s 2ms/step - loss: 0.2750 - accuracy: 0.9016\n"
          ],
          "name": "stdout"
        },
        {
          "output_type": "execute_result",
          "data": {
            "text/plain": [
              "<tensorflow.python.keras.callbacks.History at 0x7f2fe027fa50>"
            ]
          },
          "metadata": {
            "tags": []
          },
          "execution_count": 14
        }
      ]
    },
    {
      "cell_type": "markdown",
      "metadata": {
        "id": "powpGm23khun"
      },
      "source": [
        "#### 정확도 평가"
      ]
    },
    {
      "cell_type": "code",
      "metadata": {
        "colab": {
          "base_uri": "https://localhost:8080/"
        },
        "id": "H2q_ZFyfkhsB",
        "outputId": "8dfd3a22-a0f9-42da-ace3-8d97c72c501b"
      },
      "source": [
        "test_loss, test_acc = model.evaluate(test_images, test_labels, verbose=2)\n",
        "print('\\n테스트 정확도:', test_acc)"
      ],
      "execution_count": null,
      "outputs": [
        {
          "output_type": "stream",
          "text": [
            "313/313 - 1s - loss: 0.3320 - accuracy: 0.8810\n",
            "\n",
            "테스트 정확도: 0.8809999823570251\n"
          ],
          "name": "stdout"
        }
      ]
    },
    {
      "cell_type": "markdown",
      "metadata": {
        "id": "sJ8qnDKKmpqn"
      },
      "source": [
        "#### 예측 만들기"
      ]
    },
    {
      "cell_type": "code",
      "metadata": {
        "id": "rXG_lyE1kho9"
      },
      "source": [
        "# 훈련된 모델을 사용하여 이미지에 대한 예측 만듬\n",
        "predictions = model.predict(test_images)"
      ],
      "execution_count": null,
      "outputs": []
    },
    {
      "cell_type": "code",
      "metadata": {
        "colab": {
          "base_uri": "https://localhost:8080/"
        },
        "id": "Q9yGbBsdkhmM",
        "outputId": "cba8d796-0cd8-4d70-f5c6-4524d831389a"
      },
      "source": [
        "# 10개의 숫자 배열로 표시. 이 값은 10개의 카테고리에 상응하는 모델의 신뢰도\n",
        "predictions[0]"
      ],
      "execution_count": null,
      "outputs": [
        {
          "output_type": "execute_result",
          "data": {
            "text/plain": [
              "array([1.4821456e-06, 3.8495087e-09, 1.5284068e-06, 1.4863112e-08,\n",
              "       3.8204860e-08, 1.0873589e-02, 4.3380765e-06, 2.8395955e-03,\n",
              "       5.7534147e-05, 9.8622185e-01], dtype=float32)"
            ]
          },
          "metadata": {
            "tags": []
          },
          "execution_count": 17
        }
      ]
    },
    {
      "cell_type": "code",
      "metadata": {
        "colab": {
          "base_uri": "https://localhost:8080/"
        },
        "id": "dABo3t1wkhjg",
        "outputId": "13fb1663-973b-40c2-a959-e9f6297cf85b"
      },
      "source": [
        "np.argmax(predictions[0])"
      ],
      "execution_count": null,
      "outputs": [
        {
          "output_type": "execute_result",
          "data": {
            "text/plain": [
              "9"
            ]
          },
          "metadata": {
            "tags": []
          },
          "execution_count": 18
        }
      ]
    },
    {
      "cell_type": "code",
      "metadata": {
        "id": "h79WODmCkhgz"
      },
      "source": [
        "# 10개 클래스에 대한 예측 모두 그래프로 표현\n",
        "def plot_image(i, predictions_array, true_label, img):\n",
        "    predictions_array, true_label, img = predictions_array[i], true_label[i], img[i]\n",
        "    plt.grid(False)\n",
        "    plt.xticks([])\n",
        "    plt.yticks([])\n",
        "\n",
        "    plt.imshow(img, cmap=plt.cm.binary)\n",
        "\n",
        "    predicted_label = np.argmax(predictions_array)\n",
        "    if predicted_label == true_label:\n",
        "        color = 'blue'\n",
        "    else:\n",
        "        color = 'red'\n",
        "\n",
        "    plt.xlabel(\"{} {:2.0f}% ({})\".format(class_names[predicted_label],\n",
        "                                100*np.max(predictions_array),\n",
        "                                class_names[true_label]),\n",
        "                                color=color)\n",
        "\n",
        "def plot_value_array(i, predictions_array, true_label):\n",
        "    predictions_array, true_label = predictions_array[i], true_label[i]\n",
        "    plt.grid(False)\n",
        "    plt.xticks([])\n",
        "    plt.yticks([])\n",
        "    thisplot = plt.bar(range(10), predictions_array, color='#777777')\n",
        "    plt.ylim([0, 1])\n",
        "    predicted_label = np.argmax(predictions_array)\n",
        "\n",
        "    thisplot[predicted_label].set_color('red')\n",
        "    thisplot[predicted_label].set_color('blue')"
      ],
      "execution_count": null,
      "outputs": []
    },
    {
      "cell_type": "code",
      "metadata": {
        "colab": {
          "base_uri": "https://localhost:8080/",
          "height": 203
        },
        "id": "u0sf6exxkheH",
        "outputId": "5b1fd1c4-689b-4f41-bf89-3ed909913fb0"
      },
      "source": [
        "# 0번째 원소의 이미지, 예측, 신뢰도 점수 배열 확인\n",
        "i = 0\n",
        "plt.figure(figsize=(6, 3))\n",
        "plt.subplot(1, 2, 1)\n",
        "plot_image(i, predictions, test_labels, test_images)\n",
        "plt.subplot(1, 2, 2)\n",
        "plot_value_array(i, predictions, test_labels)\n",
        "plt.show()"
      ],
      "execution_count": null,
      "outputs": [
        {
          "output_type": "display_data",
          "data": {
            "image/png": "[encoded data removed]",
            "text/plain": [
              "<Figure size 432x216 with 2 Axes>"
            ]
          },
          "metadata": {
            "tags": []
          }
        }
      ]
    },
    {
      "cell_type": "code",
      "metadata": {
        "colab": {
          "base_uri": "https://localhost:8080/",
          "height": 570
        },
        "id": "bLFiOHrgkhbX",
        "outputId": "b2348773-2215-4200-e5e9-312810af8778"
      },
      "source": [
        "num_rows = 5\n",
        "num_cols = 3\n",
        "num_images = num_rows*num_cols\n",
        "plt.figure(figsize=(2*2*num_cols, 2*num_rows))\n",
        "for i in range(num_images):\n",
        "    plt.subplot(num_rows, 2*num_cols, 2*i+1)\n",
        "    plot_image(i, predictions, test_labels, test_images)\n",
        "    plt.subplot(num_rows, 2*num_cols, 2*i+2)\n",
        "    plot_value_array(i, predictions, test_labels)\n",
        "plt.show()"
      ],
      "execution_count": null,
      "outputs": [
        {
          "output_type": "display_data",
          "data": {
            "image/png": "[encoded data removed]",
            "text/plain": [
              "<Figure size 864x720 with 30 Axes>"
            ]
          },
          "metadata": {
            "tags": []
          }
        }
      ]
    },
    {
      "cell_type": "code",
      "metadata": {
        "colab": {
          "base_uri": "https://localhost:8080/"
        },
        "id": "Si-3SRCxkhYj",
        "outputId": "fb3afbd5-56e4-4e34-c657-7f5b95d717b5"
      },
      "source": [
        "# 훈련된 모델을 사용하여 한 이미지에 대한 예측 만듬\n",
        "img = test_images[0]\n",
        "\n",
        "print(img.shape)"
      ],
      "execution_count": null,
      "outputs": [
        {
          "output_type": "stream",
          "text": [
            "(28, 28)\n"
          ],
          "name": "stdout"
        }
      ]
    },
    {
      "cell_type": "code",
      "metadata": {
        "colab": {
          "base_uri": "https://localhost:8080/"
        },
        "id": "c84IZQdpkhVv",
        "outputId": "aef48096-7d77-408d-a01a-d1f3e21f3796"
      },
      "source": [
        "# tf.keras 모델은 한 번에 샘플의 묶음 또는 배치로 예측을 만드는데 최적화되어 있음\n",
        "#  하나의 이미지를 사용할 때에도 2차원 배열로 만들어야함\n",
        "img = (np.expand_dims(img, 0))\n",
        "print(img.shape)"
      ],
      "execution_count": null,
      "outputs": [
        {
          "output_type": "stream",
          "text": [
            "(1, 28, 28)\n"
          ],
          "name": "stdout"
        }
      ]
    },
    {
      "cell_type": "code",
      "metadata": {
        "colab": {
          "base_uri": "https://localhost:8080/"
        },
        "id": "MgBlqUCikhTE",
        "outputId": "0c2d8a95-06f4-4261-ff13-336d856f8df0"
      },
      "source": [
        "# 이미지의 예측 생성\n",
        "predictions_single = model.predict(img)\n",
        "print(predictions_single )"
      ],
      "execution_count": null,
      "outputs": [
        {
          "output_type": "stream",
          "text": [
            "[[1.4821443e-06 3.8495012e-09 1.5284052e-06 1.4863112e-08 3.8204860e-08\n",
            "  1.0873589e-02 4.3380724e-06 2.8395928e-03 5.7534147e-05 9.8622185e-01]]\n"
          ],
          "name": "stdout"
        }
      ]
    },
    {
      "cell_type": "code",
      "metadata": {
        "colab": {
          "base_uri": "https://localhost:8080/",
          "height": 300
        },
        "id": "HoUDr5PRkhQV",
        "outputId": "eee2dbd1-5753-4c16-e51f-968264e027e5"
      },
      "source": [
        "plot_value_array(0, predictions_single, test_labels)\n",
        "_ = plt.xticks(range(10), class_names, rotation=45)"
      ],
      "execution_count": null,
      "outputs": [
        {
          "output_type": "display_data",
          "data": {
            "image/png": "[encoded data removed]",
            "text/plain": [
              "<Figure size 432x288 with 1 Axes>"
            ]
          },
          "metadata": {
            "tags": [],
            "needs_background": "light"
          }
        }
      ]
    },
    {
      "cell_type": "code",
      "metadata": {
        "colab": {
          "base_uri": "https://localhost:8080/"
        },
        "id": "J7snbWLUkhNy",
        "outputId": "b8e4e38d-aba6-469f-844f-087f568824f9"
      },
      "source": [
        "np.argmax(predictions_single[0])"
      ],
      "execution_count": null,
      "outputs": [
        {
          "output_type": "execute_result",
          "data": {
            "text/plain": [
              "9"
            ]
          },
          "metadata": {
            "tags": []
          },
          "execution_count": 26
        }
      ]
    },
    {
      "cell_type": "markdown",
      "metadata": {
        "id": "5s3icZ1A18rY"
      },
      "source": [
        "---"
      ]
    },
    {
      "cell_type": "markdown",
      "metadata": {
        "id": "tjCp6iDdkhK9"
      },
      "source": [
        "## 기본 텍스트 분류"
      ]
    },
    {
      "cell_type": "markdown",
      "metadata": {
        "id": "0DDi8RDVkhId"
      },
      "source": [
        "### 영화 리뷰를 사용한 텍스트 분류\n",
        "- IMDB 데이터셋\n",
        "  - 영화 리뷰 텍스트는 긍정 또는 부정으로 분류.\n",
        "  - 이진 분류 문제임\n",
        "  - 데이터셋은 훈련용 25,000개 테스트용 25,000개로 나눠져 있음"
      ]
    },
    {
      "cell_type": "code",
      "metadata": {
        "colab": {
          "base_uri": "https://localhost:8080/"
        },
        "id": "qjmJuJ2MkhF-",
        "outputId": "df6ba025-f5ec-429d-cded-54d66bf1c101"
      },
      "source": [
        "import tensorflow as tf\n",
        "from tensorflow import keras\n",
        "import numpy as np\n",
        "print(tf.__version__)"
      ],
      "execution_count": null,
      "outputs": [
        {
          "output_type": "stream",
          "text": [
            "2.4.1\n"
          ],
          "name": "stdout"
        }
      ]
    },
    {
      "cell_type": "code",
      "metadata": {
        "colab": {
          "base_uri": "https://localhost:8080/"
        },
        "id": "XgnnzseJkhCr",
        "outputId": "6c40f7c9-6bac-454e-c18c-8b5197fdd4ed"
      },
      "source": [
        "# 데이터셋 다운로드\n",
        "imdb = keras.datasets.imdb\n",
        "\n",
        "(train_data, train_labels), (test_data, test_labels) = imdb.load_data(num_words=10000)"
      ],
      "execution_count": null,
      "outputs": [
        {
          "output_type": "stream",
          "text": [
            "<string>:6: VisibleDeprecationWarning: Creating an ndarray from ragged nested sequences (which is a list-or-tuple of lists-or-tuples-or ndarrays with different lengths or shapes) is deprecated. If you meant to do this, you must specify 'dtype=object' when creating the ndarray\n",
            "/usr/local/lib/python3.7/dist-packages/tensorflow/python/keras/datasets/imdb.py:159: VisibleDeprecationWarning: Creating an ndarray from ragged nested sequences (which is a list-or-tuple of lists-or-tuples-or ndarrays with different lengths or shapes) is deprecated. If you meant to do this, you must specify 'dtype=object' when creating the ndarray\n",
            "  x_train, y_train = np.array(xs[:idx]), np.array(labels[:idx])\n",
            "/usr/local/lib/python3.7/dist-packages/tensorflow/python/keras/datasets/imdb.py:160: VisibleDeprecationWarning: Creating an ndarray from ragged nested sequences (which is a list-or-tuple of lists-or-tuples-or ndarrays with different lengths or shapes) is deprecated. If you meant to do this, you must specify 'dtype=object' when creating the ndarray\n",
            "  x_test, y_test = np.array(xs[idx:]), np.array(labels[idx:])\n"
          ],
          "name": "stderr"
        }
      ]
    },
    {
      "cell_type": "markdown",
      "metadata": {
        "id": "uiMFrtpokg_7"
      },
      "source": [
        "### 데이터 탐색\n",
        "- 데이터셋의 샘플은 전처리된 정수 배열\n",
        "- 이 정수는 영화 리뷰에 나오는 단어를 나타냄\n",
        "- 0은 부정적 리뷰, 1은 긍정적 리뷰"
      ]
    },
    {
      "cell_type": "code",
      "metadata": {
        "colab": {
          "base_uri": "https://localhost:8080/"
        },
        "id": "_OfgNwV6aO0u",
        "outputId": "55cbe5df-f19e-4a92-de0a-bc2195af6286"
      },
      "source": [
        "print(f\"훈련 샘플: {len(train_data)}, 레이블: {len(train_labels)}\")"
      ],
      "execution_count": null,
      "outputs": [
        {
          "output_type": "stream",
          "text": [
            "훈련 샘플: 25000, 레이블: 25000\n"
          ],
          "name": "stdout"
        }
      ]
    },
    {
      "cell_type": "code",
      "metadata": {
        "colab": {
          "base_uri": "https://localhost:8080/"
        },
        "id": "VQ_EkDlYaOyN",
        "outputId": "567f343e-9d41-4dfb-f845-46341fedee80"
      },
      "source": [
        "print(train_data[0])"
      ],
      "execution_count": null,
      "outputs": [
        {
          "output_type": "stream",
          "text": [
            "[1, 14, 22, 16, 43, 530, 973, 1622, 1385, 65, 458, 4468, 66, 3941, 4, 173, 36, 256, 5, 25, 100, 43, 838, 112, 50, 670, 2, 9, 35, 480, 284, 5, 150, 4, 172, 112, 167, 2, 336, 385, 39, 4, 172, 4536, 1111, 17, 546, 38, 13, 447, 4, 192, 50, 16, 6, 147, 2025, 19, 14, 22, 4, 1920, 4613, 469, 4, 22, 71, 87, 12, 16, 43, 530, 38, 76, 15, 13, 1247, 4, 22, 17, 515, 17, 12, 16, 626, 18, 2, 5, 62, 386, 12, 8, 316, 8, 106, 5, 4, 2223, 5244, 16, 480, 66, 3785, 33, 4, 130, 12, 16, 38, 619, 5, 25, 124, 51, 36, 135, 48, 25, 1415, 33, 6, 22, 12, 215, 28, 77, 52, 5, 14, 407, 16, 82, 2, 8, 4, 107, 117, 5952, 15, 256, 4, 2, 7, 3766, 5, 723, 36, 71, 43, 530, 476, 26, 400, 317, 46, 7, 4, 2, 1029, 13, 104, 88, 4, 381, 15, 297, 98, 32, 2071, 56, 26, 141, 6, 194, 7486, 18, 4, 226, 22, 21, 134, 476, 26, 480, 5, 144, 30, 5535, 18, 51, 36, 28, 224, 92, 25, 104, 4, 226, 65, 16, 38, 1334, 88, 12, 16, 283, 5, 16, 4472, 113, 103, 32, 15, 16, 5345, 19, 178, 32]\n"
          ],
          "name": "stdout"
        }
      ]
    },
    {
      "cell_type": "code",
      "metadata": {
        "colab": {
          "base_uri": "https://localhost:8080/"
        },
        "id": "4GzNgVVsaOvI",
        "outputId": "ec67f020-1b02-4901-ac57-2afafbd6c5ec"
      },
      "source": [
        "# 첫 번째 리뷰와 두 번째 리뷰에서 단어의 개수 출력\n",
        "len(train_data[0]), len(train_data[1])"
      ],
      "execution_count": null,
      "outputs": [
        {
          "output_type": "execute_result",
          "data": {
            "text/plain": [
              "(218, 189)"
            ]
          },
          "metadata": {
            "tags": []
          },
          "execution_count": 31
        }
      ]
    },
    {
      "cell_type": "markdown",
      "metadata": {
        "id": "vWjA0VG1aOsj"
      },
      "source": [
        "### 정수를 단어로 다시 변환하기"
      ]
    },
    {
      "cell_type": "code",
      "metadata": {
        "id": "ZPE8ytPFaOpg"
      },
      "source": [
        "# 정수와 문자열을 매핑한 딕셔너리 객체에 질의하는 헬퍼 함수를 만듬\n",
        "\n",
        "# 단어와 정수 인덱스를 매핑한 딕셔너리\n",
        "word_index = imdb.get_word_index()\n",
        "\n",
        "# 처음 몇 개 인덱스는 사전에 정의되어 있습니다\n",
        "word_index = {k:(v+3) for k,v in word_index.items()}\n",
        "word_index[\"<PAD>\"] = 0\n",
        "word_index[\"<START>\"] = 1\n",
        "word_index[\"<UNK>\"] = 2  # unknown\n",
        "word_index[\"<UNUSED>\"] = 3\n",
        "\n",
        "reverse_word_index = dict([(value, key) for (key, value) in word_index.items()])\n",
        "\n",
        "def decode_review(text):\n",
        "    return ' '.join([reverse_word_index.get(i, '?') for i in text])"
      ],
      "execution_count": null,
      "outputs": []
    },
    {
      "cell_type": "code",
      "metadata": {
        "colab": {
          "base_uri": "https://localhost:8080/",
          "height": 205
        },
        "id": "2gT8QAr3aOmk",
        "outputId": "ada9556c-4f85-49cb-a308-4ecd89c07e0f"
      },
      "source": [
        "# decode_review 함수를 사용해 첫 번째 리뷰 텍스트 출력\n",
        "decode_review(train_data[0])"
      ],
      "execution_count": null,
      "outputs": [
        {
          "output_type": "execute_result",
          "data": {
            "application/vnd.google.colaboratory.intrinsic+json": {
              "type": "string"
            },
            "text/plain": [
              "\"<START> this film was just brilliant casting location scenery story direction everyone's really suited the part they played and you could just imagine being there robert <UNK> is an amazing actor and now the same being director <UNK> father came from the same scottish island as myself so i loved the fact there was a real connection with this film the witty remarks throughout the film were great it was just brilliant so much that i bought the film as soon as it was released for <UNK> and would recommend it to everyone to watch and the fly fishing was amazing really cried at the end it was so sad and you know what they say if you cry at a film it must have been good and this definitely was also <UNK> to the two little boy's that played the <UNK> of norman and paul they were just brilliant children are often left out of the <UNK> list i think because the stars that play them all grown up are such a big profile for the whole film but these children are amazing and should be praised for what they have done don't you think the whole story was so lovely because it was true and was someone's life after all that was shared with us all\""
            ]
          },
          "metadata": {
            "tags": []
          },
          "execution_count": 33
        }
      ]
    },
    {
      "cell_type": "markdown",
      "metadata": {
        "id": "Z4krPkcfaOjb"
      },
      "source": [
        "### 데이터 준비\n",
        "- 리뷰-정수 배열은 신경망에 주입하기 전에 텐서로 변환해야함\n",
        "  - 원핫 인코딩\n",
        "  - 정수 배열의 길이가 모두 같도록 패딩을 추가해 max_length * num_reviews 크기의 정수 텐서를 만듬"
      ]
    },
    {
      "cell_type": "code",
      "metadata": {
        "id": "f2AAHrvCaOhC"
      },
      "source": [
        "# pad_sequences 함수를 사용해 길이를 맞춤\n",
        "train_data = keras.preprocessing.sequence.pad_sequences(train_data,\n",
        "                                                        value=word_index[\"<PAD>\"],\n",
        "                                                        padding='post',\n",
        "                                                        maxlen=256)\n",
        "\n",
        "test_data = keras.preprocessing.sequence.pad_sequences(test_data,\n",
        "                                                       value=word_index[\"<PAD>\"],\n",
        "                                                       padding='post',\n",
        "                                                       maxlen=256)"
      ],
      "execution_count": null,
      "outputs": []
    },
    {
      "cell_type": "code",
      "metadata": {
        "colab": {
          "base_uri": "https://localhost:8080/"
        },
        "id": "bksRRnikaOdy",
        "outputId": "bc4f4926-a35b-4964-badf-4e196652e832"
      },
      "source": [
        "# 샘플의 길이 확인\n",
        "len(train_data[0]), len(train_data[1])"
      ],
      "execution_count": null,
      "outputs": [
        {
          "output_type": "execute_result",
          "data": {
            "text/plain": [
              "(256, 256)"
            ]
          },
          "metadata": {
            "tags": []
          },
          "execution_count": 35
        }
      ]
    },
    {
      "cell_type": "code",
      "metadata": {
        "colab": {
          "base_uri": "https://localhost:8080/"
        },
        "id": "re-Ucz4naObl",
        "outputId": "1914c0aa-b3ee-4c10-f2b8-d0b277169cc4"
      },
      "source": [
        "# 패딩된 첫 번째 리뷰 확인 \n",
        "print(train_data[0])"
      ],
      "execution_count": null,
      "outputs": [
        {
          "output_type": "stream",
          "text": [
            "[   1   14   22   16   43  530  973 1622 1385   65  458 4468   66 3941\n",
            "    4  173   36  256    5   25  100   43  838  112   50  670    2    9\n",
            "   35  480  284    5  150    4  172  112  167    2  336  385   39    4\n",
            "  172 4536 1111   17  546   38   13  447    4  192   50   16    6  147\n",
            " 2025   19   14   22    4 1920 4613  469    4   22   71   87   12   16\n",
            "   43  530   38   76   15   13 1247    4   22   17  515   17   12   16\n",
            "  626   18    2    5   62  386   12    8  316    8  106    5    4 2223\n",
            " 5244   16  480   66 3785   33    4  130   12   16   38  619    5   25\n",
            "  124   51   36  135   48   25 1415   33    6   22   12  215   28   77\n",
            "   52    5   14  407   16   82    2    8    4  107  117 5952   15  256\n",
            "    4    2    7 3766    5  723   36   71   43  530  476   26  400  317\n",
            "   46    7    4    2 1029   13  104   88    4  381   15  297   98   32\n",
            " 2071   56   26  141    6  194 7486   18    4  226   22   21  134  476\n",
            "   26  480    5  144   30 5535   18   51   36   28  224   92   25  104\n",
            "    4  226   65   16   38 1334   88   12   16  283    5   16 4472  113\n",
            "  103   32   15   16 5345   19  178   32    0    0    0    0    0    0\n",
            "    0    0    0    0    0    0    0    0    0    0    0    0    0    0\n",
            "    0    0    0    0    0    0    0    0    0    0    0    0    0    0\n",
            "    0    0    0    0]\n"
          ],
          "name": "stdout"
        }
      ]
    },
    {
      "cell_type": "markdown",
      "metadata": {
        "id": "WqWWyiL_aOYd"
      },
      "source": [
        "### 모델 구성\n",
        "- 모델에서 얼마나 많은 층을 사용할 것인가?\n",
        "- 각 층에서 얼마나 많은 은닉 유닛을 사용할 것인가? "
      ]
    },
    {
      "cell_type": "code",
      "metadata": {
        "colab": {
          "base_uri": "https://localhost:8080/"
        },
        "id": "eNtWuxNlaOV2",
        "outputId": "6c455114-8ef0-4b7a-d9e9-34c9367e5283"
      },
      "source": [
        "'''\n",
        "층을 순서대로 쌓아 분류기를 만듬\n",
        "1. 첫 번째 층은 Embedding층. 정수로 인코딩된 단어를 입력 받고, 각 단어 인덱스에 해당하는\n",
        "임베딩 벡터를 찾아줌\n",
        "2. GlobalAveragePooling1D층은 sequence 차원에 대해 평균을 계산하여\n",
        "각 샘플에 대해 고정된 길이의 출력 벡터를 반환함.\n",
        "3. 고정된 길이의 출력 벡터는 16개의 은닉 유닛을 가진 완전 연결층을 거침\n",
        "4. 마지막 층은 하나의 출력 노드를 가진 완전 연결 층. \n",
        "sigmoid 활성화 함수를 사용하여 0과 1사이의 실수를 출력함.\n",
        "'''\n",
        "\n",
        "# 입력 크기는 영화 리뷰 데이터셋에 적용된 어휘 사전의 크기\n",
        "vocab_size = 10000\n",
        "\n",
        "model = keras.Sequential()\n",
        "model.add(keras.layers.Embedding(vocab_size, 16, input_shape=(None,)))\n",
        "model.add(keras.layers.GlobalAveragePooling1D())\n",
        "model.add(keras.layers.Dense(16, activation='relu'))\n",
        "model.add(keras.layers.Dense(1, activation='sigmoid'))\n",
        "\n",
        "model.summary()"
      ],
      "execution_count": null,
      "outputs": [
        {
          "output_type": "stream",
          "text": [
            "Model: \"sequential_1\"\n",
            "_________________________________________________________________\n",
            "Layer (type)                 Output Shape              Param #   \n",
            "=================================================================\n",
            "embedding (Embedding)        (None, None, 16)          160000    \n",
            "_________________________________________________________________\n",
            "global_average_pooling1d (Gl (None, 16)                0         \n",
            "_________________________________________________________________\n",
            "dense_2 (Dense)              (None, 16)                272       \n",
            "_________________________________________________________________\n",
            "dense_3 (Dense)              (None, 1)                 17        \n",
            "=================================================================\n",
            "Total params: 160,289\n",
            "Trainable params: 160,289\n",
            "Non-trainable params: 0\n",
            "_________________________________________________________________\n"
          ],
          "name": "stdout"
        }
      ]
    },
    {
      "cell_type": "markdown",
      "metadata": {
        "id": "WiyvqgEiaOSs"
      },
      "source": [
        "### 은닉 유닛\n",
        "- 위 모델에는 입력과 출력 사이에 은닉층이 있음\n",
        "- 출력의 개수는 층이 가진 표현 공간의 차원이 됨"
      ]
    },
    {
      "cell_type": "markdown",
      "metadata": {
        "id": "mqF3ZbNZaOQL"
      },
      "source": [
        "### 손실 함수와 옵티마이저\n",
        "- 모델이 훈련하려면 손실 함수와 옵티마이저가 필요함"
      ]
    },
    {
      "cell_type": "code",
      "metadata": {
        "id": "CIwrTpsmaOKs"
      },
      "source": [
        "model.compile(optimizer='adam',\n",
        "              loss='binary_crossentropy',\n",
        "              metrics=['accuracy'])"
      ],
      "execution_count": null,
      "outputs": []
    },
    {
      "cell_type": "markdown",
      "metadata": {
        "id": "bUr2dogfaOH5"
      },
      "source": [
        "### 검증 세트 만들기\n"
      ]
    },
    {
      "cell_type": "code",
      "metadata": {
        "id": "yI0oQuB9aOE5"
      },
      "source": [
        "x_val = train_data[:10000]\n",
        "partial_x_train = train_data[10000:]\n",
        "\n",
        "y_val = train_labels[:10000]\n",
        "partial_y_train = train_labels[10000:]"
      ],
      "execution_count": null,
      "outputs": []
    },
    {
      "cell_type": "markdown",
      "metadata": {
        "id": "1Fohr7WKaOCN"
      },
      "source": [
        "### 모델 훈련"
      ]
    },
    {
      "cell_type": "code",
      "metadata": {
        "colab": {
          "base_uri": "https://localhost:8080/"
        },
        "id": "72SXzzPsaN_w",
        "outputId": "46a0290a-a2a4-44b9-e330-523c90ea8e84"
      },
      "source": [
        "history = model.fit(partial_x_train,\n",
        "                    partial_y_train,\n",
        "                    epochs=40,\n",
        "                    batch_size=512,\n",
        "                    validation_data=(x_val, y_val),\n",
        "                    verbose=1)"
      ],
      "execution_count": null,
      "outputs": [
        {
          "output_type": "stream",
          "text": [
            "Epoch 1/40\n",
            "30/30 [==============================] - 1s 25ms/step - loss: 0.6924 - accuracy: 0.5118 - val_loss: 0.6892 - val_accuracy: 0.5334\n",
            "Epoch 2/40\n",
            "30/30 [==============================] - 0s 14ms/step - loss: 0.6861 - accuracy: 0.5499 - val_loss: 0.6780 - val_accuracy: 0.6766\n",
            "Epoch 3/40\n",
            "30/30 [==============================] - 0s 13ms/step - loss: 0.6708 - accuracy: 0.6915 - val_loss: 0.6571 - val_accuracy: 0.7150\n",
            "Epoch 4/40\n",
            "30/30 [==============================] - 0s 13ms/step - loss: 0.6454 - accuracy: 0.7379 - val_loss: 0.6260 - val_accuracy: 0.7607\n",
            "Epoch 5/40\n",
            "30/30 [==============================] - 0s 13ms/step - loss: 0.6078 - accuracy: 0.7824 - val_loss: 0.5868 - val_accuracy: 0.8008\n",
            "Epoch 6/40\n",
            "30/30 [==============================] - 0s 13ms/step - loss: 0.5628 - accuracy: 0.8139 - val_loss: 0.5417 - val_accuracy: 0.8171\n",
            "Epoch 7/40\n",
            "30/30 [==============================] - 0s 13ms/step - loss: 0.5120 - accuracy: 0.8398 - val_loss: 0.4964 - val_accuracy: 0.8330\n",
            "Epoch 8/40\n",
            "30/30 [==============================] - 0s 13ms/step - loss: 0.4618 - accuracy: 0.8576 - val_loss: 0.4546 - val_accuracy: 0.8443\n",
            "Epoch 9/40\n",
            "30/30 [==============================] - 0s 13ms/step - loss: 0.4216 - accuracy: 0.8679 - val_loss: 0.4195 - val_accuracy: 0.8541\n",
            "Epoch 10/40\n",
            "30/30 [==============================] - 0s 13ms/step - loss: 0.3760 - accuracy: 0.8911 - val_loss: 0.3909 - val_accuracy: 0.8593\n",
            "Epoch 11/40\n",
            "30/30 [==============================] - 0s 13ms/step - loss: 0.3479 - accuracy: 0.8876 - val_loss: 0.3673 - val_accuracy: 0.8654\n",
            "Epoch 12/40\n",
            "30/30 [==============================] - 0s 13ms/step - loss: 0.3165 - accuracy: 0.8982 - val_loss: 0.3491 - val_accuracy: 0.8712\n",
            "Epoch 13/40\n",
            "30/30 [==============================] - 0s 13ms/step - loss: 0.2991 - accuracy: 0.8988 - val_loss: 0.3354 - val_accuracy: 0.8741\n",
            "Epoch 14/40\n",
            "30/30 [==============================] - 0s 13ms/step - loss: 0.2729 - accuracy: 0.9107 - val_loss: 0.3232 - val_accuracy: 0.8777\n",
            "Epoch 15/40\n",
            "30/30 [==============================] - 0s 13ms/step - loss: 0.2522 - accuracy: 0.9192 - val_loss: 0.3140 - val_accuracy: 0.8799\n",
            "Epoch 16/40\n",
            "30/30 [==============================] - 0s 12ms/step - loss: 0.2412 - accuracy: 0.9189 - val_loss: 0.3075 - val_accuracy: 0.8795\n",
            "Epoch 17/40\n",
            "30/30 [==============================] - 0s 13ms/step - loss: 0.2256 - accuracy: 0.9277 - val_loss: 0.3015 - val_accuracy: 0.8813\n",
            "Epoch 18/40\n",
            "30/30 [==============================] - 0s 14ms/step - loss: 0.2134 - accuracy: 0.9308 - val_loss: 0.2970 - val_accuracy: 0.8821\n",
            "Epoch 19/40\n",
            "30/30 [==============================] - 0s 13ms/step - loss: 0.2014 - accuracy: 0.9341 - val_loss: 0.2939 - val_accuracy: 0.8827\n",
            "Epoch 20/40\n",
            "30/30 [==============================] - 0s 13ms/step - loss: 0.1980 - accuracy: 0.9333 - val_loss: 0.2910 - val_accuracy: 0.8855\n",
            "Epoch 21/40\n",
            "30/30 [==============================] - 0s 13ms/step - loss: 0.1849 - accuracy: 0.9403 - val_loss: 0.2890 - val_accuracy: 0.8840\n",
            "Epoch 22/40\n",
            "30/30 [==============================] - 0s 13ms/step - loss: 0.1685 - accuracy: 0.9477 - val_loss: 0.2868 - val_accuracy: 0.8848\n",
            "Epoch 23/40\n",
            "30/30 [==============================] - 0s 13ms/step - loss: 0.1687 - accuracy: 0.9456 - val_loss: 0.2868 - val_accuracy: 0.8859\n",
            "Epoch 24/40\n",
            "30/30 [==============================] - 0s 12ms/step - loss: 0.1592 - accuracy: 0.9494 - val_loss: 0.2871 - val_accuracy: 0.8863\n",
            "Epoch 25/40\n",
            "30/30 [==============================] - 0s 13ms/step - loss: 0.1517 - accuracy: 0.9542 - val_loss: 0.2865 - val_accuracy: 0.8860\n",
            "Epoch 26/40\n",
            "30/30 [==============================] - 0s 13ms/step - loss: 0.1401 - accuracy: 0.9597 - val_loss: 0.2869 - val_accuracy: 0.8860\n",
            "Epoch 27/40\n",
            "30/30 [==============================] - 0s 13ms/step - loss: 0.1360 - accuracy: 0.9590 - val_loss: 0.2882 - val_accuracy: 0.8869\n",
            "Epoch 28/40\n",
            "30/30 [==============================] - 0s 14ms/step - loss: 0.1320 - accuracy: 0.9618 - val_loss: 0.2897 - val_accuracy: 0.8861\n",
            "Epoch 29/40\n",
            "30/30 [==============================] - 0s 13ms/step - loss: 0.1241 - accuracy: 0.9659 - val_loss: 0.2914 - val_accuracy: 0.8868\n",
            "Epoch 30/40\n",
            "30/30 [==============================] - 0s 13ms/step - loss: 0.1201 - accuracy: 0.9660 - val_loss: 0.2939 - val_accuracy: 0.8857\n",
            "Epoch 31/40\n",
            "30/30 [==============================] - 0s 13ms/step - loss: 0.1153 - accuracy: 0.9710 - val_loss: 0.2962 - val_accuracy: 0.8856\n",
            "Epoch 32/40\n",
            "30/30 [==============================] - 0s 13ms/step - loss: 0.1136 - accuracy: 0.9676 - val_loss: 0.2994 - val_accuracy: 0.8844\n",
            "Epoch 33/40\n",
            "30/30 [==============================] - 0s 13ms/step - loss: 0.1064 - accuracy: 0.9721 - val_loss: 0.3010 - val_accuracy: 0.8854\n",
            "Epoch 34/40\n",
            "30/30 [==============================] - 0s 14ms/step - loss: 0.0984 - accuracy: 0.9748 - val_loss: 0.3048 - val_accuracy: 0.8827\n",
            "Epoch 35/40\n",
            "30/30 [==============================] - 0s 14ms/step - loss: 0.0972 - accuracy: 0.9755 - val_loss: 0.3076 - val_accuracy: 0.8831\n",
            "Epoch 36/40\n",
            "30/30 [==============================] - 0s 14ms/step - loss: 0.0908 - accuracy: 0.9764 - val_loss: 0.3115 - val_accuracy: 0.8816\n",
            "Epoch 37/40\n",
            "30/30 [==============================] - 0s 13ms/step - loss: 0.0903 - accuracy: 0.9786 - val_loss: 0.3145 - val_accuracy: 0.8827\n",
            "Epoch 38/40\n",
            "30/30 [==============================] - 0s 13ms/step - loss: 0.0860 - accuracy: 0.9786 - val_loss: 0.3191 - val_accuracy: 0.8826\n",
            "Epoch 39/40\n",
            "30/30 [==============================] - 0s 12ms/step - loss: 0.0831 - accuracy: 0.9800 - val_loss: 0.3220 - val_accuracy: 0.8810\n",
            "Epoch 40/40\n",
            "30/30 [==============================] - 0s 14ms/step - loss: 0.0788 - accuracy: 0.9809 - val_loss: 0.3261 - val_accuracy: 0.8811\n"
          ],
          "name": "stdout"
        }
      ]
    },
    {
      "cell_type": "markdown",
      "metadata": {
        "id": "1pPqbJRpaN9X"
      },
      "source": [
        "### 모델 평가"
      ]
    },
    {
      "cell_type": "code",
      "metadata": {
        "colab": {
          "base_uri": "https://localhost:8080/"
        },
        "id": "E7RrZh6haN62",
        "outputId": "fc5070b0-8995-417b-96f8-0d29d8ebba4e"
      },
      "source": [
        "results = model.evaluate(test_data, test_labels, verbose=2)\n",
        "print(results)"
      ],
      "execution_count": null,
      "outputs": [
        {
          "output_type": "stream",
          "text": [
            "782/782 - 1s - loss: 0.3476 - accuracy: 0.8693\n",
            "[0.3476451635360718, 0.8692799806594849]\n"
          ],
          "name": "stdout"
        }
      ]
    },
    {
      "cell_type": "markdown",
      "metadata": {
        "id": "H4ychq5AaN4h"
      },
      "source": [
        "### 정확도와 손실 그래프 그리기"
      ]
    },
    {
      "cell_type": "code",
      "metadata": {
        "colab": {
          "base_uri": "https://localhost:8080/"
        },
        "id": "Wk5ING6jaN1v",
        "outputId": "736220c4-61f7-43de-f37b-5acaacddad51"
      },
      "source": [
        "# model.fit()은 history 객체를 반환함. \n",
        "history_dict = history.history\n",
        "history_dict.keys()"
      ],
      "execution_count": null,
      "outputs": [
        {
          "output_type": "execute_result",
          "data": {
            "text/plain": [
              "dict_keys(['loss', 'accuracy', 'val_loss', 'val_accuracy'])"
            ]
          },
          "metadata": {
            "tags": []
          },
          "execution_count": 42
        }
      ]
    },
    {
      "cell_type": "code",
      "metadata": {
        "colab": {
          "base_uri": "https://localhost:8080/",
          "height": 295
        },
        "id": "7p1wynGKaNzX",
        "outputId": "6cf903e1-33b6-4f2e-e375-cd6d3d1e807b"
      },
      "source": [
        "acc = history_dict['accuracy']\n",
        "val_acc = history_dict['val_accuracy']\n",
        "loss = history_dict['loss']\n",
        "val_loss = history_dict['val_loss']\n",
        "\n",
        "epochs = range(1, len(acc) + 1)\n",
        "\n",
        "# 'bo'는 파란ㅅ개 점\n",
        "plt.plot(epochs, loss, 'bo', label='Training loss')\n",
        "# 'b'는 파란 실선\n",
        "plt.plot(epochs, val_loss, 'b', label='Validation loss')\n",
        "plt.title('Training and validation loss')\n",
        "plt.xlabel('Epochs')\n",
        "plt.ylabel('Loss')\n",
        "plt.legend()\n",
        "\n",
        "plt.show()"
      ],
      "execution_count": null,
      "outputs": [
        {
          "output_type": "display_data",
          "data": {
            "image/png": "[encoded data removed]",
            "text/plain": [
              "<Figure size 432x288 with 1 Axes>"
            ]
          },
          "metadata": {
            "tags": [],
            "needs_background": "light"
          }
        }
      ]
    },
    {
      "cell_type": "code",
      "metadata": {
        "colab": {
          "base_uri": "https://localhost:8080/",
          "height": 295
        },
        "id": "-bIkvis0aNwv",
        "outputId": "05444359-d37a-4e68-84d7-885b332d951e"
      },
      "source": [
        "plt.clf() # 그림을 초기화\n",
        "\n",
        "plt.plot(epochs, acc, 'bo', label='Training acc')\n",
        "plt.plot(epochs, val_acc, 'b', label='Validation acc')\n",
        "plt.title('Training and validation accuracy')\n",
        "plt.xlabel('Epochs')\n",
        "plt.ylabel('Accuracy')\n",
        "plt.legend()\n",
        "plt.show()"
      ],
      "execution_count": null,
      "outputs": [
        {
          "output_type": "display_data",
          "data": {
            "image/png": "[encoded data removed]",
            "text/plain": [
              "<Figure size 432x288 with 1 Axes>"
            ]
          },
          "metadata": {
            "tags": [],
            "needs_background": "light"
          }
        }
      ]
    },
    {
      "cell_type": "markdown",
      "metadata": {
        "id": "8X_KxZMR7r8I"
      },
      "source": [
        "## TF Hub로 텍스트 분류"
      ]
    },
    {
      "cell_type": "code",
      "metadata": {
        "colab": {
          "base_uri": "https://localhost:8080/"
        },
        "id": "7RpV5iX2aNuL",
        "outputId": "20e514ee-64e7-4a48-d5cd-67a380f0e2ea"
      },
      "source": [
        "import numpy as np\n",
        "\n",
        "import tensorflow as tf\n",
        "\n",
        "!pip install -q tensorflow-hub\n",
        "!pip install -q tfds-nightly\n",
        "import tensorflow_hub as hub\n",
        "import tensorflow_datasets as tfds\n",
        "\n",
        "print(\"버전: \", tf.__version__)\n",
        "print(\"즉시 실행 모드: \", tf.executing_eagerly())\n",
        "print(\"허브 버전: \", hub.__version__)\n",
        "print(\"GPU\", \"사용 가능\" if tf.config.experimental.list_physical_devices(\"GPU\") else \"사용 불가능\")"
      ],
      "execution_count": null,
      "outputs": [
        {
          "output_type": "stream",
          "text": [
            "버전:  2.4.1\n",
            "즉시 실행 모드:  True\n",
            "허브 버전:  0.12.0\n",
            "GPU 사용 가능\n"
          ],
          "name": "stdout"
        }
      ]
    },
    {
      "cell_type": "code",
      "metadata": {
        "colab": {
          "base_uri": "https://localhost:8080/",
          "height": 169,
          "referenced_widgets": [
            "49bf4e942be148c38116da9cbf30f77a",
            "2ff14c9880e84c8bb6ac22bfeab9959e",
            "1aae3c021cb9453388a1f32d970b91a0",
            "7997ac9956524f4d89e6196092955295",
            "c01fa9ec9a774a9184a360c69398192f",
            "060aade10ed54b6086da25af1369fe22",
            "2ee4b02214314fe08c3b3587d8911c0a",
            "22497458fa914a818de82f0c4391ca70",
            "51a2782ada154c4e92e997df4b1e2bbf",
            "dfd26f2c8983471ca3e3fa723847c072",
            "277b9cc7462c48ddab918e613e5f3a88",
            "257545a896a64a7e8574597639214b11",
            "47767c83aa6b47b7a932e9a0a649d856",
            "653d8cfaba8148d9a52a30da9f29812b",
            "381cd3165bc7488a88278ed9c630db94",
            "bc997fa577f541eda7a6ab06a480f524",
            "ebe2abe48d8b4488844aefc126221e1a",
            "1b88c89b65f34e7f8be1cc6109fc10de",
            "dee4a62de8a741c6ac048b4deca01544",
            "080678c703fe48909a9433837809a968",
            "e1c8eb803e0a4d868063846b5d30dbcd",
            "0cb6aafcd7b94a3e8f77d1e8414177d6",
            "e66694cefe704eb28b4b4f2875f50dac",
            "7460e6e8f4d64ef5bf68379057970652",
            "9306d719684f4dbca14757a832cfae66",
            "000348d02d4d4a1ea69d0a4f022246db",
            "ea4e0e451d034b03a79ee2513e18f2f4",
            "482a5a0f98ca418fb2324c33ab182659",
            "33415dbd8fa44329bf7cb8cabf3bae70",
            "566f04c743a34e7fbbaf5b7097bad8f0",
            "a6a5570220a74ff19b5250ef37e1d029",
            "a1ad4d6a2315483f9ad29703a22b6b39",
            "b5c62090f12b4f4a98933565c2afd8ec",
            "1b2c37cc064d4dddaf8c30ce12bb9099",
            "bab5f8d3bab745a6b06fe6be134ccab8",
            "ed389854cb5b4035a65638336ac4aa6f",
            "10b876386e8b45868cfd208fe5d7e98f",
            "6650e999ba4343a882693f550f91cdb4",
            "4285fbe70718409abcc0feb2756ff71b",
            "fa22c74b3ff34a2aae4f325e5350dd5d",
            "504233586ef84bcea0ac642dee926ce8",
            "a8b5b11ca6fb4c7bb01c870a4f64e8db",
            "eaefd78780b74bdc85ff431d8bf19444",
            "7c924d9e51ed4a7096da9d78d9535b19",
            "d973fad1729247069b117ddb4994c901",
            "a2250cf177fe4c369a2e7fb523cfd590",
            "0b167d60499e4c55b208556f5b2d94ab",
            "9f0fe9cba7ca4bab8b5506041e6e7e06",
            "c49bf48b58d448c298397b008a7d9871",
            "d74c1c1a97a84f0194506d5ca8f414a0",
            "13ac4608eb4c4e2baf25b9a2732a3ee7",
            "7ff3fb6d2c854099a1d7caf39eed03c2",
            "be84acce74994a1f990d00c70b0a7bfc",
            "139e2a6334c241bd87775576ef60b101",
            "70879a8b727f457495c79667014365ca",
            "de8b224c85d147b8bbb54ef96ee497c4",
            "c5d25d4f654e4f0db8516af4d60a461f",
            "12d1544d9c6e46d3b03acbe5244f64a0",
            "b5c93f42a77e47aebdf8feb33c76f673",
            "06419def75f7409e860a9becf375e34c",
            "4e447734a4254933a0b732dbb0fbaab4",
            "51af6f50285246f98f1d9f364fef0938",
            "acaa17e24d274207818776a32df97e13",
            "5fdb3bd1b3194d05a8d4b8c8103284a4",
            "71449d3f4a0a4b41879676ac8e868c5b",
            "5c89011fd004490c97d4a7e99bbba09e",
            "8df982caee68497a8613be87748b4008",
            "a85fc1004ac4401cb90b04f50017606b",
            "b7728c413a9d46feae2ee067834725c8",
            "d3441311df964504ac4ab09d0692e96c",
            "3f10a9e2c2714beaa9ac647d261bcc47",
            "fa122be4f9404f719bd54698f6ccc094"
          ]
        },
        "id": "fgwDBsfjaNro",
        "outputId": "380c9bed-453d-4586-c9a6-f309a6ba773a"
      },
      "source": [
        "train_data, validation_data, test_data = tfds.load(\n",
        "    name='imdb_reviews',\n",
        "    split=('train[:60%]', 'train[60%:]', 'test'),\n",
        "    as_supervised=True\n",
        ")"
      ],
      "execution_count": null,
      "outputs": [
        {
          "output_type": "stream",
          "text": [
            "\u001b[1mDownloading and preparing dataset 80.23 MiB (download: 80.23 MiB, generated: Unknown size, total: 80.23 MiB) to /root/tensorflow_datasets/imdb_reviews/plain_text/1.0.0...\u001b[0m\n"
          ],
          "name": "stdout"
        },
        {
          "output_type": "display_data",
          "data": {
            "application/vnd.jupyter.widget-view+json": {
              "model_id": "49bf4e942be148c38116da9cbf30f77a",
              "version_minor": 0,
              "version_major": 2
            },
            "text/plain": [
              "HBox(children=(FloatProgress(value=1.0, bar_style='info', description='Dl Completed...', max=1.0, style=Progre…"
            ]
          },
          "metadata": {
            "tags": []
          }
        },
        {
          "output_type": "display_data",
          "data": {
            "application/vnd.jupyter.widget-view+json": {
              "model_id": "51a2782ada154c4e92e997df4b1e2bbf",
              "version_minor": 0,
              "version_major": 2
            },
            "text/plain": [
              "HBox(children=(FloatProgress(value=1.0, bar_style='info', description='Dl Size...', max=1.0, style=ProgressSty…"
            ]
          },
          "metadata": {
            "tags": []
          }
        },
        {
          "output_type": "stream",
          "text": [
            "\n",
            "\n"
          ],
          "name": "stdout"
        },
        {
          "output_type": "display_data",
          "data": {
            "application/vnd.jupyter.widget-view+json": {
              "model_id": "ebe2abe48d8b4488844aefc126221e1a",
              "version_minor": 0,
              "version_major": 2
            },
            "text/plain": [
              "HBox(children=(FloatProgress(value=0.0, description='Generating splits...', max=3.0, style=ProgressStyle(descr…"
            ]
          },
          "metadata": {
            "tags": []
          }
        },
        {
          "output_type": "display_data",
          "data": {
            "application/vnd.jupyter.widget-view+json": {
              "model_id": "9306d719684f4dbca14757a832cfae66",
              "version_minor": 0,
              "version_major": 2
            },
            "text/plain": [
              "HBox(children=(FloatProgress(value=0.0, description='Generating train examples...', max=25000.0, style=Progres…"
            ]
          },
          "metadata": {
            "tags": []
          }
        },
        {
          "output_type": "display_data",
          "data": {
            "application/vnd.jupyter.widget-view+json": {
              "model_id": "b5c62090f12b4f4a98933565c2afd8ec",
              "version_minor": 0,
              "version_major": 2
            },
            "text/plain": [
              "HBox(children=(FloatProgress(value=0.0, description='Shuffling imdb_reviews-train.tfrecord...', max=25000.0, s…"
            ]
          },
          "metadata": {
            "tags": []
          }
        },
        {
          "output_type": "display_data",
          "data": {
            "application/vnd.jupyter.widget-view+json": {
              "model_id": "504233586ef84bcea0ac642dee926ce8",
              "version_minor": 0,
              "version_major": 2
            },
            "text/plain": [
              "HBox(children=(FloatProgress(value=0.0, description='Generating test examples...', max=25000.0, style=Progress…"
            ]
          },
          "metadata": {
            "tags": []
          }
        },
        {
          "output_type": "display_data",
          "data": {
            "application/vnd.jupyter.widget-view+json": {
              "model_id": "c49bf48b58d448c298397b008a7d9871",
              "version_minor": 0,
              "version_major": 2
            },
            "text/plain": [
              "HBox(children=(FloatProgress(value=0.0, description='Shuffling imdb_reviews-test.tfrecord...', max=25000.0, st…"
            ]
          },
          "metadata": {
            "tags": []
          }
        },
        {
          "output_type": "display_data",
          "data": {
            "application/vnd.jupyter.widget-view+json": {
              "model_id": "c5d25d4f654e4f0db8516af4d60a461f",
              "version_minor": 0,
              "version_major": 2
            },
            "text/plain": [
              "HBox(children=(FloatProgress(value=0.0, description='Generating unsupervised examples...', max=50000.0, style=…"
            ]
          },
          "metadata": {
            "tags": []
          }
        },
        {
          "output_type": "display_data",
          "data": {
            "application/vnd.jupyter.widget-view+json": {
              "model_id": "71449d3f4a0a4b41879676ac8e868c5b",
              "version_minor": 0,
              "version_major": 2
            },
            "text/plain": [
              "HBox(children=(FloatProgress(value=0.0, description='Shuffling imdb_reviews-unsupervised.tfrecord...', max=500…"
            ]
          },
          "metadata": {
            "tags": []
          }
        },
        {
          "output_type": "stream",
          "text": [
            "\r\u001b[1mDataset imdb_reviews downloaded and prepared to /root/tensorflow_datasets/imdb_reviews/plain_text/1.0.0. Subsequent calls will reuse this data.\u001b[0m\n"
          ],
          "name": "stdout"
        }
      ]
    },
    {
      "cell_type": "markdown",
      "metadata": {
        "id": "a2iYz_OAaNnF"
      },
      "source": [
        "### 데이터 탐색"
      ]
    },
    {
      "cell_type": "code",
      "metadata": {
        "colab": {
          "base_uri": "https://localhost:8080/"
        },
        "id": "wuOIlZ8o72lB",
        "outputId": "c7194067-3728-448e-9bba-fd1f8ba3e56b"
      },
      "source": [
        "# 처음 10개의 샘플 출력\n",
        "train_examples_batch, train_labels_batch = next(iter(train_data.batch(10)))\n",
        "train_examples_batch"
      ],
      "execution_count": null,
      "outputs": [
        {
          "output_type": "execute_result",
          "data": {
            "text/plain": [
              "<tf.Tensor: shape=(10,), dtype=string, numpy=\n",
              "array([b\"This was an absolutely terrible movie. Don't be lured in by Christopher Walken or Michael Ironside. Both are great actors, but this must simply be their worst role in history. Even their great acting could not redeem this movie's ridiculous storyline. This movie is an early nineties US propaganda piece. The most pathetic scenes were those when the Columbian rebels were making their cases for revolutions. Maria Conchita Alonso appeared phony, and her pseudo-love affair with Walken was nothing but a pathetic emotional plug in a movie that was devoid of any real meaning. I am disappointed that there are movies like this, ruining actor's like Christopher Walken's good name. I could barely sit through it.\",\n",
              "       b'I have been known to fall asleep during films, but this is usually due to a combination of things including, really tired, being warm and comfortable on the sette and having just eaten a lot. However on this occasion I fell asleep because the film was rubbish. The plot development was constant. Constantly slow and boring. Things seemed to happen, but with no explanation of what was causing them or why. I admit, I may have missed part of the film, but i watched the majority of it and everything just seemed to happen of its own accord without any real concern for anything else. I cant recommend this film at all.',\n",
              "       b'Mann photographs the Alberta Rocky Mountains in a superb fashion, and Jimmy Stewart and Walter Brennan give enjoyable performances as they always seem to do. <br /><br />But come on Hollywood - a Mountie telling the people of Dawson City, Yukon to elect themselves a marshal (yes a marshal!) and to enforce the law themselves, then gunfighters battling it out on the streets for control of the town? <br /><br />Nothing even remotely resembling that happened on the Canadian side of the border during the Klondike gold rush. Mr. Mann and company appear to have mistaken Dawson City for Deadwood, the Canadian North for the American Wild West.<br /><br />Canadian viewers be prepared for a Reefer Madness type of enjoyable howl with this ludicrous plot, or, to shake your head in disgust.',\n",
              "       b'This is the kind of film for a snowy Sunday afternoon when the rest of the world can go ahead with its own business as you descend into a big arm-chair and mellow for a couple of hours. Wonderful performances from Cher and Nicolas Cage (as always) gently row the plot along. There are no rapids to cross, no dangerous waters, just a warm and witty paddle through New York life at its best. A family film in every sense and one that deserves the praise it received.',\n",
              "       b'As others have mentioned, all the women that go nude in this film are mostly absolutely gorgeous. The plot very ably shows the hypocrisy of the female libido. When men are around they want to be pursued, but when no \"men\" are around, they become the pursuers of a 14 year old boy. And the boy becomes a man really fast (we should all be so lucky at this age!). He then gets up the courage to pursue his true love.',\n",
              "       b\"This is a film which should be seen by anybody interested in, effected by, or suffering from an eating disorder. It is an amazingly accurate and sensitive portrayal of bulimia in a teenage girl, its causes and its symptoms. The girl is played by one of the most brilliant young actresses working in cinema today, Alison Lohman, who was later so spectacular in 'Where the Truth Lies'. I would recommend that this film be shown in all schools, as you will never see a better on this subject. Alison Lohman is absolutely outstanding, and one marvels at her ability to convey the anguish of a girl suffering from this compulsive disorder. If barometers tell us the air pressure, Alison Lohman tells us the emotional pressure with the same degree of accuracy. Her emotional range is so precise, each scene could be measured microscopically for its gradations of trauma, on a scale of rising hysteria and desperation which reaches unbearable intensity. Mare Winningham is the perfect choice to play her mother, and does so with immense sympathy and a range of emotions just as finely tuned as Lohman's. Together, they make a pair of sensitive emotional oscillators vibrating in resonance with one another. This film is really an astonishing achievement, and director Katt Shea should be proud of it. The only reason for not seeing it is if you are not interested in people. But even if you like nature films best, this is after all animal behaviour at the sharp edge. Bulimia is an extreme version of how a tormented soul can destroy her own body in a frenzy of despair. And if we don't sympathise with people suffering from the depths of despair, then we are dead inside.\",\n",
              "       b'Okay, you have:<br /><br />Penelope Keith as Miss Herringbone-Tweed, B.B.E. (Backbone of England.) She\\'s killed off in the first scene - that\\'s right, folks; this show has no backbone!<br /><br />Peter O\\'Toole as Ol\\' Colonel Cricket from The First War and now the emblazered Lord of the Manor.<br /><br />Joanna Lumley as the ensweatered Lady of the Manor, 20 years younger than the colonel and 20 years past her own prime but still glamourous (Brit spelling, not mine) enough to have a toy-boy on the side. It\\'s alright, they have Col. Cricket\\'s full knowledge and consent (they guy even comes \\'round for Christmas!) Still, she\\'s considerate of the colonel enough to have said toy-boy her own age (what a gal!)<br /><br />David McCallum as said toy-boy, equally as pointlessly glamourous as his squeeze. Pilcher couldn\\'t come up with any cover for him within the story, so she gave him a hush-hush job at the Circus.<br /><br />and finally:<br /><br />Susan Hampshire as Miss Polonia Teacups, Venerable Headmistress of the Venerable Girls\\' Boarding-School, serving tea in her office with a dash of deep, poignant advice for life in the outside world just before graduation. Her best bit of advice: \"I\\'ve only been to Nancherrow (the local Stately Home of England) once. I thought it was very beautiful but, somehow, not part of the real world.\" Well, we can\\'t say they didn\\'t warn us.<br /><br />Ah, Susan - time was, your character would have been running the whole show. They don\\'t write \\'em like that any more. Our loss, not yours.<br /><br />So - with a cast and setting like this, you have the re-makings of \"Brideshead Revisited,\" right?<br /><br />Wrong! They took these 1-dimensional supporting roles because they paid so well. After all, acting is one of the oldest temp-jobs there is (YOU name another!)<br /><br />First warning sign: lots and lots of backlighting. They get around it by shooting outdoors - \"hey, it\\'s just the sunlight!\"<br /><br />Second warning sign: Leading Lady cries a lot. When not crying, her eyes are moist. That\\'s the law of romance novels: Leading Lady is \"dewy-eyed.\"<br /><br />Henceforth, Leading Lady shall be known as L.L.<br /><br />Third warning sign: L.L. actually has stars in her eyes when she\\'s in love. Still, I\\'ll give Emily Mortimer an award just for having to act with that spotlight in her eyes (I wonder . did they use contacts?)<br /><br />And lastly, fourth warning sign: no on-screen female character is \"Mrs.\" She\\'s either \"Miss\" or \"Lady.\"<br /><br />When all was said and done, I still couldn\\'t tell you who was pursuing whom and why. I couldn\\'t even tell you what was said and done.<br /><br />To sum up: they all live through World War II without anything happening to them at all.<br /><br />OK, at the end, L.L. finds she\\'s lost her parents to the Japanese prison camps and baby sis comes home catatonic. Meanwhile (there\\'s always a \"meanwhile,\") some young guy L.L. had a crush on (when, I don\\'t know) comes home from some wartime tough spot and is found living on the street by Lady of the Manor (must be some street if SHE\\'s going to find him there.) Both war casualties are whisked away to recover at Nancherrow (SOMEBODY has to be \"whisked away\" SOMEWHERE in these romance stories!)<br /><br />Great drama.',\n",
              "       b'The film is based on a genuine 1950s novel.<br /><br />Journalist Colin McInnes wrote a set of three \"London novels\": \"Absolute Beginners\", \"City of Spades\" and \"Mr Love and Justice\". I have read all three. The first two are excellent. The last, perhaps an experiment that did not come off. But McInnes\\'s work is highly acclaimed; and rightly so. This musical is the novelist\\'s ultimate nightmare - to see the fruits of one\\'s mind being turned into a glitzy, badly-acted, soporific one-dimensional apology of a film that says it captures the spirit of 1950s London, and does nothing of the sort.<br /><br />Thank goodness Colin McInnes wasn\\'t alive to witness it.',\n",
              "       b'I really love the sexy action and sci-fi films of the sixties and its because of the actress\\'s that appeared in them. They found the sexiest women to be in these films and it didn\\'t matter if they could act (Remember \"Candy\"?). The reason I was disappointed by this film was because it wasn\\'t nostalgic enough. The story here has a European sci-fi film called \"Dragonfly\" being made and the director is fired. So the producers decide to let a young aspiring filmmaker (Jeremy Davies) to complete the picture. They\\'re is one real beautiful woman in the film who plays Dragonfly but she\\'s barely in it. Film is written and directed by Roman Coppola who uses some of his fathers exploits from his early days and puts it into the script. I wish the film could have been an homage to those early films. They could have lots of cameos by actors who appeared in them. There is one actor in this film who was popular from the sixties and its John Phillip Law (Barbarella). Gerard Depardieu, Giancarlo Giannini and Dean Stockwell appear as well. I guess I\\'m going to have to continue waiting for a director to make a good homage to the films of the sixties. If any are reading this, \"Make it as sexy as you can\"! I\\'ll be waiting!',\n",
              "       b'Sure, this one isn\\'t really a blockbuster, nor does it target such a position. \"Dieter\" is the first name of a quite popular German musician, who is either loved or hated for his kind of acting and thats exactly what this movie is about. It is based on the autobiography \"Dieter Bohlen\" wrote a few years ago but isn\\'t meant to be accurate on that. The movie is filled with some sexual offensive content (at least for American standard) which is either amusing (not for the other \"actors\" of course) or dumb - it depends on your individual kind of humor or on you being a \"Bohlen\"-Fan or not. Technically speaking there isn\\'t much to criticize. Speaking of me I find this movie to be an OK-movie.'],\n",
              "      dtype=object)>"
            ]
          },
          "metadata": {
            "tags": []
          },
          "execution_count": 48
        }
      ]
    },
    {
      "cell_type": "code",
      "metadata": {
        "colab": {
          "base_uri": "https://localhost:8080/"
        },
        "id": "sUuGsXYtGoE6",
        "outputId": "8120bf4b-7f26-4e4e-9ddc-d2ea7456817a"
      },
      "source": [
        "train_labels_batch"
      ],
      "execution_count": null,
      "outputs": [
        {
          "output_type": "execute_result",
          "data": {
            "text/plain": [
              "<tf.Tensor: shape=(10,), dtype=int64, numpy=array([0, 0, 0, 1, 1, 1, 0, 0, 0, 0])>"
            ]
          },
          "metadata": {
            "tags": []
          },
          "execution_count": 49
        }
      ]
    },
    {
      "cell_type": "markdown",
      "metadata": {
        "id": "UrajFKasGoCG"
      },
      "source": [
        "### 모델 구성\n",
        "- 어떻게 텍스트를 표현할 것인가?\n",
        "- 모델에서 얼마나 많은 층을 사용할 것인가?\n",
        "- 각 층에서 얼마나 많은 은닉 유닛을 사용할 것인가?\n"
      ]
    },
    {
      "cell_type": "markdown",
      "metadata": {
        "id": "V-Z9sxJMGoAL"
      },
      "source": [
        "텍스트를 표현하는 방법은 문장을 임베딩 벡터로 바꾸는 것\n",
        "- 텍스트 전처리에 대해 신경 쓸 필요가 없음\n",
        "- 전이 학습의 장점을 이용함\n",
        "- 임베딩은 고정 크기이기 때문에 처리 과정이 단순해짐"
      ]
    },
    {
      "cell_type": "code",
      "metadata": {
        "colab": {
          "base_uri": "https://localhost:8080/"
        },
        "id": "E4r78IXLGn8Y",
        "outputId": "bf474c77-9b70-4e1b-de73-b6fb4803d4f9"
      },
      "source": [
        "# 텐서플로 허브 모델을 사용하는 케라스 층 만들기\n",
        "embedding = \"https://tfhub.dev/google/tf2-preview/gnews-swivel-20dim/1\"\n",
        "hub_layer = hub.KerasLayer(embedding, input_shape=[],\n",
        "                           dtype=tf.string, trainable=True)\n",
        "hub_layer(train_examples_batch[:3])"
      ],
      "execution_count": null,
      "outputs": [
        {
          "output_type": "execute_result",
          "data": {
            "text/plain": [
              "<tf.Tensor: shape=(3, 20), dtype=float32, numpy=\n",
              "array([[ 1.765786  , -3.882232  ,  3.9134233 , -1.5557289 , -3.3362343 ,\n",
              "        -1.7357955 , -1.9954445 ,  1.2989551 ,  5.081598  , -1.1041286 ,\n",
              "        -2.0503852 , -0.72675157, -0.65675956,  0.24436149, -3.7208383 ,\n",
              "         2.0954835 ,  2.2969332 , -2.0689783 , -2.9489717 , -1.1315987 ],\n",
              "       [ 1.8804485 , -2.5852382 ,  3.4066997 ,  1.0982676 , -4.056685  ,\n",
              "        -4.891284  , -2.785554  ,  1.3874227 ,  3.8476458 , -0.9256538 ,\n",
              "        -1.896706  ,  1.2113281 ,  0.11474707,  0.76209456, -4.8791065 ,\n",
              "         2.906149  ,  4.7087674 , -2.3652055 , -3.5015898 , -1.6390051 ],\n",
              "       [ 0.71152234, -0.6353217 ,  1.7385626 , -1.1168286 , -0.5451594 ,\n",
              "        -1.1808156 ,  0.09504455,  1.4653089 ,  0.66059524,  0.79308075,\n",
              "        -2.2268345 ,  0.07446612, -1.4075904 , -0.70645386, -1.907037  ,\n",
              "         1.4419787 ,  1.9551861 , -0.42660055, -2.8022065 ,  0.43727064]],\n",
              "      dtype=float32)>"
            ]
          },
          "metadata": {
            "tags": []
          },
          "execution_count": 51
        }
      ]
    },
    {
      "cell_type": "code",
      "metadata": {
        "colab": {
          "base_uri": "https://localhost:8080/"
        },
        "id": "9pm9l3Y7Gn5u",
        "outputId": "799a189d-9465-4c5f-fcda-fce6db36dec3"
      },
      "source": [
        "'''\n",
        "첫 번째 층은 텐서플로 허브층. 사전 훈련된 모델을 사용하여 하나의 문장을 임베딩 벡터로 매핑\n",
        "사전 훈련된 텍스트 임베딩 모델은 하나의 문장을 토큰으로 나누고 각 토큰의 임베딩을 연결하여 반환\n",
        "이 고정 크기의 출력 벡터는 16개의 은닉 유닛을 가진 완전 연결 층으로 주입\n",
        "마지막 층은 하나의 출력 노드를 가진 완전 연결 층. sigmoid 활성화 함수를 사용\n",
        "'''\n",
        "\n",
        "# 전체 모델 만들기 \n",
        "model = tf.keras.Sequential()\n",
        "model.add(hub_layer)\n",
        "model.add(tf.keras.layers.Dense(16, activation='relu'))\n",
        "model.add(tf.keras.layers.Dense(1))\n",
        "\n",
        "model.summary()"
      ],
      "execution_count": null,
      "outputs": [
        {
          "output_type": "stream",
          "text": [
            "Model: \"sequential_2\"\n",
            "_________________________________________________________________\n",
            "Layer (type)                 Output Shape              Param #   \n",
            "=================================================================\n",
            "keras_layer (KerasLayer)     (None, 20)                400020    \n",
            "_________________________________________________________________\n",
            "dense_4 (Dense)              (None, 16)                336       \n",
            "_________________________________________________________________\n",
            "dense_5 (Dense)              (None, 1)                 17        \n",
            "=================================================================\n",
            "Total params: 400,373\n",
            "Trainable params: 400,373\n",
            "Non-trainable params: 0\n",
            "_________________________________________________________________\n"
          ],
          "name": "stdout"
        }
      ]
    },
    {
      "cell_type": "markdown",
      "metadata": {
        "id": "0VJ3gYX_Gn3E"
      },
      "source": [
        "### 손실 함수와 옵티마이저"
      ]
    },
    {
      "cell_type": "code",
      "metadata": {
        "id": "OGYsImnKGnzK"
      },
      "source": [
        "model.compile(optimizer='adam',\n",
        "              loss=tf.keras.losses.BinaryCrossentropy(from_logits=True),\n",
        "              metrics=['accuracy'])"
      ],
      "execution_count": null,
      "outputs": []
    },
    {
      "cell_type": "markdown",
      "metadata": {
        "id": "DSBCc0vmGnwY"
      },
      "source": [
        "### 모델 훈련"
      ]
    },
    {
      "cell_type": "code",
      "metadata": {
        "colab": {
          "base_uri": "https://localhost:8080/"
        },
        "id": "STl-wU3J72iN",
        "outputId": "d4746c79-02c5-49f2-b046-63c38681801d"
      },
      "source": [
        "history = model.fit(train_data.shuffle(10000).batch(512),\n",
        "                    epochs=20,\n",
        "                    validation_data=validation_data.batch(512),\n",
        "                    verbose=1)"
      ],
      "execution_count": null,
      "outputs": [
        {
          "output_type": "stream",
          "text": [
            "Epoch 1/20\n",
            "30/30 [==============================] - 3s 71ms/step - loss: 0.7584 - accuracy: 0.5047 - val_loss: 0.6606 - val_accuracy: 0.5923\n",
            "Epoch 2/20\n",
            "30/30 [==============================] - 2s 52ms/step - loss: 0.6475 - accuracy: 0.6040 - val_loss: 0.6065 - val_accuracy: 0.6360\n",
            "Epoch 3/20\n",
            "30/30 [==============================] - 2s 52ms/step - loss: 0.5979 - accuracy: 0.6511 - val_loss: 0.5655 - val_accuracy: 0.6832\n",
            "Epoch 4/20\n",
            "30/30 [==============================] - 2s 53ms/step - loss: 0.5491 - accuracy: 0.7016 - val_loss: 0.5299 - val_accuracy: 0.7094\n",
            "Epoch 5/20\n",
            "30/30 [==============================] - 2s 53ms/step - loss: 0.5112 - accuracy: 0.7254 - val_loss: 0.4995 - val_accuracy: 0.7549\n",
            "Epoch 6/20\n",
            "30/30 [==============================] - 2s 54ms/step - loss: 0.4800 - accuracy: 0.7555 - val_loss: 0.4680 - val_accuracy: 0.7735\n",
            "Epoch 7/20\n",
            "30/30 [==============================] - 2s 55ms/step - loss: 0.4393 - accuracy: 0.7895 - val_loss: 0.4399 - val_accuracy: 0.7850\n",
            "Epoch 8/20\n",
            "30/30 [==============================] - 2s 53ms/step - loss: 0.4090 - accuracy: 0.8049 - val_loss: 0.4171 - val_accuracy: 0.7967\n",
            "Epoch 9/20\n",
            "30/30 [==============================] - 2s 53ms/step - loss: 0.3841 - accuracy: 0.8188 - val_loss: 0.3974 - val_accuracy: 0.8111\n",
            "Epoch 10/20\n",
            "30/30 [==============================] - 2s 53ms/step - loss: 0.3518 - accuracy: 0.8483 - val_loss: 0.3808 - val_accuracy: 0.8215\n",
            "Epoch 11/20\n",
            "30/30 [==============================] - 2s 54ms/step - loss: 0.3261 - accuracy: 0.8570 - val_loss: 0.3668 - val_accuracy: 0.8343\n",
            "Epoch 12/20\n",
            "30/30 [==============================] - 2s 53ms/step - loss: 0.3112 - accuracy: 0.8644 - val_loss: 0.3567 - val_accuracy: 0.8297\n",
            "Epoch 13/20\n",
            "30/30 [==============================] - 2s 54ms/step - loss: 0.2902 - accuracy: 0.8743 - val_loss: 0.3448 - val_accuracy: 0.8420\n",
            "Epoch 14/20\n",
            "30/30 [==============================] - 2s 54ms/step - loss: 0.2692 - accuracy: 0.8890 - val_loss: 0.3359 - val_accuracy: 0.8487\n",
            "Epoch 15/20\n",
            "30/30 [==============================] - 2s 53ms/step - loss: 0.2546 - accuracy: 0.8973 - val_loss: 0.3295 - val_accuracy: 0.8485\n",
            "Epoch 16/20\n",
            "30/30 [==============================] - 2s 52ms/step - loss: 0.2349 - accuracy: 0.9061 - val_loss: 0.3228 - val_accuracy: 0.8545\n",
            "Epoch 17/20\n",
            "30/30 [==============================] - 2s 53ms/step - loss: 0.2207 - accuracy: 0.9154 - val_loss: 0.3213 - val_accuracy: 0.8520\n",
            "Epoch 18/20\n",
            "30/30 [==============================] - 2s 53ms/step - loss: 0.2187 - accuracy: 0.9119 - val_loss: 0.3142 - val_accuracy: 0.8606\n",
            "Epoch 19/20\n",
            "30/30 [==============================] - 2s 54ms/step - loss: 0.1966 - accuracy: 0.9255 - val_loss: 0.3110 - val_accuracy: 0.8634\n",
            "Epoch 20/20\n",
            "30/30 [==============================] - 2s 53ms/step - loss: 0.1767 - accuracy: 0.9333 - val_loss: 0.3108 - val_accuracy: 0.8682\n"
          ],
          "name": "stdout"
        }
      ]
    },
    {
      "cell_type": "markdown",
      "metadata": {
        "id": "pDSxIc7k72fp"
      },
      "source": [
        "### 모델 평가"
      ]
    },
    {
      "cell_type": "code",
      "metadata": {
        "colab": {
          "base_uri": "https://localhost:8080/"
        },
        "id": "h71U9-Af72da",
        "outputId": "e30dcc85-f6ec-4499-8b81-28e188a4213f"
      },
      "source": [
        "results = model.evaluate(test_data.batch(512), verbose=2)\n",
        "\n",
        "for name, value in zip(model.metrics_names, results):\n",
        "    print('%s: %.3f' % (name, value))"
      ],
      "execution_count": null,
      "outputs": [
        {
          "output_type": "stream",
          "text": [
            "49/49 - 2s - loss: 0.3235 - accuracy: 0.8593\n",
            "loss: 0.324\n",
            "accuracy: 0.859\n"
          ],
          "name": "stdout"
        }
      ]
    },
    {
      "cell_type": "markdown",
      "metadata": {
        "id": "OaSEN6wv72ZE"
      },
      "source": [
        "---"
      ]
    },
    {
      "cell_type": "markdown",
      "metadata": {
        "id": "b87PZNk_72Wi"
      },
      "source": [
        "# 회귀\n",
        "- 자동차 연비 예측하기"
      ]
    },
    {
      "cell_type": "code",
      "metadata": {
        "id": "_HnOfhBoNikz"
      },
      "source": [
        "pip install -q seaborn"
      ],
      "execution_count": null,
      "outputs": []
    },
    {
      "cell_type": "code",
      "metadata": {
        "colab": {
          "base_uri": "https://localhost:8080/"
        },
        "id": "Tzn1urq172Uw",
        "outputId": "3cce9f83-9e81-470e-d7f2-a3e8badb6bde"
      },
      "source": [
        "import pathlib\n",
        "\n",
        "import matplotlib.pyplot as plt\n",
        "import pandas as pd\n",
        "import seaborn as sns\n",
        "\n",
        "import tensorflow as tf\n",
        "from tensorflow import keras\n",
        "from tensorflow.keras import layers\n",
        "\n",
        "print(tf.__version__)"
      ],
      "execution_count": null,
      "outputs": [
        {
          "output_type": "stream",
          "text": [
            "2.4.1\n"
          ],
          "name": "stdout"
        }
      ]
    },
    {
      "cell_type": "code",
      "metadata": {
        "colab": {
          "base_uri": "https://localhost:8080/",
          "height": 36
        },
        "id": "P7E6H-Hk72Qp",
        "outputId": "260c2c38-e39c-4c29-b30f-a60a4020384e"
      },
      "source": [
        "dataset_path = keras.utils.get_file(\"auto-mpg.data\", \"http://archive.ics.uci.edu/ml/machine-learning-databases/auto-mpg/auto-mpg.data\")\n",
        "dataset_path"
      ],
      "execution_count": null,
      "outputs": [
        {
          "output_type": "execute_result",
          "data": {
            "application/vnd.google.colaboratory.intrinsic+json": {
              "type": "string"
            },
            "text/plain": [
              "'/root/.keras/datasets/auto-mpg.data'"
            ]
          },
          "metadata": {
            "tags": []
          },
          "execution_count": 3
        }
      ]
    },
    {
      "cell_type": "code",
      "metadata": {
        "colab": {
          "base_uri": "https://localhost:8080/",
          "height": 221
        },
        "id": "L1Xpds1S72OT",
        "outputId": "f42cda03-67f9-4d43-a080-7e544fbc6703"
      },
      "source": [
        "column_names = ['MPG','Cylinders','Displacement','Horsepower','Weight',\n",
        "                'Acceleration', 'Model Year', 'Origin']\n",
        "# na_values - '?'를 문자열이 아닌 결측값으로 인식할 수 있게 해줌\n",
        "# comment - '\\t'으로 시작하는 행 무시\n",
        "# skipinitialspace - 구분기호 뒤 공백 무시\n",
        "raw_dataset = pd.read_csv(dataset_path, names=column_names,\n",
        "                          na_values='?', comment='\\t', \n",
        "                          sep=' ', skipinitialspace=True)\n",
        "dataset = raw_dataset.copy()\n",
        "dataset.tail()"
      ],
      "execution_count": null,
      "outputs": [
        {
          "output_type": "execute_result",
          "data": {
            "text/html": [
              "<div>\n",
              "<style scoped>\n",
              "    .dataframe tbody tr th:only-of-type {\n",
              "        vertical-align: middle;\n",
              "    }\n",
              "\n",
              "    .dataframe tbody tr th {\n",
              "        vertical-align: top;\n",
              "    }\n",
              "\n",
              "    .dataframe thead th {\n",
              "        text-align: right;\n",
              "    }\n",
              "</style>\n",
              "<table border=\"1\" class=\"dataframe\">\n",
              "  <thead>\n",
              "    <tr style=\"text-align: right;\">\n",
              "      <th></th>\n",
              "      <th>MPG</th>\n",
              "      <th>Cylinders</th>\n",
              "      <th>Displacement</th>\n",
              "      <th>Horsepower</th>\n",
              "      <th>Weight</th>\n",
              "      <th>Acceleration</th>\n",
              "      <th>Model Year</th>\n",
              "      <th>Origin</th>\n",
              "    </tr>\n",
              "  </thead>\n",
              "  <tbody>\n",
              "    <tr>\n",
              "      <th>393</th>\n",
              "      <td>27.0</td>\n",
              "      <td>4</td>\n",
              "      <td>140.0</td>\n",
              "      <td>86.0</td>\n",
              "      <td>2790.0</td>\n",
              "      <td>15.6</td>\n",
              "      <td>82</td>\n",
              "      <td>1</td>\n",
              "    </tr>\n",
              "    <tr>\n",
              "      <th>394</th>\n",
              "      <td>44.0</td>\n",
              "      <td>4</td>\n",
              "      <td>97.0</td>\n",
              "      <td>52.0</td>\n",
              "      <td>2130.0</td>\n",
              "      <td>24.6</td>\n",
              "      <td>82</td>\n",
              "      <td>2</td>\n",
              "    </tr>\n",
              "    <tr>\n",
              "      <th>395</th>\n",
              "      <td>32.0</td>\n",
              "      <td>4</td>\n",
              "      <td>135.0</td>\n",
              "      <td>84.0</td>\n",
              "      <td>2295.0</td>\n",
              "      <td>11.6</td>\n",
              "      <td>82</td>\n",
              "      <td>1</td>\n",
              "    </tr>\n",
              "    <tr>\n",
              "      <th>396</th>\n",
              "      <td>28.0</td>\n",
              "      <td>4</td>\n",
              "      <td>120.0</td>\n",
              "      <td>79.0</td>\n",
              "      <td>2625.0</td>\n",
              "      <td>18.6</td>\n",
              "      <td>82</td>\n",
              "      <td>1</td>\n",
              "    </tr>\n",
              "    <tr>\n",
              "      <th>397</th>\n",
              "      <td>31.0</td>\n",
              "      <td>4</td>\n",
              "      <td>119.0</td>\n",
              "      <td>82.0</td>\n",
              "      <td>2720.0</td>\n",
              "      <td>19.4</td>\n",
              "      <td>82</td>\n",
              "      <td>1</td>\n",
              "    </tr>\n",
              "  </tbody>\n",
              "</table>\n",
              "</div>"
            ],
            "text/plain": [
              "      MPG  Cylinders  Displacement  ...  Acceleration  Model Year  Origin\n",
              "393  27.0          4         140.0  ...          15.6          82       1\n",
              "394  44.0          4          97.0  ...          24.6          82       2\n",
              "395  32.0          4         135.0  ...          11.6          82       1\n",
              "396  28.0          4         120.0  ...          18.6          82       1\n",
              "397  31.0          4         119.0  ...          19.4          82       1\n",
              "\n",
              "[5 rows x 8 columns]"
            ]
          },
          "metadata": {
            "tags": []
          },
          "execution_count": 4
        }
      ]
    },
    {
      "cell_type": "markdown",
      "metadata": {
        "id": "eiguUM6a72Ku"
      },
      "source": [
        "### 데이터 정제하기"
      ]
    },
    {
      "cell_type": "code",
      "metadata": {
        "colab": {
          "base_uri": "https://localhost:8080/"
        },
        "id": "mTG6I-cQ72IJ",
        "outputId": "71951c04-5795-4e0b-dce5-3e47212fd8de"
      },
      "source": [
        "# 결측치 확인 \n",
        "dataset.isna().sum()"
      ],
      "execution_count": null,
      "outputs": [
        {
          "output_type": "execute_result",
          "data": {
            "text/plain": [
              "MPG             0\n",
              "Cylinders       0\n",
              "Displacement    0\n",
              "Horsepower      6\n",
              "Weight          0\n",
              "Acceleration    0\n",
              "Model Year      0\n",
              "Origin          0\n",
              "dtype: int64"
            ]
          },
          "metadata": {
            "tags": []
          },
          "execution_count": 5
        }
      ]
    },
    {
      "cell_type": "code",
      "metadata": {
        "id": "qvfIU9Nx72Fa"
      },
      "source": [
        "# 누락된 행 삭제\n",
        "dataset = dataset.dropna()"
      ],
      "execution_count": null,
      "outputs": []
    },
    {
      "cell_type": "code",
      "metadata": {
        "colab": {
          "base_uri": "https://localhost:8080/",
          "height": 241
        },
        "id": "8BBnxsMv72C2",
        "outputId": "4e5b2109-7dc1-4466-8543-54bfd0d58c65"
      },
      "source": [
        "'''\n",
        "pd.get_dummies()\n",
        "from sklearn.preprocessing import OneHotEncoder\n",
        "'''\n",
        "\n",
        "# 'Origin' 열은 수치형이 아닌 범주형이므로 원핫 인코딩으로 변환\n",
        "origin = dataset.pop('Origin')\n",
        "dataset['USA'] = (origin == 1) * 1.0\n",
        "dataset['Europe'] = (origin == 2) * 1.0\n",
        "dataset['Japan'] = (origin == 3) * 1.0\n",
        "dataset.tail()"
      ],
      "execution_count": null,
      "outputs": [
        {
          "output_type": "execute_result",
          "data": {
            "text/html": [
              "<div>\n",
              "<style scoped>\n",
              "    .dataframe tbody tr th:only-of-type {\n",
              "        vertical-align: middle;\n",
              "    }\n",
              "\n",
              "    .dataframe tbody tr th {\n",
              "        vertical-align: top;\n",
              "    }\n",
              "\n",
              "    .dataframe thead th {\n",
              "        text-align: right;\n",
              "    }\n",
              "</style>\n",
              "<table border=\"1\" class=\"dataframe\">\n",
              "  <thead>\n",
              "    <tr style=\"text-align: right;\">\n",
              "      <th></th>\n",
              "      <th>MPG</th>\n",
              "      <th>Cylinders</th>\n",
              "      <th>Displacement</th>\n",
              "      <th>Horsepower</th>\n",
              "      <th>Weight</th>\n",
              "      <th>Acceleration</th>\n",
              "      <th>Model Year</th>\n",
              "      <th>USA</th>\n",
              "      <th>Europe</th>\n",
              "      <th>Japan</th>\n",
              "    </tr>\n",
              "  </thead>\n",
              "  <tbody>\n",
              "    <tr>\n",
              "      <th>393</th>\n",
              "      <td>27.0</td>\n",
              "      <td>4</td>\n",
              "      <td>140.0</td>\n",
              "      <td>86.0</td>\n",
              "      <td>2790.0</td>\n",
              "      <td>15.6</td>\n",
              "      <td>82</td>\n",
              "      <td>1.0</td>\n",
              "      <td>0.0</td>\n",
              "      <td>0.0</td>\n",
              "    </tr>\n",
              "    <tr>\n",
              "      <th>394</th>\n",
              "      <td>44.0</td>\n",
              "      <td>4</td>\n",
              "      <td>97.0</td>\n",
              "      <td>52.0</td>\n",
              "      <td>2130.0</td>\n",
              "      <td>24.6</td>\n",
              "      <td>82</td>\n",
              "      <td>0.0</td>\n",
              "      <td>1.0</td>\n",
              "      <td>0.0</td>\n",
              "    </tr>\n",
              "    <tr>\n",
              "      <th>395</th>\n",
              "      <td>32.0</td>\n",
              "      <td>4</td>\n",
              "      <td>135.0</td>\n",
              "      <td>84.0</td>\n",
              "      <td>2295.0</td>\n",
              "      <td>11.6</td>\n",
              "      <td>82</td>\n",
              "      <td>1.0</td>\n",
              "      <td>0.0</td>\n",
              "      <td>0.0</td>\n",
              "    </tr>\n",
              "    <tr>\n",
              "      <th>396</th>\n",
              "      <td>28.0</td>\n",
              "      <td>4</td>\n",
              "      <td>120.0</td>\n",
              "      <td>79.0</td>\n",
              "      <td>2625.0</td>\n",
              "      <td>18.6</td>\n",
              "      <td>82</td>\n",
              "      <td>1.0</td>\n",
              "      <td>0.0</td>\n",
              "      <td>0.0</td>\n",
              "    </tr>\n",
              "    <tr>\n",
              "      <th>397</th>\n",
              "      <td>31.0</td>\n",
              "      <td>4</td>\n",
              "      <td>119.0</td>\n",
              "      <td>82.0</td>\n",
              "      <td>2720.0</td>\n",
              "      <td>19.4</td>\n",
              "      <td>82</td>\n",
              "      <td>1.0</td>\n",
              "      <td>0.0</td>\n",
              "      <td>0.0</td>\n",
              "    </tr>\n",
              "  </tbody>\n",
              "</table>\n",
              "</div>"
            ],
            "text/plain": [
              "      MPG  Cylinders  Displacement  Horsepower  ...  Model Year  USA  Europe  Japan\n",
              "393  27.0          4         140.0        86.0  ...          82  1.0     0.0    0.0\n",
              "394  44.0          4          97.0        52.0  ...          82  0.0     1.0    0.0\n",
              "395  32.0          4         135.0        84.0  ...          82  1.0     0.0    0.0\n",
              "396  28.0          4         120.0        79.0  ...          82  1.0     0.0    0.0\n",
              "397  31.0          4         119.0        82.0  ...          82  1.0     0.0    0.0\n",
              "\n",
              "[5 rows x 10 columns]"
            ]
          },
          "metadata": {
            "tags": []
          },
          "execution_count": 7
        }
      ]
    },
    {
      "cell_type": "markdown",
      "metadata": {
        "id": "bt3JqAeZ72AS"
      },
      "source": [
        "### 데이터셋을 훈련 세트와 테스트 세트로 분할하기"
      ]
    },
    {
      "cell_type": "code",
      "metadata": {
        "id": "qAB9XcL4Q5_A"
      },
      "source": [
        "train_dataset = dataset.sample(frac=0.8, random_state=0)\n",
        "\n",
        "test_dataset = dataset.drop(train_dataset.index)"
      ],
      "execution_count": null,
      "outputs": []
    },
    {
      "cell_type": "markdown",
      "metadata": {
        "id": "5kV8Vsc4RGZV"
      },
      "source": [
        "### 데이터 조사하기"
      ]
    },
    {
      "cell_type": "code",
      "metadata": {
        "colab": {
          "base_uri": "https://localhost:8080/",
          "height": 744
        },
        "id": "mkO6nPf4RJEq",
        "outputId": "a42651d3-f6fa-4336-c232-d6a0d8d91e7f"
      },
      "source": [
        "sns.pairplot(train_dataset[['MPG', 'Cylinders', 'Displacement', 'Weight']], diag_kind='kde')"
      ],
      "execution_count": null,
      "outputs": [
        {
          "output_type": "execute_result",
          "data": {
            "text/plain": [
              "<seaborn.axisgrid.PairGrid at 0x7f5d292a7a50>"
            ]
          },
          "metadata": {
            "tags": []
          },
          "execution_count": 9
        },
        {
          "output_type": "display_data",
          "data": {
            "image/png": "[encoded data removed]",
            "text/plain": [
              "<Figure size 720x720 with 20 Axes>"
            ]
          },
          "metadata": {
            "tags": [],
            "needs_background": "light"
          }
        }
      ]
    },
    {
      "cell_type": "code",
      "metadata": {
        "colab": {
          "base_uri": "https://localhost:8080/",
          "height": 328
        },
        "id": "oMlUidvqRsB3",
        "outputId": "3cceaac7-a162-437a-f625-ea2ea38471a8"
      },
      "source": [
        "# 통계 확인\n",
        "train_stats = train_dataset.describe()\n",
        "train_stats.pop('MPG')\n",
        "train_stats = train_stats.transpose()\n",
        "train_stats"
      ],
      "execution_count": null,
      "outputs": [
        {
          "output_type": "execute_result",
          "data": {
            "text/html": [
              "<div>\n",
              "<style scoped>\n",
              "    .dataframe tbody tr th:only-of-type {\n",
              "        vertical-align: middle;\n",
              "    }\n",
              "\n",
              "    .dataframe tbody tr th {\n",
              "        vertical-align: top;\n",
              "    }\n",
              "\n",
              "    .dataframe thead th {\n",
              "        text-align: right;\n",
              "    }\n",
              "</style>\n",
              "<table border=\"1\" class=\"dataframe\">\n",
              "  <thead>\n",
              "    <tr style=\"text-align: right;\">\n",
              "      <th></th>\n",
              "      <th>count</th>\n",
              "      <th>mean</th>\n",
              "      <th>std</th>\n",
              "      <th>min</th>\n",
              "      <th>25%</th>\n",
              "      <th>50%</th>\n",
              "      <th>75%</th>\n",
              "      <th>max</th>\n",
              "    </tr>\n",
              "  </thead>\n",
              "  <tbody>\n",
              "    <tr>\n",
              "      <th>Cylinders</th>\n",
              "      <td>314.0</td>\n",
              "      <td>5.477707</td>\n",
              "      <td>1.699788</td>\n",
              "      <td>3.0</td>\n",
              "      <td>4.00</td>\n",
              "      <td>4.0</td>\n",
              "      <td>8.00</td>\n",
              "      <td>8.0</td>\n",
              "    </tr>\n",
              "    <tr>\n",
              "      <th>Displacement</th>\n",
              "      <td>314.0</td>\n",
              "      <td>195.318471</td>\n",
              "      <td>104.331589</td>\n",
              "      <td>68.0</td>\n",
              "      <td>105.50</td>\n",
              "      <td>151.0</td>\n",
              "      <td>265.75</td>\n",
              "      <td>455.0</td>\n",
              "    </tr>\n",
              "    <tr>\n",
              "      <th>Horsepower</th>\n",
              "      <td>314.0</td>\n",
              "      <td>104.869427</td>\n",
              "      <td>38.096214</td>\n",
              "      <td>46.0</td>\n",
              "      <td>76.25</td>\n",
              "      <td>94.5</td>\n",
              "      <td>128.00</td>\n",
              "      <td>225.0</td>\n",
              "    </tr>\n",
              "    <tr>\n",
              "      <th>Weight</th>\n",
              "      <td>314.0</td>\n",
              "      <td>2990.251592</td>\n",
              "      <td>843.898596</td>\n",
              "      <td>1649.0</td>\n",
              "      <td>2256.50</td>\n",
              "      <td>2822.5</td>\n",
              "      <td>3608.00</td>\n",
              "      <td>5140.0</td>\n",
              "    </tr>\n",
              "    <tr>\n",
              "      <th>Acceleration</th>\n",
              "      <td>314.0</td>\n",
              "      <td>15.559236</td>\n",
              "      <td>2.789230</td>\n",
              "      <td>8.0</td>\n",
              "      <td>13.80</td>\n",
              "      <td>15.5</td>\n",
              "      <td>17.20</td>\n",
              "      <td>24.8</td>\n",
              "    </tr>\n",
              "    <tr>\n",
              "      <th>Model Year</th>\n",
              "      <td>314.0</td>\n",
              "      <td>75.898089</td>\n",
              "      <td>3.675642</td>\n",
              "      <td>70.0</td>\n",
              "      <td>73.00</td>\n",
              "      <td>76.0</td>\n",
              "      <td>79.00</td>\n",
              "      <td>82.0</td>\n",
              "    </tr>\n",
              "    <tr>\n",
              "      <th>USA</th>\n",
              "      <td>314.0</td>\n",
              "      <td>0.624204</td>\n",
              "      <td>0.485101</td>\n",
              "      <td>0.0</td>\n",
              "      <td>0.00</td>\n",
              "      <td>1.0</td>\n",
              "      <td>1.00</td>\n",
              "      <td>1.0</td>\n",
              "    </tr>\n",
              "    <tr>\n",
              "      <th>Europe</th>\n",
              "      <td>314.0</td>\n",
              "      <td>0.178344</td>\n",
              "      <td>0.383413</td>\n",
              "      <td>0.0</td>\n",
              "      <td>0.00</td>\n",
              "      <td>0.0</td>\n",
              "      <td>0.00</td>\n",
              "      <td>1.0</td>\n",
              "    </tr>\n",
              "    <tr>\n",
              "      <th>Japan</th>\n",
              "      <td>314.0</td>\n",
              "      <td>0.197452</td>\n",
              "      <td>0.398712</td>\n",
              "      <td>0.0</td>\n",
              "      <td>0.00</td>\n",
              "      <td>0.0</td>\n",
              "      <td>0.00</td>\n",
              "      <td>1.0</td>\n",
              "    </tr>\n",
              "  </tbody>\n",
              "</table>\n",
              "</div>"
            ],
            "text/plain": [
              "              count         mean         std  ...     50%      75%     max\n",
              "Cylinders     314.0     5.477707    1.699788  ...     4.0     8.00     8.0\n",
              "Displacement  314.0   195.318471  104.331589  ...   151.0   265.75   455.0\n",
              "Horsepower    314.0   104.869427   38.096214  ...    94.5   128.00   225.0\n",
              "Weight        314.0  2990.251592  843.898596  ...  2822.5  3608.00  5140.0\n",
              "Acceleration  314.0    15.559236    2.789230  ...    15.5    17.20    24.8\n",
              "Model Year    314.0    75.898089    3.675642  ...    76.0    79.00    82.0\n",
              "USA           314.0     0.624204    0.485101  ...     1.0     1.00     1.0\n",
              "Europe        314.0     0.178344    0.383413  ...     0.0     0.00     1.0\n",
              "Japan         314.0     0.197452    0.398712  ...     0.0     0.00     1.0\n",
              "\n",
              "[9 rows x 8 columns]"
            ]
          },
          "metadata": {
            "tags": []
          },
          "execution_count": 10
        }
      ]
    },
    {
      "cell_type": "markdown",
      "metadata": {
        "id": "9dG6jUZjSO6d"
      },
      "source": [
        "### 특성과 레이블 분리"
      ]
    },
    {
      "cell_type": "code",
      "metadata": {
        "id": "gEKVudBPShiu"
      },
      "source": [
        "# 레이블을 예측하기 위해 특성에서 MPG 분리\n",
        "train_labels = train_dataset.pop('MPG')\n",
        "test_labels = test_dataset.pop('MPG')"
      ],
      "execution_count": null,
      "outputs": []
    },
    {
      "cell_type": "markdown",
      "metadata": {
        "id": "nYqgHEwvSwYq"
      },
      "source": [
        "### 데이터 정규화\n",
        "- 특성의 스케일과 범위가 다르면 정규화 하는 것이 권장됨 "
      ]
    },
    {
      "cell_type": "code",
      "metadata": {
        "id": "YNseFWASTypn"
      },
      "source": [
        "# from sklearn.preprocessing import StandardScaler\n",
        "def norm(x):\n",
        "    return (x - train_stats['mean']) / train_stats['std']\n",
        "normed_train_data = norm(train_dataset)\n",
        "normed_test_data = norm(test_dataset)"
      ],
      "execution_count": null,
      "outputs": []
    },
    {
      "cell_type": "markdown",
      "metadata": {
        "id": "STpcJ-RusFOf"
      },
      "source": [
        "### 모델 만들기"
      ]
    },
    {
      "cell_type": "code",
      "metadata": {
        "id": "ssCAeMMsu0HZ"
      },
      "source": [
        "'''\n",
        "mse - 평균 제곱 오차: 오차 값에 제곱을 한 후 평균\n",
        "mae - 평균 절대 오차: 오차 값에 절대값을 취한 후 평균\n",
        "\n",
        "RMSprop - 기울기를 단순 누적하지 않고 지수 가중 이동 평균을\n",
        "          사용하여 최신 기울기들이 더 크게 반영되도록함\n",
        "'''\n",
        "\n",
        "# 두 개의 완전 연결 은닉층으로 Sequential 모델 만듬\n",
        "# 출력 층안 하나의 연속적인 값을 반환\n",
        "def build_model():\n",
        "    model = keras.Sequential([\n",
        "                              layers.Dense(64, activation='relu', input_shape=[len(train_dataset.keys())]),\n",
        "                              layers.Dense(64, activation='relu'),\n",
        "                              layers.Dense(1)\n",
        "    ])\n",
        "\n",
        "    optimizer = tf.keras.optimizers.RMSprop(0.001)\n",
        "\n",
        "    model.compile(loss='mse',\n",
        "                  optimizer=optimizer,\n",
        "                  metrics=['mae', 'mse'])\n",
        "    return model"
      ],
      "execution_count": null,
      "outputs": []
    },
    {
      "cell_type": "code",
      "metadata": {
        "colab": {
          "base_uri": "https://localhost:8080/"
        },
        "id": "YFu4cal9xGQD",
        "outputId": "e9b577bc-1d8a-47a2-d374-1ef4665f8d95"
      },
      "source": [
        "model = build_model()\n",
        "model.summary()"
      ],
      "execution_count": null,
      "outputs": [
        {
          "output_type": "stream",
          "text": [
            "Model: \"sequential\"\n",
            "_________________________________________________________________\n",
            "Layer (type)                 Output Shape              Param #   \n",
            "=================================================================\n",
            "dense (Dense)                (None, 64)                640       \n",
            "_________________________________________________________________\n",
            "dense_1 (Dense)              (None, 64)                4160      \n",
            "_________________________________________________________________\n",
            "dense_2 (Dense)              (None, 1)                 65        \n",
            "=================================================================\n",
            "Total params: 4,865\n",
            "Trainable params: 4,865\n",
            "Non-trainable params: 0\n",
            "_________________________________________________________________\n"
          ],
          "name": "stdout"
        }
      ]
    },
    {
      "cell_type": "code",
      "metadata": {
        "colab": {
          "base_uri": "https://localhost:8080/"
        },
        "id": "DVbDzgRYxJFr",
        "outputId": "5bfc0ed6-625f-4710-9a19-509b6f4f2da1"
      },
      "source": [
        "# 훈련 세트에서 10개의 샘플을 하나의 배치로 만들어 model.predict 메서드 호출\n",
        "example_batch = normed_train_data[:10]\n",
        "example_result = model.predict(example_batch)\n",
        "example_result"
      ],
      "execution_count": null,
      "outputs": [
        {
          "output_type": "execute_result",
          "data": {
            "text/plain": [
              "array([[ 0.03910212],\n",
              "       [ 0.21153633],\n",
              "       [ 0.34564143],\n",
              "       [ 0.05439222],\n",
              "       [-0.10476989],\n",
              "       [ 0.26973855],\n",
              "       [-0.09393856],\n",
              "       [ 0.03986332],\n",
              "       [ 0.24987881],\n",
              "       [-0.04742989]], dtype=float32)"
            ]
          },
          "metadata": {
            "tags": []
          },
          "execution_count": 15
        }
      ]
    },
    {
      "cell_type": "markdown",
      "metadata": {
        "id": "1UQC0XfEx98K"
      },
      "source": [
        "### 모델 훈련"
      ]
    },
    {
      "cell_type": "code",
      "metadata": {
        "colab": {
          "base_uri": "https://localhost:8080/"
        },
        "id": "kqNJqDIhyJoh",
        "outputId": "091ed5af-e88a-4e35-d08c-38886d7f4211"
      },
      "source": [
        "# 1,000번의 에폭 동안 훈련\n",
        "# 에폭이 끝날 때마다 도트를 출력해 훈련 진행 과정 표시\n",
        "class PrintDot(keras.callbacks.Callback):\n",
        "    def on_epoch_end(self, epoch, logs):\n",
        "        if epoch % 100 == 0: print(' ')\n",
        "        print('.', end='')\n",
        "\n",
        "EPOCHS = 1000\n",
        "\n",
        "history = model.fit(\n",
        "    normed_train_data, train_labels,\n",
        "    epochs=EPOCHS, validation_split=0.2, verbose=0,\n",
        "    callbacks=[PrintDot()])"
      ],
      "execution_count": null,
      "outputs": [
        {
          "output_type": "stream",
          "text": [
            " \n",
            ".................................................................................................... \n",
            ".................................................................................................... \n",
            ".................................................................................................... \n",
            ".................................................................................................... \n",
            ".................................................................................................... \n",
            ".................................................................................................... \n",
            ".................................................................................................... \n",
            ".................................................................................................... \n",
            ".................................................................................................... \n",
            "...................................................................................................."
          ],
          "name": "stdout"
        }
      ]
    },
    {
      "cell_type": "code",
      "metadata": {
        "colab": {
          "base_uri": "https://localhost:8080/",
          "height": 204
        },
        "id": "ypTk7jIOyq9R",
        "outputId": "a2c5c59e-65da-4982-e932-90fbf6d8b201"
      },
      "source": [
        "# history 객체에 저장된 통계치를 사용해 모델의 훈련 과정을 시각화\n",
        "hist = pd.DataFrame(history.history)\n",
        "hist['epoch'] = history.epoch\n",
        "hist.tail()"
      ],
      "execution_count": null,
      "outputs": [
        {
          "output_type": "execute_result",
          "data": {
            "text/html": [
              "<div>\n",
              "<style scoped>\n",
              "    .dataframe tbody tr th:only-of-type {\n",
              "        vertical-align: middle;\n",
              "    }\n",
              "\n",
              "    .dataframe tbody tr th {\n",
              "        vertical-align: top;\n",
              "    }\n",
              "\n",
              "    .dataframe thead th {\n",
              "        text-align: right;\n",
              "    }\n",
              "</style>\n",
              "<table border=\"1\" class=\"dataframe\">\n",
              "  <thead>\n",
              "    <tr style=\"text-align: right;\">\n",
              "      <th></th>\n",
              "      <th>loss</th>\n",
              "      <th>mae</th>\n",
              "      <th>mse</th>\n",
              "      <th>val_loss</th>\n",
              "      <th>val_mae</th>\n",
              "      <th>val_mse</th>\n",
              "      <th>epoch</th>\n",
              "    </tr>\n",
              "  </thead>\n",
              "  <tbody>\n",
              "    <tr>\n",
              "      <th>995</th>\n",
              "      <td>3.007833</td>\n",
              "      <td>1.129129</td>\n",
              "      <td>3.007833</td>\n",
              "      <td>10.281873</td>\n",
              "      <td>2.427793</td>\n",
              "      <td>10.281873</td>\n",
              "      <td>995</td>\n",
              "    </tr>\n",
              "    <tr>\n",
              "      <th>996</th>\n",
              "      <td>2.783360</td>\n",
              "      <td>1.057712</td>\n",
              "      <td>2.783360</td>\n",
              "      <td>10.090785</td>\n",
              "      <td>2.401221</td>\n",
              "      <td>10.090785</td>\n",
              "      <td>996</td>\n",
              "    </tr>\n",
              "    <tr>\n",
              "      <th>997</th>\n",
              "      <td>2.883037</td>\n",
              "      <td>1.111113</td>\n",
              "      <td>2.883037</td>\n",
              "      <td>10.287863</td>\n",
              "      <td>2.447645</td>\n",
              "      <td>10.287863</td>\n",
              "      <td>997</td>\n",
              "    </tr>\n",
              "    <tr>\n",
              "      <th>998</th>\n",
              "      <td>2.946078</td>\n",
              "      <td>1.149619</td>\n",
              "      <td>2.946078</td>\n",
              "      <td>9.982899</td>\n",
              "      <td>2.388299</td>\n",
              "      <td>9.982899</td>\n",
              "      <td>998</td>\n",
              "    </tr>\n",
              "    <tr>\n",
              "      <th>999</th>\n",
              "      <td>2.922202</td>\n",
              "      <td>1.117823</td>\n",
              "      <td>2.922202</td>\n",
              "      <td>10.577782</td>\n",
              "      <td>2.495946</td>\n",
              "      <td>10.577782</td>\n",
              "      <td>999</td>\n",
              "    </tr>\n",
              "  </tbody>\n",
              "</table>\n",
              "</div>"
            ],
            "text/plain": [
              "         loss       mae       mse   val_loss   val_mae    val_mse  epoch\n",
              "995  3.007833  1.129129  3.007833  10.281873  2.427793  10.281873    995\n",
              "996  2.783360  1.057712  2.783360  10.090785  2.401221  10.090785    996\n",
              "997  2.883037  1.111113  2.883037  10.287863  2.447645  10.287863    997\n",
              "998  2.946078  1.149619  2.946078   9.982899  2.388299   9.982899    998\n",
              "999  2.922202  1.117823  2.922202  10.577782  2.495946  10.577782    999"
            ]
          },
          "metadata": {
            "tags": []
          },
          "execution_count": 18
        }
      ]
    },
    {
      "cell_type": "code",
      "metadata": {
        "colab": {
          "base_uri": "https://localhost:8080/",
          "height": 718
        },
        "id": "6xRpTGahy9F7",
        "outputId": "bc54378c-c5ab-4283-c676-b0ec1d5be650"
      },
      "source": [
        "import matplotlib.pyplot as plt\n",
        "\n",
        "def plot_history(history):\n",
        "    hist = pd.DataFrame(history.history)\n",
        "    hist['epoch'] = history.epoch\n",
        "\n",
        "    plt.figure(figsize=(8, 12))\n",
        "\n",
        "    plt.subplot(2, 1, 1)\n",
        "    plt.xlabel('Epoch')\n",
        "    plt.ylabel('Mean Abs Error [MPG]')\n",
        "    plt.plot(hist['epoch'], hist['mae'],\n",
        "             label='Train Error')\n",
        "    plt.plot(hist['epoch'], hist['val_mae'],\n",
        "             label='Val Error')\n",
        "    plt.ylim([0, 5])\n",
        "    plt.legend()\n",
        "\n",
        "    plt.subplot(2, 1, 2)\n",
        "    plt.xlabel('Epoch')\n",
        "    plt.ylabel('Mean Square Error [$MPG^2$]')\n",
        "    plt.plot(hist['epoch'], hist['mse'],\n",
        "             label='Train Error')\n",
        "    plt.plot(hist['epoch'], hist['val_mse'],\n",
        "             label='Val Error')\n",
        "    plt.ylim([0, 20])\n",
        "    plt.legend()\n",
        "    plt.show()\n",
        "\n",
        "plot_history(history)"
      ],
      "execution_count": null,
      "outputs": [
        {
          "output_type": "display_data",
          "data": {
            "image/png": "[encoded data removed]",
            "text/plain": [
              "<Figure size 576x864 with 2 Axes>"
            ]
          },
          "metadata": {
            "tags": [],
            "needs_background": "light"
          }
        }
      ]
    },
    {
      "cell_type": "markdown",
      "metadata": {
        "id": "weZuO5VK0EzU"
      },
      "source": [
        "- 그래프를 보면 수 백번 에폭을 진행한 이후에는 모델이 거의 향상되지 않는 것으로 보임"
      ]
    },
    {
      "cell_type": "code",
      "metadata": {
        "colab": {
          "base_uri": "https://localhost:8080/",
          "height": 754
        },
        "id": "SVne88iK0Rvl",
        "outputId": "e7524b3a-44ae-4175-85a6-368df8195f23"
      },
      "source": [
        "# 검증 점수가 향상되지 않으면 자동으로 훈련을 멈추도록 수정\n",
        "# EarlyStopping 콜백을 사용\n",
        "\n",
        "model = build_model()\n",
        "\n",
        "# patience 매개변수는 성능 향상을 체크할 에폭 횟수\n",
        "early_stop = keras.callbacks.EarlyStopping(monitor='val_loss', patience=10)\n",
        "\n",
        "history = model.fit(normed_train_data, train_labels, epochs=EPOCHS,\n",
        "                    validation_split = 0.2, verbose=0, callbacks=[early_stop, PrintDot()])\n",
        "\n",
        "plot_history(history)"
      ],
      "execution_count": null,
      "outputs": [
        {
          "output_type": "stream",
          "text": [
            " \n",
            "................................................................."
          ],
          "name": "stdout"
        },
        {
          "output_type": "display_data",
          "data": {
            "image/png": "[encoded data removed]",
            "text/plain": [
              "<Figure size 576x864 with 2 Axes>"
            ]
          },
          "metadata": {
            "tags": [],
            "needs_background": "light"
          }
        }
      ]
    },
    {
      "cell_type": "code",
      "metadata": {
        "colab": {
          "base_uri": "https://localhost:8080/"
        },
        "id": "mLqWycSt0zWs",
        "outputId": "3863432a-d754-48b0-b0cd-e1a701235828"
      },
      "source": [
        "# 테스트 세트에서의 모델 성능 확인 \n",
        "loss, mae, mse = model.evaluate(normed_test_data, test_labels, verbose=2)\n",
        "\n",
        "print('테스트 세트의 평균 절대 오차: {:5.2f} MPG'.format(mae))"
      ],
      "execution_count": null,
      "outputs": [
        {
          "output_type": "stream",
          "text": [
            "3/3 - 0s - loss: 5.9358 - mae: 1.8723 - mse: 5.9358\n",
            "테스트 세트의 평균 절대 오차:  1.87 MPG\n"
          ],
          "name": "stdout"
        }
      ]
    },
    {
      "cell_type": "markdown",
      "metadata": {
        "id": "NSFKRD6l2VLO"
      },
      "source": [
        "### 예측"
      ]
    },
    {
      "cell_type": "code",
      "metadata": {
        "colab": {
          "base_uri": "https://localhost:8080/",
          "height": 279
        },
        "id": "316jGgJI2ZEt",
        "outputId": "7a5e9ffb-541c-43fa-ce9b-9241b98d3f21"
      },
      "source": [
        "# 테스트 세트에 있는 샘플을 사용해 MPG 값 예측\n",
        "test_predictions = model.predict(normed_test_data).flatten()\n",
        "\n",
        "plt.scatter(test_labels, test_predictions)\n",
        "plt.xlabel('True Values [MPG]')\n",
        "plt.ylabel('Predictions [MPG]')\n",
        "plt.axis('equal')\n",
        "plt.axis('square')\n",
        "plt.xlim([0,plt.xlim()[1]])\n",
        "plt.ylim([0,plt.ylim()[1]])\n",
        "_ = plt.plot([-100, 100], [-100, 100])"
      ],
      "execution_count": null,
      "outputs": [
        {
          "output_type": "display_data",
          "data": {
            "image/png": "[encoded data removed]",
            "text/plain": [
              "<Figure size 432x288 with 1 Axes>"
            ]
          },
          "metadata": {
            "tags": [],
            "needs_background": "light"
          }
        }
      ]
    },
    {
      "cell_type": "code",
      "metadata": {
        "colab": {
          "base_uri": "https://localhost:8080/",
          "height": 279
        },
        "id": "ASsBUw8226Un",
        "outputId": "f9d6010a-72ba-462c-b1b3-e1979b81c9ac"
      },
      "source": [
        "# 오차의 분포 확인\n",
        "error = test_predictions - test_labels\n",
        "plt.hist(error, bins=25)\n",
        "plt.xlabel(\"Prediction Error [MPG]\")\n",
        "_ = plt.ylabel('Count')"
      ],
      "execution_count": null,
      "outputs": [
        {
          "output_type": "display_data",
          "data": {
            "image/png": "[encoded data removed]",
            "text/plain": [
              "<Figure size 432x288 with 1 Axes>"
            ]
          },
          "metadata": {
            "tags": [],
            "needs_background": "light"
          }
        }
      ]
    },
    {
      "cell_type": "markdown",
      "metadata": {
        "id": "sYxWIu2G3JgO"
      },
      "source": [
        "### 결론\n",
        "- 평균 제곱 오차(MSE)는 회귀 무제에서 자주 사용하는 손실 함수\n",
        "- 회귀에서 사용되는 평가 지표는 평균 절댓값 오차(MAE)\n",
        "- 수치 입력 데이터의 특성이 여러 가지 범위를 가질 때 동일한 범위가 되도록 스케일 조정 해야함\n",
        "- 훈련 데이터가 많지 않다면 과대적합을 피하기 위해 은닉층의 개수가 적은 소규모 네트워크를 선택\n",
        "- Early stopping은 과대적합을 방지하기 위한 좋은 방법"
      ]
    },
    {
      "cell_type": "markdown",
      "metadata": {
        "id": "n51py4VAzep_"
      },
      "source": [
        "---"
      ]
    },
    {
      "cell_type": "markdown",
      "metadata": {
        "id": "bSlEToQ5zR6e"
      },
      "source": [
        "## 과적합 및 과소적합"
      ]
    },
    {
      "cell_type": "markdown",
      "metadata": {
        "id": "yMKieJfNzmY2"
      },
      "source": [
        "- 과적합(Overfitting)\n",
        "  - 학습 데이터에 대해 과하게 학습하여 실제 데이터에 대한 오차가 증가하는 현상\n",
        "    - 훈련 데이터를 더 많이 사용\n",
        "    - 정규화(Regularization)을 사용\n",
        "- 과소적합(Underfitting)\n",
        "  - 모델이 너무 단순하거나, 규제가 너무 많아 학습을 충분히 하지 못할 때 발생하는 현상\n",
        "    - 파라미터가 더 많은 모델을 선택\n",
        "    - 모델의 제약을 줄이기\n",
        "    - 과적합 되기 전 시점까지 충분히 학습"
      ]
    },
    {
      "cell_type": "code",
      "metadata": {
        "colab": {
          "base_uri": "https://localhost:8080/"
        },
        "id": "xoMlfBE6zmL3",
        "outputId": "1f40d538-d45a-4918-f33f-a4a4c9e58441"
      },
      "source": [
        "import tensorflow as tf\n",
        "from tensorflow import keras\n",
        "\n",
        "import numpy as np\n",
        "import matplotlib.pyplot as plt\n",
        "\n",
        "print(tf.__version__)"
      ],
      "execution_count": null,
      "outputs": [
        {
          "output_type": "stream",
          "text": [
            "2.4.1\n"
          ],
          "name": "stdout"
        }
      ]
    },
    {
      "cell_type": "code",
      "metadata": {
        "id": "2ubfaiAC3rsj",
        "colab": {
          "base_uri": "https://localhost:8080/"
        },
        "outputId": "af68049c-dcf7-4506-f14b-9bfbbc321695"
      },
      "source": [
        "NUM_WORDS = 1000\n",
        "\n",
        "(train_data, train_labels), (test_data, test_labels) = keras.datasets.imdb.load_data(num_words=NUM_WORDS)\n",
        "\n",
        "def multi_hot_sequences(sequences, dimension):\n",
        "    # 0으로 채워진 (len(sequences), dimension) 크기의 행렬을 만듭니다\n",
        "    results = np.zeros((len(sequences), dimension))\n",
        "    for i, word_indices in enumerate(sequences):\n",
        "        results[i, word_indices] = 1.0  # results[i]의 특정 인덱스만 1로 설정합니다\n",
        "    return results\n",
        "\n",
        "\n",
        "train_data = multi_hot_sequences(train_data, dimension=NUM_WORDS)\n",
        "test_data = multi_hot_sequences(test_data, dimension=NUM_WORDS)"
      ],
      "execution_count": null,
      "outputs": [
        {
          "output_type": "stream",
          "text": [
            "Downloading data from https://storage.googleapis.com/tensorflow/tf-keras-datasets/imdb.npz\n",
            "17465344/17464789 [==============================] - 1s 0us/step\n"
          ],
          "name": "stdout"
        },
        {
          "output_type": "stream",
          "text": [
            "<string>:6: VisibleDeprecationWarning: Creating an ndarray from ragged nested sequences (which is a list-or-tuple of lists-or-tuples-or ndarrays with different lengths or shapes) is deprecated. If you meant to do this, you must specify 'dtype=object' when creating the ndarray\n",
            "/usr/local/lib/python3.7/dist-packages/tensorflow/python/keras/datasets/imdb.py:159: VisibleDeprecationWarning: Creating an ndarray from ragged nested sequences (which is a list-or-tuple of lists-or-tuples-or ndarrays with different lengths or shapes) is deprecated. If you meant to do this, you must specify 'dtype=object' when creating the ndarray\n",
            "  x_train, y_train = np.array(xs[:idx]), np.array(labels[:idx])\n",
            "/usr/local/lib/python3.7/dist-packages/tensorflow/python/keras/datasets/imdb.py:160: VisibleDeprecationWarning: Creating an ndarray from ragged nested sequences (which is a list-or-tuple of lists-or-tuples-or ndarrays with different lengths or shapes) is deprecated. If you meant to do this, you must specify 'dtype=object' when creating the ndarray\n",
            "  x_test, y_test = np.array(xs[idx:]), np.array(labels[idx:])\n"
          ],
          "name": "stderr"
        }
      ]
    },
    {
      "cell_type": "code",
      "metadata": {
        "colab": {
          "base_uri": "https://localhost:8080/",
          "height": 282
        },
        "id": "Tsi8M2C4zOiM",
        "outputId": "9533676e-ce27-483e-b174-f19aee47c5b6"
      },
      "source": [
        "plt.plot(train_data[0])"
      ],
      "execution_count": null,
      "outputs": [
        {
          "output_type": "execute_result",
          "data": {
            "text/plain": [
              "[<matplotlib.lines.Line2D at 0x7ff184078210>]"
            ]
          },
          "metadata": {
            "tags": []
          },
          "execution_count": 3
        },
        {
          "output_type": "display_data",
          "data": {
            "image/png": "[encoded data removed]",
            "text/plain": [
              "<Figure size 432x288 with 1 Axes>"
            ]
          },
          "metadata": {
            "tags": [],
            "needs_background": "light"
          }
        }
      ]
    },
    {
      "cell_type": "markdown",
      "metadata": {
        "id": "gjiSeK6szOgZ"
      },
      "source": [
        "### 과대적합 예제"
      ]
    },
    {
      "cell_type": "markdown",
      "metadata": {
        "id": "JDCRgHCk2ABc"
      },
      "source": [
        "- 과대적합을 막는 가장 간단한 방법은 모델의 규모를 축소하는 것\n",
        "  - 학습 가능한 파라미터의 수를 줄임\n",
        "- 알맞은 모델의 크기를 찾으려면 비교적 적은 수의 층과 파라미터로 시작해서 검증 손실이 감소할 때까지 새로운 층을 추가하거나 층의 크기를 늘리는 것이 좋음"
      ]
    },
    {
      "cell_type": "markdown",
      "metadata": {
        "id": "KgESQ-Aq3G-2"
      },
      "source": [
        "### 기준 모델 만들기"
      ]
    },
    {
      "cell_type": "code",
      "metadata": {
        "colab": {
          "base_uri": "https://localhost:8080/"
        },
        "id": "j_zk2iAXzOcZ",
        "outputId": "a2ada940-5905-4885-8cac-fb986d0c2c92"
      },
      "source": [
        "baseline_model = keras.Sequential([\n",
        "    # `.summary` 메서드 때문에 `input_shape`가 필요합니다\n",
        "    keras.layers.Dense(16, activation='relu', input_shape=(NUM_WORDS,)),\n",
        "    keras.layers.Dense(16, activation='relu'),\n",
        "    keras.layers.Dense(1, activation='sigmoid')\n",
        "])\n",
        "\n",
        "baseline_model.compile(optimizer='adam',\n",
        "                       loss='binary_crossentropy',\n",
        "                       metrics=['accuracy', 'binary_crossentropy'])\n",
        "\n",
        "baseline_model.summary()"
      ],
      "execution_count": null,
      "outputs": [
        {
          "output_type": "stream",
          "text": [
            "Model: \"sequential\"\n",
            "_________________________________________________________________\n",
            "Layer (type)                 Output Shape              Param #   \n",
            "=================================================================\n",
            "dense (Dense)                (None, 16)                16016     \n",
            "_________________________________________________________________\n",
            "dense_1 (Dense)              (None, 16)                272       \n",
            "_________________________________________________________________\n",
            "dense_2 (Dense)              (None, 1)                 17        \n",
            "=================================================================\n",
            "Total params: 16,305\n",
            "Trainable params: 16,305\n",
            "Non-trainable params: 0\n",
            "_________________________________________________________________\n"
          ],
          "name": "stdout"
        }
      ]
    },
    {
      "cell_type": "code",
      "metadata": {
        "colab": {
          "base_uri": "https://localhost:8080/"
        },
        "id": "-MPqdhs7zOZ-",
        "outputId": "745df0a3-fa32-44eb-c7c3-5612b4d6181f"
      },
      "source": [
        "baseline_history = baseline_model.fit(train_data,\n",
        "                                      train_labels,\n",
        "                                      epochs=20,\n",
        "                                      batch_size=512,\n",
        "                                      validation_data=(test_data, test_labels),\n",
        "                                      verbose=2)"
      ],
      "execution_count": null,
      "outputs": [
        {
          "output_type": "stream",
          "text": [
            "Epoch 1/20\n",
            "49/49 - 4s - loss: 0.5558 - accuracy: 0.7240 - binary_crossentropy: 0.5558 - val_loss: 0.4151 - val_accuracy: 0.8235 - val_binary_crossentropy: 0.4151\n",
            "Epoch 2/20\n",
            "49/49 - 0s - loss: 0.3585 - accuracy: 0.8493 - binary_crossentropy: 0.3585 - val_loss: 0.3416 - val_accuracy: 0.8555 - val_binary_crossentropy: 0.3416\n",
            "Epoch 3/20\n",
            "49/49 - 0s - loss: 0.3183 - accuracy: 0.8683 - binary_crossentropy: 0.3183 - val_loss: 0.3322 - val_accuracy: 0.8588 - val_binary_crossentropy: 0.3322\n",
            "Epoch 4/20\n",
            "49/49 - 0s - loss: 0.3067 - accuracy: 0.8734 - binary_crossentropy: 0.3067 - val_loss: 0.3298 - val_accuracy: 0.8591 - val_binary_crossentropy: 0.3298\n",
            "Epoch 5/20\n",
            "49/49 - 0s - loss: 0.3042 - accuracy: 0.8748 - binary_crossentropy: 0.3042 - val_loss: 0.3297 - val_accuracy: 0.8593 - val_binary_crossentropy: 0.3297\n",
            "Epoch 6/20\n",
            "49/49 - 0s - loss: 0.2993 - accuracy: 0.8774 - binary_crossentropy: 0.2993 - val_loss: 0.3317 - val_accuracy: 0.8591 - val_binary_crossentropy: 0.3317\n",
            "Epoch 7/20\n",
            "49/49 - 0s - loss: 0.2947 - accuracy: 0.8782 - binary_crossentropy: 0.2947 - val_loss: 0.3293 - val_accuracy: 0.8592 - val_binary_crossentropy: 0.3293\n",
            "Epoch 8/20\n",
            "49/49 - 0s - loss: 0.2911 - accuracy: 0.8796 - binary_crossentropy: 0.2911 - val_loss: 0.3313 - val_accuracy: 0.8583 - val_binary_crossentropy: 0.3313\n",
            "Epoch 9/20\n",
            "49/49 - 0s - loss: 0.2849 - accuracy: 0.8826 - binary_crossentropy: 0.2849 - val_loss: 0.3350 - val_accuracy: 0.8564 - val_binary_crossentropy: 0.3350\n",
            "Epoch 10/20\n",
            "49/49 - 0s - loss: 0.2792 - accuracy: 0.8854 - binary_crossentropy: 0.2792 - val_loss: 0.3336 - val_accuracy: 0.8584 - val_binary_crossentropy: 0.3336\n",
            "Epoch 11/20\n",
            "49/49 - 0s - loss: 0.2722 - accuracy: 0.8889 - binary_crossentropy: 0.2722 - val_loss: 0.3361 - val_accuracy: 0.8576 - val_binary_crossentropy: 0.3361\n",
            "Epoch 12/20\n",
            "49/49 - 0s - loss: 0.2642 - accuracy: 0.8934 - binary_crossentropy: 0.2642 - val_loss: 0.3406 - val_accuracy: 0.8553 - val_binary_crossentropy: 0.3406\n",
            "Epoch 13/20\n",
            "49/49 - 0s - loss: 0.2623 - accuracy: 0.8938 - binary_crossentropy: 0.2623 - val_loss: 0.3534 - val_accuracy: 0.8540 - val_binary_crossentropy: 0.3534\n",
            "Epoch 14/20\n",
            "49/49 - 0s - loss: 0.2552 - accuracy: 0.8966 - binary_crossentropy: 0.2552 - val_loss: 0.3484 - val_accuracy: 0.8540 - val_binary_crossentropy: 0.3484\n",
            "Epoch 15/20\n",
            "49/49 - 0s - loss: 0.2476 - accuracy: 0.9014 - binary_crossentropy: 0.2476 - val_loss: 0.3513 - val_accuracy: 0.8541 - val_binary_crossentropy: 0.3513\n",
            "Epoch 16/20\n",
            "49/49 - 0s - loss: 0.2422 - accuracy: 0.9033 - binary_crossentropy: 0.2422 - val_loss: 0.3535 - val_accuracy: 0.8527 - val_binary_crossentropy: 0.3535\n",
            "Epoch 17/20\n",
            "49/49 - 0s - loss: 0.2390 - accuracy: 0.9028 - binary_crossentropy: 0.2390 - val_loss: 0.3607 - val_accuracy: 0.8520 - val_binary_crossentropy: 0.3607\n",
            "Epoch 18/20\n",
            "49/49 - 0s - loss: 0.2332 - accuracy: 0.9072 - binary_crossentropy: 0.2332 - val_loss: 0.3641 - val_accuracy: 0.8499 - val_binary_crossentropy: 0.3641\n",
            "Epoch 19/20\n",
            "49/49 - 0s - loss: 0.2284 - accuracy: 0.9099 - binary_crossentropy: 0.2284 - val_loss: 0.3697 - val_accuracy: 0.8486 - val_binary_crossentropy: 0.3697\n",
            "Epoch 20/20\n",
            "49/49 - 0s - loss: 0.2275 - accuracy: 0.9084 - binary_crossentropy: 0.2275 - val_loss: 0.3730 - val_accuracy: 0.8484 - val_binary_crossentropy: 0.3730\n"
          ],
          "name": "stdout"
        }
      ]
    },
    {
      "cell_type": "markdown",
      "metadata": {
        "id": "2-ECEDRI3TI-"
      },
      "source": [
        "### 작은 모델 만들기"
      ]
    },
    {
      "cell_type": "code",
      "metadata": {
        "colab": {
          "base_uri": "https://localhost:8080/"
        },
        "id": "OGAHfVR-zOWX",
        "outputId": "c97814a0-f106-4518-f650-086ca8a73481"
      },
      "source": [
        "smaller_model = keras.Sequential([\n",
        "    keras.layers.Dense(4, activation='relu', input_shape=(NUM_WORDS,)),\n",
        "    keras.layers.Dense(4, activation='relu'),\n",
        "    keras.layers.Dense(1, activation='sigmoid')\n",
        "])\n",
        "\n",
        "smaller_model.compile(optimizer='adam',\n",
        "                      loss='binary_crossentropy',\n",
        "                      metrics=['accuracy', 'binary_crossentropy'])\n",
        "\n",
        "smaller_model.summary()"
      ],
      "execution_count": null,
      "outputs": [
        {
          "output_type": "stream",
          "text": [
            "Model: \"sequential_1\"\n",
            "_________________________________________________________________\n",
            "Layer (type)                 Output Shape              Param #   \n",
            "=================================================================\n",
            "dense_3 (Dense)              (None, 4)                 4004      \n",
            "_________________________________________________________________\n",
            "dense_4 (Dense)              (None, 4)                 20        \n",
            "_________________________________________________________________\n",
            "dense_5 (Dense)              (None, 1)                 5         \n",
            "=================================================================\n",
            "Total params: 4,029\n",
            "Trainable params: 4,029\n",
            "Non-trainable params: 0\n",
            "_________________________________________________________________\n"
          ],
          "name": "stdout"
        }
      ]
    },
    {
      "cell_type": "code",
      "metadata": {
        "colab": {
          "base_uri": "https://localhost:8080/"
        },
        "id": "mdPv6gsjzOTe",
        "outputId": "0caf9fb7-f7a0-4a3c-ef1b-0c786d73642a"
      },
      "source": [
        "smaller_history = smaller_model.fit(train_data,\n",
        "                                    train_labels,\n",
        "                                    epochs=20,\n",
        "                                    batch_size=512,\n",
        "                                    validation_data=(test_data, test_labels),\n",
        "                                    verbose=2)"
      ],
      "execution_count": null,
      "outputs": [
        {
          "output_type": "stream",
          "text": [
            "Epoch 1/20\n",
            "49/49 - 1s - loss: 0.6503 - accuracy: 0.6615 - binary_crossentropy: 0.6503 - val_loss: 0.5767 - val_accuracy: 0.7671 - val_binary_crossentropy: 0.5767\n",
            "Epoch 2/20\n",
            "49/49 - 0s - loss: 0.4955 - accuracy: 0.8116 - binary_crossentropy: 0.4955 - val_loss: 0.4356 - val_accuracy: 0.8281 - val_binary_crossentropy: 0.4356\n",
            "Epoch 3/20\n",
            "49/49 - 0s - loss: 0.3916 - accuracy: 0.8459 - binary_crossentropy: 0.3916 - val_loss: 0.3752 - val_accuracy: 0.8476 - val_binary_crossentropy: 0.3752\n",
            "Epoch 4/20\n",
            "49/49 - 0s - loss: 0.3485 - accuracy: 0.8597 - binary_crossentropy: 0.3485 - val_loss: 0.3492 - val_accuracy: 0.8541 - val_binary_crossentropy: 0.3492\n",
            "Epoch 5/20\n",
            "49/49 - 0s - loss: 0.3280 - accuracy: 0.8661 - binary_crossentropy: 0.3280 - val_loss: 0.3384 - val_accuracy: 0.8579 - val_binary_crossentropy: 0.3384\n",
            "Epoch 6/20\n",
            "49/49 - 0s - loss: 0.3159 - accuracy: 0.8710 - binary_crossentropy: 0.3159 - val_loss: 0.3326 - val_accuracy: 0.8589 - val_binary_crossentropy: 0.3326\n",
            "Epoch 7/20\n",
            "49/49 - 0s - loss: 0.3090 - accuracy: 0.8736 - binary_crossentropy: 0.3090 - val_loss: 0.3292 - val_accuracy: 0.8610 - val_binary_crossentropy: 0.3292\n",
            "Epoch 8/20\n",
            "49/49 - 0s - loss: 0.3048 - accuracy: 0.8753 - binary_crossentropy: 0.3048 - val_loss: 0.3282 - val_accuracy: 0.8604 - val_binary_crossentropy: 0.3282\n",
            "Epoch 9/20\n",
            "49/49 - 0s - loss: 0.3021 - accuracy: 0.8756 - binary_crossentropy: 0.3021 - val_loss: 0.3275 - val_accuracy: 0.8608 - val_binary_crossentropy: 0.3275\n",
            "Epoch 10/20\n",
            "49/49 - 0s - loss: 0.3017 - accuracy: 0.8764 - binary_crossentropy: 0.3017 - val_loss: 0.3278 - val_accuracy: 0.8604 - val_binary_crossentropy: 0.3278\n",
            "Epoch 11/20\n",
            "49/49 - 0s - loss: 0.2987 - accuracy: 0.8780 - binary_crossentropy: 0.2987 - val_loss: 0.3279 - val_accuracy: 0.8604 - val_binary_crossentropy: 0.3279\n",
            "Epoch 12/20\n",
            "49/49 - 0s - loss: 0.2978 - accuracy: 0.8777 - binary_crossentropy: 0.2978 - val_loss: 0.3283 - val_accuracy: 0.8609 - val_binary_crossentropy: 0.3283\n",
            "Epoch 13/20\n",
            "49/49 - 0s - loss: 0.2976 - accuracy: 0.8774 - binary_crossentropy: 0.2976 - val_loss: 0.3313 - val_accuracy: 0.8590 - val_binary_crossentropy: 0.3313\n",
            "Epoch 14/20\n",
            "49/49 - 0s - loss: 0.2970 - accuracy: 0.8780 - binary_crossentropy: 0.2970 - val_loss: 0.3288 - val_accuracy: 0.8609 - val_binary_crossentropy: 0.3288\n",
            "Epoch 15/20\n",
            "49/49 - 0s - loss: 0.2964 - accuracy: 0.8780 - binary_crossentropy: 0.2964 - val_loss: 0.3302 - val_accuracy: 0.8593 - val_binary_crossentropy: 0.3302\n",
            "Epoch 16/20\n",
            "49/49 - 0s - loss: 0.2964 - accuracy: 0.8797 - binary_crossentropy: 0.2964 - val_loss: 0.3303 - val_accuracy: 0.8594 - val_binary_crossentropy: 0.3303\n",
            "Epoch 17/20\n",
            "49/49 - 0s - loss: 0.2960 - accuracy: 0.8787 - binary_crossentropy: 0.2960 - val_loss: 0.3314 - val_accuracy: 0.8595 - val_binary_crossentropy: 0.3314\n",
            "Epoch 18/20\n",
            "49/49 - 0s - loss: 0.2960 - accuracy: 0.8783 - binary_crossentropy: 0.2960 - val_loss: 0.3310 - val_accuracy: 0.8589 - val_binary_crossentropy: 0.3310\n",
            "Epoch 19/20\n",
            "49/49 - 0s - loss: 0.2964 - accuracy: 0.8786 - binary_crossentropy: 0.2964 - val_loss: 0.3334 - val_accuracy: 0.8582 - val_binary_crossentropy: 0.3334\n",
            "Epoch 20/20\n",
            "49/49 - 0s - loss: 0.2954 - accuracy: 0.8798 - binary_crossentropy: 0.2954 - val_loss: 0.3311 - val_accuracy: 0.8588 - val_binary_crossentropy: 0.3311\n"
          ],
          "name": "stdout"
        }
      ]
    },
    {
      "cell_type": "markdown",
      "metadata": {
        "id": "naxD5jGU3fWi"
      },
      "source": [
        "### 큰 모델 만들기"
      ]
    },
    {
      "cell_type": "code",
      "metadata": {
        "colab": {
          "base_uri": "https://localhost:8080/"
        },
        "id": "My7TXWSczOQk",
        "outputId": "2d0e3dae-1226-4603-d12e-c2793d4e421a"
      },
      "source": [
        "bigger_model = keras.models.Sequential([\n",
        "    keras.layers.Dense(512, activation='relu', input_shape=(NUM_WORDS,)),\n",
        "    keras.layers.Dense(512, activation='relu'),\n",
        "    keras.layers.Dense(1, activation='sigmoid')\n",
        "])\n",
        "\n",
        "bigger_model.compile(optimizer='adam',\n",
        "                     loss='binary_crossentropy',\n",
        "                     metrics=['accuracy','binary_crossentropy'])\n",
        "\n",
        "bigger_model.summary()"
      ],
      "execution_count": null,
      "outputs": [
        {
          "output_type": "stream",
          "text": [
            "Model: \"sequential_2\"\n",
            "_________________________________________________________________\n",
            "Layer (type)                 Output Shape              Param #   \n",
            "=================================================================\n",
            "dense_6 (Dense)              (None, 512)               512512    \n",
            "_________________________________________________________________\n",
            "dense_7 (Dense)              (None, 512)               262656    \n",
            "_________________________________________________________________\n",
            "dense_8 (Dense)              (None, 1)                 513       \n",
            "=================================================================\n",
            "Total params: 775,681\n",
            "Trainable params: 775,681\n",
            "Non-trainable params: 0\n",
            "_________________________________________________________________\n"
          ],
          "name": "stdout"
        }
      ]
    },
    {
      "cell_type": "code",
      "metadata": {
        "colab": {
          "base_uri": "https://localhost:8080/"
        },
        "id": "YH4T19SPzONh",
        "outputId": "3a1f4fa0-3d1e-4a1b-f3d7-d61a00374f9d"
      },
      "source": [
        "bigger_history = bigger_model.fit(train_data, train_labels,\n",
        "                                  epochs=20,\n",
        "                                  batch_size=512,\n",
        "                                  validation_data=(test_data, test_labels),\n",
        "                                  verbose=2)"
      ],
      "execution_count": null,
      "outputs": [
        {
          "output_type": "stream",
          "text": [
            "Epoch 1/20\n",
            "49/49 - 1s - loss: 0.4131 - accuracy: 0.8082 - binary_crossentropy: 0.4131 - val_loss: 0.3315 - val_accuracy: 0.8587 - val_binary_crossentropy: 0.3315\n",
            "Epoch 2/20\n",
            "49/49 - 0s - loss: 0.2899 - accuracy: 0.8800 - binary_crossentropy: 0.2899 - val_loss: 0.3199 - val_accuracy: 0.8618 - val_binary_crossentropy: 0.3199\n",
            "Epoch 3/20\n",
            "49/49 - 0s - loss: 0.2179 - accuracy: 0.9141 - binary_crossentropy: 0.2179 - val_loss: 0.3458 - val_accuracy: 0.8541 - val_binary_crossentropy: 0.3458\n",
            "Epoch 4/20\n",
            "49/49 - 0s - loss: 0.1005 - accuracy: 0.9690 - binary_crossentropy: 0.1005 - val_loss: 0.4407 - val_accuracy: 0.8489 - val_binary_crossentropy: 0.4407\n",
            "Epoch 5/20\n",
            "49/49 - 0s - loss: 0.0237 - accuracy: 0.9960 - binary_crossentropy: 0.0237 - val_loss: 0.5338 - val_accuracy: 0.8478 - val_binary_crossentropy: 0.5338\n",
            "Epoch 6/20\n",
            "49/49 - 0s - loss: 0.0044 - accuracy: 0.9998 - binary_crossentropy: 0.0044 - val_loss: 0.6223 - val_accuracy: 0.8514 - val_binary_crossentropy: 0.6223\n",
            "Epoch 7/20\n",
            "49/49 - 0s - loss: 0.0013 - accuracy: 1.0000 - binary_crossentropy: 0.0013 - val_loss: 0.6639 - val_accuracy: 0.8516 - val_binary_crossentropy: 0.6639\n",
            "Epoch 8/20\n",
            "49/49 - 0s - loss: 6.6563e-04 - accuracy: 1.0000 - binary_crossentropy: 6.6563e-04 - val_loss: 0.6964 - val_accuracy: 0.8518 - val_binary_crossentropy: 0.6964\n",
            "Epoch 9/20\n",
            "49/49 - 0s - loss: 4.5511e-04 - accuracy: 1.0000 - binary_crossentropy: 4.5511e-04 - val_loss: 0.7222 - val_accuracy: 0.8526 - val_binary_crossentropy: 0.7222\n",
            "Epoch 10/20\n",
            "49/49 - 0s - loss: 3.3984e-04 - accuracy: 1.0000 - binary_crossentropy: 3.3984e-04 - val_loss: 0.7425 - val_accuracy: 0.8525 - val_binary_crossentropy: 0.7425\n",
            "Epoch 11/20\n",
            "49/49 - 0s - loss: 2.6171e-04 - accuracy: 1.0000 - binary_crossentropy: 2.6171e-04 - val_loss: 0.7611 - val_accuracy: 0.8524 - val_binary_crossentropy: 0.7611\n",
            "Epoch 12/20\n",
            "49/49 - 0s - loss: 2.0611e-04 - accuracy: 1.0000 - binary_crossentropy: 2.0611e-04 - val_loss: 0.7794 - val_accuracy: 0.8524 - val_binary_crossentropy: 0.7794\n",
            "Epoch 13/20\n",
            "49/49 - 0s - loss: 1.6453e-04 - accuracy: 1.0000 - binary_crossentropy: 1.6453e-04 - val_loss: 0.7966 - val_accuracy: 0.8524 - val_binary_crossentropy: 0.7966\n",
            "Epoch 14/20\n",
            "49/49 - 0s - loss: 1.3322e-04 - accuracy: 1.0000 - binary_crossentropy: 1.3322e-04 - val_loss: 0.8131 - val_accuracy: 0.8520 - val_binary_crossentropy: 0.8131\n",
            "Epoch 15/20\n",
            "49/49 - 0s - loss: 1.0894e-04 - accuracy: 1.0000 - binary_crossentropy: 1.0894e-04 - val_loss: 0.8290 - val_accuracy: 0.8522 - val_binary_crossentropy: 0.8290\n",
            "Epoch 16/20\n",
            "49/49 - 0s - loss: 8.9997e-05 - accuracy: 1.0000 - binary_crossentropy: 8.9997e-05 - val_loss: 0.8443 - val_accuracy: 0.8522 - val_binary_crossentropy: 0.8443\n",
            "Epoch 17/20\n",
            "49/49 - 0s - loss: 7.5054e-05 - accuracy: 1.0000 - binary_crossentropy: 7.5054e-05 - val_loss: 0.8588 - val_accuracy: 0.8524 - val_binary_crossentropy: 0.8588\n",
            "Epoch 18/20\n",
            "49/49 - 0s - loss: 6.3311e-05 - accuracy: 1.0000 - binary_crossentropy: 6.3311e-05 - val_loss: 0.8723 - val_accuracy: 0.8519 - val_binary_crossentropy: 0.8723\n",
            "Epoch 19/20\n",
            "49/49 - 0s - loss: 5.3689e-05 - accuracy: 1.0000 - binary_crossentropy: 5.3689e-05 - val_loss: 0.8857 - val_accuracy: 0.8522 - val_binary_crossentropy: 0.8857\n",
            "Epoch 20/20\n",
            "49/49 - 0s - loss: 4.5947e-05 - accuracy: 1.0000 - binary_crossentropy: 4.5947e-05 - val_loss: 0.8982 - val_accuracy: 0.8521 - val_binary_crossentropy: 0.8982\n"
          ],
          "name": "stdout"
        }
      ]
    },
    {
      "cell_type": "markdown",
      "metadata": {
        "id": "-UEMXyYE3nF2"
      },
      "source": [
        "### 훈련 손실과 검증 손실 그래프 그리기"
      ]
    },
    {
      "cell_type": "code",
      "metadata": {
        "colab": {
          "base_uri": "https://localhost:8080/",
          "height": 442
        },
        "id": "1-sf2vR2zOLJ",
        "outputId": "ae666612-ab59-44a2-d269-4725b13ca5d6"
      },
      "source": [
        "# 실선 - 훈련 손실\n",
        "# 점선 - 검증 손실\n",
        "\n",
        "def plot_history(histories, key='binary_crossentropy'):\n",
        "  plt.figure(figsize=(13,7))\n",
        "\n",
        "  for name, history in histories:\n",
        "    val = plt.plot(history.epoch, history.history['val_'+key],\n",
        "                   '--', label=name.title()+' Val')\n",
        "    plt.plot(history.epoch, history.history[key], color=val[0].get_color(),\n",
        "             label=name.title()+' Train')\n",
        "\n",
        "  plt.xlabel('Epochs')\n",
        "  plt.ylabel(key.replace('_',' ').title())\n",
        "  plt.legend()\n",
        "\n",
        "  plt.xlim([0,max(history.epoch)])\n",
        "\n",
        "\n",
        "plot_history([('baseline', baseline_history),\n",
        "              ('smaller', smaller_history),\n",
        "              ('bigger', bigger_history)])"
      ],
      "execution_count": null,
      "outputs": [
        {
          "output_type": "display_data",
          "data": {
            "image/png": "[encoded data removed]",
            "text/plain": [
              "<Figure size 936x504 with 1 Axes>"
            ]
          },
          "metadata": {
            "tags": [],
            "needs_background": "light"
          }
        }
      ]
    },
    {
      "cell_type": "markdown",
      "metadata": {
        "id": "URxrtzAQ322Y"
      },
      "source": [
        "### 과대적합을 방지하기 위한 전략"
      ]
    },
    {
      "cell_type": "markdown",
      "metadata": {
        "id": "lm-gLah1zOHk"
      },
      "source": [
        "### 가중치를 규제하기\n",
        "- 간단한 모델은 복잡한 것보다 과대적합 되는 경향이 작음\n",
        "  - 간단한 모델이란 모델 파라미터의 분포를 봤을 때 엔트로피가 작은 모델(또는 적은 파라미터를 가진 모델)\n",
        "- 과대적합을 완화시키는 일반적인 방법은 가중치가 작은 값을 가지도록 네트워크의 복잡도에 제약을 해 가중치 값의 분포를 좀 더 균일하게 만들어줌\n",
        "\n"
      ]
    },
    {
      "cell_type": "markdown",
      "metadata": {
        "id": "udPMFopU4eSj"
      },
      "source": [
        "- L1 규제\n",
        "  - 가중치의 절댓값에 비례하는 비용이 추가됨\n",
        "  - 일부 가중치 파라미터를 0으로 만듬\n",
        "- L2 규제\n",
        "  - 가중치의 제곱에 비례하는 비용이 추가됨\n",
        "  - 가중치 파라미터를 제한하지만 완전히 0으로 만들지는 않음\n",
        "\n"
      ]
    },
    {
      "cell_type": "code",
      "metadata": {
        "colab": {
          "base_uri": "https://localhost:8080/"
        },
        "id": "Tj0vGnkizOEz",
        "outputId": "dcf72160-4804-4d34-e1a6-9608c9019a12"
      },
      "source": [
        "# 각 층마다 l2 규제 추가\n",
        "# 네트워크의 전체 솔신에 층에 있는 가중치 행렬의 모든 값이\n",
        "# 0.001 * weight_coefficient_value**2 만큼 더해짐 \n",
        "l2_model = keras.models.Sequential([\n",
        "    keras.layers.Dense(16, kernel_regularizer=keras.regularizers.l2(0.001),\n",
        "                       activation='relu', input_shape=(NUM_WORDS,)),\n",
        "    keras.layers.Dense(16, kernel_regularizer=keras.regularizers.l2(0.001),\n",
        "                       activation='relu'),\n",
        "    keras.layers.Dense(1, activation='sigmoid')\n",
        "])\n",
        "\n",
        "l2_model.compile(optimizer='adam',\n",
        "                 loss='binary_crossentropy',\n",
        "                 metrics=['accuracy', 'binary_crossentropy'])\n",
        "\n",
        "l2_model_history = l2_model.fit(train_data, train_labels,\n",
        "                                epochs=20,\n",
        "                                batch_size=512,\n",
        "                                validation_data=(test_data, test_labels),\n",
        "                                verbose=2)"
      ],
      "execution_count": null,
      "outputs": [
        {
          "output_type": "stream",
          "text": [
            "Epoch 1/20\n",
            "49/49 - 1s - loss: 0.6344 - accuracy: 0.7087 - binary_crossentropy: 0.5910 - val_loss: 0.4946 - val_accuracy: 0.8099 - val_binary_crossentropy: 0.4533\n",
            "Epoch 2/20\n",
            "49/49 - 0s - loss: 0.4168 - accuracy: 0.8427 - binary_crossentropy: 0.3752 - val_loss: 0.3836 - val_accuracy: 0.8568 - val_binary_crossentropy: 0.3421\n",
            "Epoch 3/20\n",
            "49/49 - 0s - loss: 0.3614 - accuracy: 0.8657 - binary_crossentropy: 0.3206 - val_loss: 0.3694 - val_accuracy: 0.8610 - val_binary_crossentropy: 0.3294\n",
            "Epoch 4/20\n",
            "49/49 - 0s - loss: 0.3472 - accuracy: 0.8734 - binary_crossentropy: 0.3080 - val_loss: 0.3655 - val_accuracy: 0.8614 - val_binary_crossentropy: 0.3272\n",
            "Epoch 5/20\n",
            "49/49 - 0s - loss: 0.3403 - accuracy: 0.8761 - binary_crossentropy: 0.3028 - val_loss: 0.3692 - val_accuracy: 0.8604 - val_binary_crossentropy: 0.3325\n",
            "Epoch 6/20\n",
            "49/49 - 0s - loss: 0.3391 - accuracy: 0.8748 - binary_crossentropy: 0.3029 - val_loss: 0.3630 - val_accuracy: 0.8608 - val_binary_crossentropy: 0.3274\n",
            "Epoch 7/20\n",
            "49/49 - 0s - loss: 0.3316 - accuracy: 0.8789 - binary_crossentropy: 0.2965 - val_loss: 0.3633 - val_accuracy: 0.8601 - val_binary_crossentropy: 0.3287\n",
            "Epoch 8/20\n",
            "49/49 - 0s - loss: 0.3278 - accuracy: 0.8784 - binary_crossentropy: 0.2936 - val_loss: 0.3643 - val_accuracy: 0.8592 - val_binary_crossentropy: 0.3305\n",
            "Epoch 9/20\n",
            "49/49 - 0s - loss: 0.3249 - accuracy: 0.8801 - binary_crossentropy: 0.2913 - val_loss: 0.3617 - val_accuracy: 0.8597 - val_binary_crossentropy: 0.3285\n",
            "Epoch 10/20\n",
            "49/49 - 0s - loss: 0.3202 - accuracy: 0.8826 - binary_crossentropy: 0.2871 - val_loss: 0.3603 - val_accuracy: 0.8584 - val_binary_crossentropy: 0.3274\n",
            "Epoch 11/20\n",
            "49/49 - 0s - loss: 0.3158 - accuracy: 0.8844 - binary_crossentropy: 0.2829 - val_loss: 0.3612 - val_accuracy: 0.8599 - val_binary_crossentropy: 0.3284\n",
            "Epoch 12/20\n",
            "49/49 - 0s - loss: 0.3131 - accuracy: 0.8858 - binary_crossentropy: 0.2802 - val_loss: 0.3620 - val_accuracy: 0.8589 - val_binary_crossentropy: 0.3291\n",
            "Epoch 13/20\n",
            "49/49 - 0s - loss: 0.3076 - accuracy: 0.8860 - binary_crossentropy: 0.2746 - val_loss: 0.3665 - val_accuracy: 0.8554 - val_binary_crossentropy: 0.3334\n",
            "Epoch 14/20\n",
            "49/49 - 0s - loss: 0.3052 - accuracy: 0.8883 - binary_crossentropy: 0.2719 - val_loss: 0.3645 - val_accuracy: 0.8568 - val_binary_crossentropy: 0.3311\n",
            "Epoch 15/20\n",
            "49/49 - 0s - loss: 0.2991 - accuracy: 0.8921 - binary_crossentropy: 0.2654 - val_loss: 0.3678 - val_accuracy: 0.8558 - val_binary_crossentropy: 0.3339\n",
            "Epoch 16/20\n",
            "49/49 - 0s - loss: 0.2943 - accuracy: 0.8938 - binary_crossentropy: 0.2601 - val_loss: 0.3679 - val_accuracy: 0.8564 - val_binary_crossentropy: 0.3336\n",
            "Epoch 17/20\n",
            "49/49 - 0s - loss: 0.2906 - accuracy: 0.8958 - binary_crossentropy: 0.2560 - val_loss: 0.3705 - val_accuracy: 0.8556 - val_binary_crossentropy: 0.3358\n",
            "Epoch 18/20\n",
            "49/49 - 0s - loss: 0.2846 - accuracy: 0.8979 - binary_crossentropy: 0.2495 - val_loss: 0.3733 - val_accuracy: 0.8550 - val_binary_crossentropy: 0.3380\n",
            "Epoch 19/20\n",
            "49/49 - 0s - loss: 0.2820 - accuracy: 0.9003 - binary_crossentropy: 0.2464 - val_loss: 0.3772 - val_accuracy: 0.8540 - val_binary_crossentropy: 0.3414\n",
            "Epoch 20/20\n",
            "49/49 - 0s - loss: 0.2779 - accuracy: 0.9016 - binary_crossentropy: 0.2419 - val_loss: 0.3806 - val_accuracy: 0.8534 - val_binary_crossentropy: 0.3443\n"
          ],
          "name": "stdout"
        }
      ]
    },
    {
      "cell_type": "code",
      "metadata": {
        "colab": {
          "base_uri": "https://localhost:8080/",
          "height": 442
        },
        "id": "tymDFSJCzOB2",
        "outputId": "f92228e3-b019-4a4a-d2b6-2b507ae8ad33"
      },
      "source": [
        "# L2 규제가 과적합에 잘 견딤\n",
        "plot_history([('baseline', baseline_history),\n",
        "              ('l2', l2_model_history)])"
      ],
      "execution_count": null,
      "outputs": [
        {
          "output_type": "display_data",
          "data": {
            "image/png": "[encoded data removed]",
            "text/plain": [
              "<Figure size 936x504 with 1 Axes>"
            ]
          },
          "metadata": {
            "tags": [],
            "needs_background": "light"
          }
        }
      ]
    },
    {
      "cell_type": "markdown",
      "metadata": {
        "id": "Ag_JqejS5YJA"
      },
      "source": [
        "### 드롭아웃 추가하기\n",
        "- 드롭아웃 비율은 0이 되는 특성의 비율\n",
        "- 0.2 ~ 0.5 사이를 사용"
      ]
    },
    {
      "cell_type": "code",
      "metadata": {
        "colab": {
          "base_uri": "https://localhost:8080/"
        },
        "id": "qdHFa-nwzN-4",
        "outputId": "d8f6dc1a-0759-4609-cd89-2769036fee88"
      },
      "source": [
        "dpt_model = keras.models.Sequential([\n",
        "    keras.layers.Dense(16, activation='relu', input_shape=(NUM_WORDS,)),\n",
        "    keras.layers.Dropout(0.5),\n",
        "    keras.layers.Dense(16, activation='relu'),\n",
        "    keras.layers.Dropout(0.5),\n",
        "    keras.layers.Dense(1, activation='sigmoid')])\n",
        "\n",
        "dpt_model.compile(optimizer='adam',\n",
        "                  loss='binary_crossentropy',\n",
        "                  metrics=['accuracy','binary_crossentropy'])\n",
        "\n",
        "dpt_model_history = dpt_model.fit(train_data, train_labels,\n",
        "                                  epochs=20,\n",
        "                                  batch_size=512,\n",
        "                                  validation_data=(test_data, test_labels),\n",
        "                                  verbose=2)"
      ],
      "execution_count": null,
      "outputs": [
        {
          "output_type": "stream",
          "text": [
            "Epoch 1/20\n",
            "49/49 - 1s - loss: 0.6809 - accuracy: 0.5538 - binary_crossentropy: 0.6809 - val_loss: 0.6469 - val_accuracy: 0.7532 - val_binary_crossentropy: 0.6469\n",
            "Epoch 2/20\n",
            "49/49 - 0s - loss: 0.5879 - accuracy: 0.6962 - binary_crossentropy: 0.5879 - val_loss: 0.4779 - val_accuracy: 0.8269 - val_binary_crossentropy: 0.4779\n",
            "Epoch 3/20\n",
            "49/49 - 0s - loss: 0.4796 - accuracy: 0.7853 - binary_crossentropy: 0.4796 - val_loss: 0.3840 - val_accuracy: 0.8475 - val_binary_crossentropy: 0.3840\n",
            "Epoch 4/20\n",
            "49/49 - 0s - loss: 0.4210 - accuracy: 0.8236 - binary_crossentropy: 0.4210 - val_loss: 0.3436 - val_accuracy: 0.8547 - val_binary_crossentropy: 0.3436\n",
            "Epoch 5/20\n",
            "49/49 - 0s - loss: 0.3904 - accuracy: 0.8440 - binary_crossentropy: 0.3904 - val_loss: 0.3319 - val_accuracy: 0.8581 - val_binary_crossentropy: 0.3319\n",
            "Epoch 6/20\n",
            "49/49 - 0s - loss: 0.3712 - accuracy: 0.8531 - binary_crossentropy: 0.3712 - val_loss: 0.3265 - val_accuracy: 0.8581 - val_binary_crossentropy: 0.3265\n",
            "Epoch 7/20\n",
            "49/49 - 0s - loss: 0.3558 - accuracy: 0.8601 - binary_crossentropy: 0.3558 - val_loss: 0.3229 - val_accuracy: 0.8597 - val_binary_crossentropy: 0.3229\n",
            "Epoch 8/20\n",
            "49/49 - 0s - loss: 0.3447 - accuracy: 0.8661 - binary_crossentropy: 0.3447 - val_loss: 0.3212 - val_accuracy: 0.8590 - val_binary_crossentropy: 0.3212\n",
            "Epoch 9/20\n",
            "49/49 - 0s - loss: 0.3350 - accuracy: 0.8720 - binary_crossentropy: 0.3350 - val_loss: 0.3217 - val_accuracy: 0.8598 - val_binary_crossentropy: 0.3217\n",
            "Epoch 10/20\n",
            "49/49 - 0s - loss: 0.3284 - accuracy: 0.8730 - binary_crossentropy: 0.3284 - val_loss: 0.3223 - val_accuracy: 0.8598 - val_binary_crossentropy: 0.3223\n",
            "Epoch 11/20\n",
            "49/49 - 0s - loss: 0.3223 - accuracy: 0.8760 - binary_crossentropy: 0.3223 - val_loss: 0.3242 - val_accuracy: 0.8591 - val_binary_crossentropy: 0.3242\n",
            "Epoch 12/20\n",
            "49/49 - 0s - loss: 0.3148 - accuracy: 0.8800 - binary_crossentropy: 0.3148 - val_loss: 0.3254 - val_accuracy: 0.8592 - val_binary_crossentropy: 0.3254\n",
            "Epoch 13/20\n",
            "49/49 - 0s - loss: 0.3021 - accuracy: 0.8824 - binary_crossentropy: 0.3021 - val_loss: 0.3255 - val_accuracy: 0.8597 - val_binary_crossentropy: 0.3255\n",
            "Epoch 14/20\n",
            "49/49 - 0s - loss: 0.3028 - accuracy: 0.8858 - binary_crossentropy: 0.3028 - val_loss: 0.3276 - val_accuracy: 0.8592 - val_binary_crossentropy: 0.3276\n",
            "Epoch 15/20\n",
            "49/49 - 0s - loss: 0.2994 - accuracy: 0.8852 - binary_crossentropy: 0.2994 - val_loss: 0.3291 - val_accuracy: 0.8580 - val_binary_crossentropy: 0.3291\n",
            "Epoch 16/20\n",
            "49/49 - 0s - loss: 0.2957 - accuracy: 0.8896 - binary_crossentropy: 0.2957 - val_loss: 0.3331 - val_accuracy: 0.8598 - val_binary_crossentropy: 0.3331\n",
            "Epoch 17/20\n",
            "49/49 - 0s - loss: 0.2951 - accuracy: 0.8902 - binary_crossentropy: 0.2951 - val_loss: 0.3312 - val_accuracy: 0.8574 - val_binary_crossentropy: 0.3312\n",
            "Epoch 18/20\n",
            "49/49 - 0s - loss: 0.2928 - accuracy: 0.8904 - binary_crossentropy: 0.2928 - val_loss: 0.3316 - val_accuracy: 0.8567 - val_binary_crossentropy: 0.3316\n",
            "Epoch 19/20\n",
            "49/49 - 0s - loss: 0.2842 - accuracy: 0.8950 - binary_crossentropy: 0.2842 - val_loss: 0.3352 - val_accuracy: 0.8568 - val_binary_crossentropy: 0.3352\n",
            "Epoch 20/20\n",
            "49/49 - 0s - loss: 0.2878 - accuracy: 0.8946 - binary_crossentropy: 0.2878 - val_loss: 0.3392 - val_accuracy: 0.8566 - val_binary_crossentropy: 0.3392\n"
          ],
          "name": "stdout"
        }
      ]
    },
    {
      "cell_type": "code",
      "metadata": {
        "colab": {
          "base_uri": "https://localhost:8080/",
          "height": 444
        },
        "id": "aoeZy4PNzN9L",
        "outputId": "1c5d3f2e-9480-4d56-f07c-283748026231"
      },
      "source": [
        "plot_history([('baseline', baseline_history),\n",
        "              ('dropout', dpt_model_history)])"
      ],
      "execution_count": null,
      "outputs": [
        {
          "output_type": "display_data",
          "data": {
            "image/png": "[encoded data removed]",
            "text/plain": [
              "<Figure size 936x504 with 1 Axes>"
            ]
          },
          "metadata": {
            "tags": [],
            "needs_background": "light"
          }
        }
      ]
    },
    {
      "cell_type": "markdown",
      "metadata": {
        "id": "O4GyxoNczN5I"
      },
      "source": [
        "### 정리\n",
        "- 더 많은 훈련 데이터를 모으고\n",
        "- 네트워크의 용량을 줄이고\n",
        "- 가중치 규제를 추가하고\n",
        "- 드롭아웃을 추가함"
      ]
    },
    {
      "cell_type": "markdown",
      "metadata": {
        "id": "QDQXC7eD5yAY"
      },
      "source": [
        "---"
      ]
    },
    {
      "cell_type": "markdown",
      "metadata": {
        "id": "ktV2mfix5y86"
      },
      "source": [
        "## 저장 및 로드"
      ]
    },
    {
      "cell_type": "markdown",
      "metadata": {
        "id": "0pqRHXxS52Zm"
      },
      "source": [
        "### 모델 저장과 복원\n",
        "- 훈련 도중이나 훈련이 끝난 후에 모델을 저장할 수 있음\n",
        "  - 한 번에 오랫동안 훈련하지 않아도 됨\n",
        "  - 모델을 다른 사람에게 공유할 수 있음"
      ]
    },
    {
      "cell_type": "code",
      "metadata": {
        "id": "LeLSAqEXzN3e"
      },
      "source": [
        "pip install -q pyyaml h5py  # HDF5 포맷으로 모델을 저장하기 위해서 필요합니다"
      ],
      "execution_count": null,
      "outputs": []
    },
    {
      "cell_type": "code",
      "metadata": {
        "colab": {
          "base_uri": "https://localhost:8080/"
        },
        "id": "2HxlxY3UzNzu",
        "outputId": "c3b39631-fe5c-49d1-b8dd-e4f5eb282f84"
      },
      "source": [
        "import os\n",
        "\n",
        "import tensorflow as tf\n",
        "from tensorflow import keras\n",
        "\n",
        "print(tf.version.VERSION)"
      ],
      "execution_count": null,
      "outputs": [
        {
          "output_type": "stream",
          "text": [
            "2.4.1\n"
          ],
          "name": "stdout"
        }
      ]
    },
    {
      "cell_type": "code",
      "metadata": {
        "colab": {
          "base_uri": "https://localhost:8080/"
        },
        "id": "Vd6sqW80zNwz",
        "outputId": "51a43e71-537e-4abb-baa7-98a62b69cd16"
      },
      "source": [
        "(train_images, train_labels), (test_images, test_labels) = tf.keras.datasets.mnist.load_data()\n",
        "\n",
        "train_labels = train_labels[:1000]\n",
        "test_labels = test_labels[:1000]\n",
        "\n",
        "train_images = train_images[:1000].reshape(-1, 28 * 28) / 255.0\n",
        "test_images = test_images[:1000].reshape(-1, 28 * 28) / 255.0"
      ],
      "execution_count": null,
      "outputs": [
        {
          "output_type": "stream",
          "text": [
            "Downloading data from https://storage.googleapis.com/tensorflow/tf-keras-datasets/mnist.npz\n",
            "11493376/11490434 [==============================] - 0s 0us/step\n"
          ],
          "name": "stdout"
        }
      ]
    },
    {
      "cell_type": "markdown",
      "metadata": {
        "id": "pXHI9rdx6QrX"
      },
      "source": [
        "### 모델 정의"
      ]
    },
    {
      "cell_type": "code",
      "metadata": {
        "colab": {
          "base_uri": "https://localhost:8080/"
        },
        "id": "QsgZVv8bzNvT",
        "outputId": "3e112088-98a3-464d-ceb6-823354cf07aa"
      },
      "source": [
        "# 간단한 Sequential 모델을 정의합니다\n",
        "def create_model():\n",
        "  model = tf.keras.models.Sequential([\n",
        "    keras.layers.Dense(512, activation='relu', input_shape=(784,)),\n",
        "    keras.layers.Dropout(0.2),\n",
        "    keras.layers.Dense(10)])\n",
        "  model.compile(optimizer='adam',\n",
        "                loss=tf.losses.SparseCategoricalCrossentropy(from_logits=True),\n",
        "                metrics=['accuracy'])\n",
        "  return model\n",
        "\n",
        "# 모델 객체를 만듬\n",
        "model = create_model()\n",
        "\n",
        "# 모델 구조를 출력\n",
        "model.summary()"
      ],
      "execution_count": null,
      "outputs": [
        {
          "output_type": "stream",
          "text": [
            "Model: \"sequential_5\"\n",
            "_________________________________________________________________\n",
            "Layer (type)                 Output Shape              Param #   \n",
            "=================================================================\n",
            "dense_15 (Dense)             (None, 512)               401920    \n",
            "_________________________________________________________________\n",
            "dropout_2 (Dropout)          (None, 512)               0         \n",
            "_________________________________________________________________\n",
            "dense_16 (Dense)             (None, 10)                5130      \n",
            "=================================================================\n",
            "Total params: 407,050\n",
            "Trainable params: 407,050\n",
            "Non-trainable params: 0\n",
            "_________________________________________________________________\n"
          ],
          "name": "stdout"
        }
      ]
    },
    {
      "cell_type": "markdown",
      "metadata": {
        "id": "GA4UZCta6YzV"
      },
      "source": [
        "### 훈련 하는 동안 체크포인트 저장\n",
        "- 체크포인트를 사용하면 다시 훈련하지 않고 모델을 재사용하거나 이어서 훈련을 진행할 수 있음"
      ]
    },
    {
      "cell_type": "code",
      "metadata": {
        "colab": {
          "base_uri": "https://localhost:8080/"
        },
        "id": "ROs28ISBzNrk",
        "outputId": "792a34ae-5030-4185-9145-66771d341fbb"
      },
      "source": [
        "checkpoint_path = \"training_1/cp.ckpt\"\n",
        "checkpoint_dir = os.path.dirname(checkpoint_path)\n",
        "\n",
        "# 모델의 가중치를 저장하는 콜백 만들기\n",
        "cp_callback = tf.keras.callbacks.ModelCheckpoint(filepath=checkpoint_path,\n",
        "                                                 save_weights_only=True,\n",
        "                                                 verbose=1)\n",
        "\n",
        "# 새로운 콜백으로 모델 훈련\n",
        "model.fit(train_images, \n",
        "          train_labels,  \n",
        "          epochs=10,\n",
        "          validation_data=(test_images,test_labels),\n",
        "          callbacks=[cp_callback])  # 콜백을 훈련에 전달합니다"
      ],
      "execution_count": null,
      "outputs": [
        {
          "output_type": "stream",
          "text": [
            "Epoch 1/10\n",
            "32/32 [==============================] - 1s 10ms/step - loss: 1.5549 - accuracy: 0.5032 - val_loss: 0.7606 - val_accuracy: 0.7590\n",
            "\n",
            "Epoch 00001: saving model to training_1/cp.ckpt\n",
            "Epoch 2/10\n",
            "32/32 [==============================] - 0s 6ms/step - loss: 0.4694 - accuracy: 0.8604 - val_loss: 0.5710 - val_accuracy: 0.8280\n",
            "\n",
            "Epoch 00002: saving model to training_1/cp.ckpt\n",
            "Epoch 3/10\n",
            "32/32 [==============================] - 0s 6ms/step - loss: 0.3295 - accuracy: 0.8995 - val_loss: 0.4753 - val_accuracy: 0.8550\n",
            "\n",
            "Epoch 00003: saving model to training_1/cp.ckpt\n",
            "Epoch 4/10\n",
            "32/32 [==============================] - 0s 6ms/step - loss: 0.2352 - accuracy: 0.9355 - val_loss: 0.4684 - val_accuracy: 0.8570\n",
            "\n",
            "Epoch 00004: saving model to training_1/cp.ckpt\n",
            "Epoch 5/10\n",
            "32/32 [==============================] - 0s 6ms/step - loss: 0.1410 - accuracy: 0.9670 - val_loss: 0.4361 - val_accuracy: 0.8600\n",
            "\n",
            "Epoch 00005: saving model to training_1/cp.ckpt\n",
            "Epoch 6/10\n",
            "32/32 [==============================] - 0s 6ms/step - loss: 0.1319 - accuracy: 0.9788 - val_loss: 0.4324 - val_accuracy: 0.8600\n",
            "\n",
            "Epoch 00006: saving model to training_1/cp.ckpt\n",
            "Epoch 7/10\n",
            "32/32 [==============================] - 0s 6ms/step - loss: 0.0991 - accuracy: 0.9835 - val_loss: 0.4205 - val_accuracy: 0.8600\n",
            "\n",
            "Epoch 00007: saving model to training_1/cp.ckpt\n",
            "Epoch 8/10\n",
            "32/32 [==============================] - 0s 6ms/step - loss: 0.0750 - accuracy: 0.9879 - val_loss: 0.4301 - val_accuracy: 0.8570\n",
            "\n",
            "Epoch 00008: saving model to training_1/cp.ckpt\n",
            "Epoch 9/10\n",
            "32/32 [==============================] - 0s 6ms/step - loss: 0.0509 - accuracy: 0.9955 - val_loss: 0.4477 - val_accuracy: 0.8580\n",
            "\n",
            "Epoch 00009: saving model to training_1/cp.ckpt\n",
            "Epoch 10/10\n",
            "32/32 [==============================] - 0s 6ms/step - loss: 0.0362 - accuracy: 1.0000 - val_loss: 0.4256 - val_accuracy: 0.8690\n",
            "\n",
            "Epoch 00010: saving model to training_1/cp.ckpt\n"
          ],
          "name": "stdout"
        },
        {
          "output_type": "execute_result",
          "data": {
            "text/plain": [
              "<tensorflow.python.keras.callbacks.History at 0x7ff1431ddad0>"
            ]
          },
          "metadata": {
            "tags": []
          },
          "execution_count": 21
        }
      ]
    },
    {
      "cell_type": "code",
      "metadata": {
        "colab": {
          "base_uri": "https://localhost:8080/"
        },
        "id": "F3Wh_Eq3zNpV",
        "outputId": "d85cbb98-6910-45b8-964d-eb0a2b52136e"
      },
      "source": [
        "ls {checkpoint_dir}"
      ],
      "execution_count": null,
      "outputs": [
        {
          "output_type": "stream",
          "text": [
            "checkpoint  cp.ckpt.data-00000-of-00001  cp.ckpt.index\n"
          ],
          "name": "stdout"
        }
      ]
    },
    {
      "cell_type": "code",
      "metadata": {
        "colab": {
          "base_uri": "https://localhost:8080/"
        },
        "id": "sUSbK1ZBzNmV",
        "outputId": "08dd28a9-d525-4912-cbde-f458da5dc561"
      },
      "source": [
        "# 기본 모델 객체를 만듬\n",
        "model = create_model()\n",
        "\n",
        "# 모델을 평가\n",
        "loss, acc = model.evaluate(test_images,  test_labels, verbose=2)\n",
        "print(\"훈련되지 않은 모델의 정확도: {:5.2f}%\".format(100*acc))"
      ],
      "execution_count": null,
      "outputs": [
        {
          "output_type": "stream",
          "text": [
            "32/32 - 0s - loss: 2.3723 - accuracy: 0.1250\n",
            "훈련되지 않은 모델의 정확도: 12.50%\n"
          ],
          "name": "stdout"
        }
      ]
    },
    {
      "cell_type": "code",
      "metadata": {
        "colab": {
          "base_uri": "https://localhost:8080/"
        },
        "id": "S4K9QMz0zNjx",
        "outputId": "a6cb74ee-e70c-45aa-e4f5-da5e8de27049"
      },
      "source": [
        "# 가중치 로드\n",
        "model.load_weights(checkpoint_path)\n",
        "\n",
        "# 모델 재평가\n",
        "loss,acc = model.evaluate(test_images,  test_labels, verbose=2)\n",
        "print(\"복원된 모델의 정확도: {:5.2f}%\".format(100*acc))"
      ],
      "execution_count": null,
      "outputs": [
        {
          "output_type": "stream",
          "text": [
            "32/32 - 0s - loss: 0.4256 - accuracy: 0.8690\n",
            "복원된 모델의 정확도: 86.90%\n"
          ],
          "name": "stdout"
        }
      ]
    },
    {
      "cell_type": "markdown",
      "metadata": {
        "id": "MDrWwpbW7BAJ"
      },
      "source": [
        "### 체크포인트 콜백 매개변수\n",
        "- 체크포인트 이름을 고유하게 만들거나 체크포인트 주기 조정 가능"
      ]
    },
    {
      "cell_type": "code",
      "metadata": {
        "colab": {
          "base_uri": "https://localhost:8080/"
        },
        "id": "JkaBwF00zNhJ",
        "outputId": "85ea3275-967d-427c-8498-bef44f3a0cb2"
      },
      "source": [
        "# 파일 이름에 에포크 번호를 포함`str.format` 포맷)\n",
        "checkpoint_path = \"training_2/cp-{epoch:04d}.ckpt\"\n",
        "checkpoint_dir = os.path.dirname(checkpoint_path)\n",
        "\n",
        "# 다섯 번째 에포크마다 가중치를 저장하기 위한 콜백을 만듬\n",
        "cp_callback = tf.keras.callbacks.ModelCheckpoint(\n",
        "    filepath=checkpoint_path, \n",
        "    verbose=1, \n",
        "    save_weights_only=True,\n",
        "    period=5)\n",
        "\n",
        "# 새로운 모델 객체를 만듬\n",
        "model = create_model()\n",
        "\n",
        "# `checkpoint_path` 포맷을 사용하는 가중치를 저장\n",
        "model.save_weights(checkpoint_path.format(epoch=0))\n",
        "\n",
        "# 새로운 콜백을 사용하여 모델을 훈련\n",
        "model.fit(train_images, \n",
        "          train_labels,\n",
        "          epochs=50, \n",
        "          callbacks=[cp_callback],\n",
        "          validation_data=(test_images,test_labels),\n",
        "          verbose=0)"
      ],
      "execution_count": null,
      "outputs": [
        {
          "output_type": "stream",
          "text": [
            "WARNING:tensorflow:`period` argument is deprecated. Please use `save_freq` to specify the frequency in number of batches seen.\n",
            "\n",
            "Epoch 00005: saving model to training_2/cp-0005.ckpt\n",
            "\n",
            "Epoch 00010: saving model to training_2/cp-0010.ckpt\n",
            "\n",
            "Epoch 00015: saving model to training_2/cp-0015.ckpt\n",
            "\n",
            "Epoch 00020: saving model to training_2/cp-0020.ckpt\n",
            "\n",
            "Epoch 00025: saving model to training_2/cp-0025.ckpt\n",
            "\n",
            "Epoch 00030: saving model to training_2/cp-0030.ckpt\n",
            "\n",
            "Epoch 00035: saving model to training_2/cp-0035.ckpt\n",
            "\n",
            "Epoch 00040: saving model to training_2/cp-0040.ckpt\n",
            "\n",
            "Epoch 00045: saving model to training_2/cp-0045.ckpt\n",
            "\n",
            "Epoch 00050: saving model to training_2/cp-0050.ckpt\n"
          ],
          "name": "stdout"
        },
        {
          "output_type": "execute_result",
          "data": {
            "text/plain": [
              "<tensorflow.python.keras.callbacks.History at 0x7ff142c87290>"
            ]
          },
          "metadata": {
            "tags": []
          },
          "execution_count": 25
        }
      ]
    },
    {
      "cell_type": "code",
      "metadata": {
        "colab": {
          "base_uri": "https://localhost:8080/",
          "height": 35
        },
        "id": "s-CZfCbI6xtU",
        "outputId": "46502eca-e375-4f84-c7f9-cde2942155be"
      },
      "source": [
        "latest = tf.train.latest_checkpoint(checkpoint_dir)\n",
        "latest"
      ],
      "execution_count": null,
      "outputs": [
        {
          "output_type": "execute_result",
          "data": {
            "application/vnd.google.colaboratory.intrinsic+json": {
              "type": "string"
            },
            "text/plain": [
              "'training_2/cp-0050.ckpt'"
            ]
          },
          "metadata": {
            "tags": []
          },
          "execution_count": 29
        }
      ]
    },
    {
      "cell_type": "code",
      "metadata": {
        "colab": {
          "base_uri": "https://localhost:8080/"
        },
        "id": "8-a8_lOa6xqd",
        "outputId": "7d58e739-4054-4af1-c3ed-91e116691e4a"
      },
      "source": [
        "# 모델 초기화 후 새로운 모델 객체를 만듬\n",
        "model = create_model()\n",
        "\n",
        "# 이전에 저장한 가중치를 로드\n",
        "model.load_weights(latest)\n",
        "\n",
        "# 모델을 재평가\n",
        "loss, acc = model.evaluate(test_images,  test_labels, verbose=2)\n",
        "print(\"복원된 모델의 정확도: {:5.2f}%\".format(100*acc))"
      ],
      "execution_count": null,
      "outputs": [
        {
          "output_type": "stream",
          "text": [
            "32/32 - 0s - loss: 0.4890 - accuracy: 0.8730\n",
            "복원된 모델의 정확도: 87.30%\n"
          ],
          "name": "stdout"
        }
      ]
    },
    {
      "cell_type": "markdown",
      "metadata": {
        "id": "iEUXUo9L7tBi"
      },
      "source": [
        "### 수동으로 가중치 저장\n",
        "- Model.save_weights 메서드 사용"
      ]
    },
    {
      "cell_type": "code",
      "metadata": {
        "colab": {
          "base_uri": "https://localhost:8080/"
        },
        "id": "0IOwWVVa6xnV",
        "outputId": "e227ab5e-b168-42d4-e16b-5b34f2cb6e2e"
      },
      "source": [
        "# 가중치를 저장\n",
        "model.save_weights('./checkpoints/my_checkpoint')\n",
        "\n",
        "# 새로운 모델 객체를 만듬\n",
        "model = create_model()\n",
        "\n",
        "# 가중치를 복원\n",
        "model.load_weights('./checkpoints/my_checkpoint')\n",
        "\n",
        "# 모델 평가\n",
        "loss,acc = model.evaluate(test_images,  test_labels, verbose=2)\n",
        "print(\"복원된 모델의 정확도: {:5.2f}%\".format(100*acc))"
      ],
      "execution_count": null,
      "outputs": [
        {
          "output_type": "stream",
          "text": [
            "32/32 - 0s - loss: 0.4890 - accuracy: 0.8730\n",
            "복원된 모델의 정확도: 87.30%\n"
          ],
          "name": "stdout"
        }
      ]
    },
    {
      "cell_type": "markdown",
      "metadata": {
        "id": "9xdOLueS77PQ"
      },
      "source": [
        "### 전체 모델 저장하기\n",
        "- model.save 메서드를 호출하여 모델의 구조, 가중치, 훈련 설정을 하나의 파일에 저장\n",
        "- 모델을 저장하기 때문에 원본 파이썬 코드가 없어도 사용 가능"
      ]
    },
    {
      "cell_type": "code",
      "metadata": {
        "colab": {
          "base_uri": "https://localhost:8080/"
        },
        "id": "tTUn1gIa6xkJ",
        "outputId": "a5748110-a336-4fc0-9484-a326a928c779"
      },
      "source": [
        "# 새로운 모델 객체를 만들고 훈련\n",
        "model = create_model()\n",
        "model.fit(train_images, train_labels, epochs=5)\n",
        "\n",
        "# SavedModel로 전체 모델 저장\n",
        "!mkdir -p saved_model\n",
        "model.save('saved_model/my_model')"
      ],
      "execution_count": null,
      "outputs": [
        {
          "output_type": "stream",
          "text": [
            "Epoch 1/5\n",
            "WARNING:tensorflow:Unresolved object in checkpoint: (root).optimizer.iter\n",
            "WARNING:tensorflow:Unresolved object in checkpoint: (root).optimizer.beta_1\n",
            "WARNING:tensorflow:Unresolved object in checkpoint: (root).optimizer.beta_2\n",
            "WARNING:tensorflow:Unresolved object in checkpoint: (root).optimizer.decay\n",
            "WARNING:tensorflow:Unresolved object in checkpoint: (root).optimizer.learning_rate\n",
            "WARNING:tensorflow:A checkpoint was restored (e.g. tf.train.Checkpoint.restore or tf.keras.Model.load_weights) but not all checkpointed values were used. See above for specific issues. Use expect_partial() on the load status object, e.g. tf.train.Checkpoint.restore(...).expect_partial(), to silence these warnings, or use assert_consumed() to make the check explicit. See https://www.tensorflow.org/guide/checkpoint#loading_mechanics for details.\n",
            "WARNING:tensorflow:Unresolved object in checkpoint: (root).optimizer.iter\n",
            "WARNING:tensorflow:Unresolved object in checkpoint: (root).optimizer.beta_1\n",
            "WARNING:tensorflow:Unresolved object in checkpoint: (root).optimizer.beta_2\n",
            "WARNING:tensorflow:Unresolved object in checkpoint: (root).optimizer.decay\n",
            "WARNING:tensorflow:Unresolved object in checkpoint: (root).optimizer.learning_rate\n",
            "WARNING:tensorflow:A checkpoint was restored (e.g. tf.train.Checkpoint.restore or tf.keras.Model.load_weights) but not all checkpointed values were used. See above for specific issues. Use expect_partial() on the load status object, e.g. tf.train.Checkpoint.restore(...).expect_partial(), to silence these warnings, or use assert_consumed() to make the check explicit. See https://www.tensorflow.org/guide/checkpoint#loading_mechanics for details.\n",
            "32/32 [==============================] - 1s 3ms/step - loss: 1.5419 - accuracy: 0.5388\n",
            "Epoch 2/5\n",
            "32/32 [==============================] - 0s 3ms/step - loss: 0.4563 - accuracy: 0.8579\n",
            "Epoch 3/5\n",
            "32/32 [==============================] - 0s 3ms/step - loss: 0.3066 - accuracy: 0.9182\n",
            "Epoch 4/5\n",
            "32/32 [==============================] - 0s 3ms/step - loss: 0.2015 - accuracy: 0.9540\n",
            "Epoch 5/5\n",
            "32/32 [==============================] - 0s 3ms/step - loss: 0.1471 - accuracy: 0.9709\n",
            "INFO:tensorflow:Assets written to: saved_model/my_model/assets\n"
          ],
          "name": "stdout"
        }
      ]
    },
    {
      "cell_type": "code",
      "metadata": {
        "colab": {
          "base_uri": "https://localhost:8080/"
        },
        "id": "2zPK1stG6xg2",
        "outputId": "fb4f9d27-909d-4eb4-8a32-5954a58c371a"
      },
      "source": [
        "# SavedModel 포맷은 프로토콜 버퍼 이진 파일과 텐서플로 체크포인트를 담고 있는 디렉토리\n",
        "new_model = tf.keras.models.load_model('saved_model/my_model')\n",
        "\n",
        "# 모델 구조를 확인\n",
        "new_model.summary()"
      ],
      "execution_count": null,
      "outputs": [
        {
          "output_type": "stream",
          "text": [
            "Model: \"sequential_10\"\n",
            "_________________________________________________________________\n",
            "Layer (type)                 Output Shape              Param #   \n",
            "=================================================================\n",
            "dense_25 (Dense)             (None, 512)               401920    \n",
            "_________________________________________________________________\n",
            "dropout_7 (Dropout)          (None, 512)               0         \n",
            "_________________________________________________________________\n",
            "dense_26 (Dense)             (None, 10)                5130      \n",
            "=================================================================\n",
            "Total params: 407,050\n",
            "Trainable params: 407,050\n",
            "Non-trainable params: 0\n",
            "_________________________________________________________________\n"
          ],
          "name": "stdout"
        }
      ]
    },
    {
      "cell_type": "code",
      "metadata": {
        "colab": {
          "base_uri": "https://localhost:8080/"
        },
        "id": "I2dqLC2N6xde",
        "outputId": "a2ebabbc-42ed-4e12-9df1-32551518098e"
      },
      "source": [
        "# 복원된 모델 평가\n",
        "loss, acc = new_model.evaluate(test_images,  test_labels, verbose=2)\n",
        "print('복원된 모델의 정확도: {:5.2f}%'.format(100*acc))\n",
        "\n",
        "print(new_model.predict(test_images).shape)"
      ],
      "execution_count": null,
      "outputs": [
        {
          "output_type": "stream",
          "text": [
            "32/32 - 0s - loss: 0.4276 - accuracy: 0.8620\n",
            "복원된 모델의 정확도: 86.20%\n",
            "(1000, 10)\n"
          ],
          "name": "stdout"
        }
      ]
    },
    {
      "cell_type": "markdown",
      "metadata": {
        "id": "9txQD3o69Dz1"
      },
      "source": [
        "# HDF5 파일로 저장하기"
      ]
    },
    {
      "cell_type": "code",
      "metadata": {
        "colab": {
          "base_uri": "https://localhost:8080/"
        },
        "id": "yFX1oBeo6xab",
        "outputId": "4ed982af-5fd7-4cb6-ef3c-7e9ff695681a"
      },
      "source": [
        "# 새로운 모델 객체를 만들고 훈련\n",
        "model = create_model()\n",
        "model.fit(train_images, train_labels, epochs=5)\n",
        "\n",
        "# 전체 모델을 HDF5 파일로 저장\n",
        "# '.h5' 확장자는 이 모델이 HDF5로 저장되었다는 것을 나타냄\n",
        "model.save('my_model.h5')"
      ],
      "execution_count": null,
      "outputs": [
        {
          "output_type": "stream",
          "text": [
            "Epoch 1/5\n",
            "32/32 [==============================] - 0s 3ms/step - loss: 1.5732 - accuracy: 0.5156\n",
            "Epoch 2/5\n",
            "32/32 [==============================] - 0s 3ms/step - loss: 0.4526 - accuracy: 0.8868\n",
            "Epoch 3/5\n",
            "32/32 [==============================] - 0s 3ms/step - loss: 0.3093 - accuracy: 0.9156\n",
            "Epoch 4/5\n",
            "32/32 [==============================] - 0s 3ms/step - loss: 0.2116 - accuracy: 0.9554\n",
            "Epoch 5/5\n",
            "32/32 [==============================] - 0s 3ms/step - loss: 0.1465 - accuracy: 0.9767\n"
          ],
          "name": "stdout"
        }
      ]
    },
    {
      "cell_type": "code",
      "metadata": {
        "colab": {
          "base_uri": "https://localhost:8080/"
        },
        "id": "_nZAH-vv6xXa",
        "outputId": "ed555eec-f743-421d-8a35-d49263502ea4"
      },
      "source": [
        "# 가중치와 옵티마이저를 포함하여 정확히 동일한 모델을 다시 생성\n",
        "new_model = tf.keras.models.load_model('my_model.h5')\n",
        "new_model.summary()"
      ],
      "execution_count": null,
      "outputs": [
        {
          "output_type": "stream",
          "text": [
            "Model: \"sequential_11\"\n",
            "_________________________________________________________________\n",
            "Layer (type)                 Output Shape              Param #   \n",
            "=================================================================\n",
            "dense_27 (Dense)             (None, 512)               401920    \n",
            "_________________________________________________________________\n",
            "dropout_8 (Dropout)          (None, 512)               0         \n",
            "_________________________________________________________________\n",
            "dense_28 (Dense)             (None, 10)                5130      \n",
            "=================================================================\n",
            "Total params: 407,050\n",
            "Trainable params: 407,050\n",
            "Non-trainable params: 0\n",
            "_________________________________________________________________\n"
          ],
          "name": "stdout"
        }
      ]
    },
    {
      "cell_type": "code",
      "metadata": {
        "colab": {
          "base_uri": "https://localhost:8080/"
        },
        "id": "-0gbm9SS6xUa",
        "outputId": "e8486da9-c282-4ad4-9a15-043a61de0e5a"
      },
      "source": [
        "loss, acc = new_model.evaluate(test_images,  test_labels, verbose=2)\n",
        "print('복원된 모델의 정확도: {:5.2f}%'.format(100*acc))"
      ],
      "execution_count": null,
      "outputs": [
        {
          "output_type": "stream",
          "text": [
            "32/32 - 0s - loss: 0.4434 - accuracy: 0.8600\n",
            "복원된 모델의 정확도: 86.00%\n"
          ],
          "name": "stdout"
        }
      ]
    },
    {
      "cell_type": "markdown",
      "metadata": {
        "id": "GWubBB5S9SOC"
      },
      "source": [
        "### 정리 \n",
        "- 케라스는 모델 구조를 파악하여 저장\n",
        "  - 가중치 값\n",
        "  - 모델 구조\n",
        "  - 모델의 훈련 설정\n",
        "  - 옵티마이저와 옵티마이저 상태"
      ]
    },
    {
      "cell_type": "markdown",
      "metadata": {
        "id": "95OhPO2N9cOC"
      },
      "source": [
        "### 사용자 정의 객체\n",
        "- HDF5와 SavedModel 사이의 주요 차이점은 HDF5가 객체로 모델 구조를 저장하고 \n",
        "- SavedModel은 실행 그래프로 저장 \n",
        "  - 원본 코드 없이 상속 모델과 사용자 정의 층 같은 사용자 정의 객체를 저장할 수 있음"
      ]
    },
    {
      "cell_type": "markdown",
      "metadata": {
        "id": "KmBx26Fe9xLt"
      },
      "source": [
        "---"
      ]
    },
    {
      "cell_type": "markdown",
      "metadata": {
        "id": "M3-Qj4A29x3a"
      },
      "source": [
        "## Keras Tuner로 초매개변수 미세조정"
      ]
    },
    {
      "cell_type": "markdown",
      "metadata": {
        "id": "6R1JLbLd94dN"
      },
      "source": [
        "- Keras Tuner는 TensorFlow 프로그램에 대한 최적의 하이퍼파라미터 세트를 선택하는데 도움을 주는 라이브러리 \n",
        "- 애플리케이션에 대한 올바른 하이퍼파라미터 세트를 선택하는 과정을 하이퍼파라미터 조정 또는 하이퍼튜닝이라고 함"
      ]
    },
    {
      "cell_type": "markdown",
      "metadata": {
        "id": "mficGfVD-NNe"
      },
      "source": [
        "- 하이퍼파라미터는 훈련 프로세스 및 ML 모델의 토폴로지를 제어하는 변수\n",
        "  - 숨겨진 레이어의 수 및 너비와 같이 모델 선택에 영향을 미치는 모델 하이퍼파라미터\n",
        "  - 학습 알고리즘의 속도와 품질에 영향을 주는 알고리즘 하이퍼파라미터\n"
      ]
    },
    {
      "cell_type": "code",
      "metadata": {
        "id": "6wtwM_9i6xRb"
      },
      "source": [
        "import tensorflow as tf\n",
        "from tensorflow import keras\n",
        "\n",
        "import IPython"
      ],
      "execution_count": null,
      "outputs": []
    },
    {
      "cell_type": "code",
      "metadata": {
        "colab": {
          "base_uri": "https://localhost:8080/"
        },
        "id": "D69nxV9W6xO4",
        "outputId": "4a773a6b-6d6b-4ea9-ff45-23b043ca8df0"
      },
      "source": [
        "!pip install -q -U keras-tuner\n",
        "import kerastuner as kt"
      ],
      "execution_count": null,
      "outputs": [
        {
          "output_type": "stream",
          "text": [
            "\u001b[?25l\r\u001b[K     |█████▏                          | 10kB 25.0MB/s eta 0:00:01\r\u001b[K     |██████████▍                     | 20kB 7.1MB/s eta 0:00:01\r\u001b[K     |███████████████▋                | 30kB 6.6MB/s eta 0:00:01\r\u001b[K     |████████████████████▉           | 40kB 6.4MB/s eta 0:00:01\r\u001b[K     |██████████████████████████      | 51kB 3.9MB/s eta 0:00:01\r\u001b[K     |███████████████████████████████▎| 61kB 4.1MB/s eta 0:00:01\r\u001b[K     |████████████████████████████████| 71kB 3.2MB/s \n",
            "\u001b[?25h  Building wheel for keras-tuner (setup.py) ... \u001b[?25l\u001b[?25hdone\n",
            "  Building wheel for terminaltables (setup.py) ... \u001b[?25l\u001b[?25hdone\n"
          ],
          "name": "stdout"
        }
      ]
    },
    {
      "cell_type": "code",
      "metadata": {
        "colab": {
          "base_uri": "https://localhost:8080/"
        },
        "id": "Lt0iM0xg6xLj",
        "outputId": "6efb256e-e0af-4e9a-de08-62a611f6a73e"
      },
      "source": [
        "(img_train, label_train), (img_test, label_test) = keras.datasets.fashion_mnist.load_data()"
      ],
      "execution_count": null,
      "outputs": [
        {
          "output_type": "stream",
          "text": [
            "Downloading data from https://storage.googleapis.com/tensorflow/tf-keras-datasets/train-labels-idx1-ubyte.gz\n",
            "32768/29515 [=================================] - 0s 0us/step\n",
            "Downloading data from https://storage.googleapis.com/tensorflow/tf-keras-datasets/train-images-idx3-ubyte.gz\n",
            "26427392/26421880 [==============================] - 1s 0us/step\n",
            "Downloading data from https://storage.googleapis.com/tensorflow/tf-keras-datasets/t10k-labels-idx1-ubyte.gz\n",
            "8192/5148 [===============================================] - 0s 0us/step\n",
            "Downloading data from https://storage.googleapis.com/tensorflow/tf-keras-datasets/t10k-images-idx3-ubyte.gz\n",
            "4423680/4422102 [==============================] - 0s 0us/step\n"
          ],
          "name": "stdout"
        }
      ]
    },
    {
      "cell_type": "code",
      "metadata": {
        "id": "Lbfqw6GH6xJF"
      },
      "source": [
        "# Normalize \n",
        "img_train = img_train.astype('float32') / 255.0\n",
        "img_test = img_test.astype('float32') / 255.0"
      ],
      "execution_count": null,
      "outputs": []
    },
    {
      "cell_type": "markdown",
      "metadata": {
        "id": "iEPpaVZM-xYY"
      },
      "source": [
        "### 모델 정의하기\n",
        "- 하이퍼튜닝을 위한 모델을 빌드 할 때는 모델 아키텍처와 더불어 하이퍼파라미터 검색 공간도 정의\n",
        "  - 모델 빌더 함수 사용\n",
        "  - Keras Tuner API의 HyperModel 클래스를 하위 클래스화"
      ]
    },
    {
      "cell_type": "code",
      "metadata": {
        "id": "yL9nEr6x_BqO"
      },
      "source": [
        "def model_builder(hp):\n",
        "  model = keras.Sequential()\n",
        "  model.add(keras.layers.Flatten(input_shape=(28, 28)))\n",
        "\n",
        "  # 첫 번째 덴스 레이어의 숫자 지정\n",
        "  # 32~512 사이 중에서 최적의 값 선택\n",
        "  hp_units = hp.Int('units', min_value=32, max_value=512, step=32)\n",
        "  model.add(keras.layers.Dense(units=hp_units, activation='relu'))\n",
        "  model.add(keras.layers.Dense(10))\n",
        "\n",
        "  # 옵티마이저의 러닝레이트 설정\n",
        "  # 0.01, 0.001 또는 0.0001 중에서 최적값 선택\n",
        "  hp_learning_rate = hp.Choice('learning_rate', values = [1e-2, 1e-3, 1e-4]) \n",
        "\n",
        "  model.compile(optimizer = keras.optimizers.Adam(learning_rate=hp_learning_rate),\n",
        "                loss = keras.losses.SparseCategoricalCrossentropy(from_logits=True), \n",
        "                metrics = ['accuracy'])\n",
        "\n",
        "  return model"
      ],
      "execution_count": null,
      "outputs": []
    },
    {
      "cell_type": "markdown",
      "metadata": {
        "id": "rHB4yKER_3xH"
      },
      "source": [
        "### 튜너를 인스턴스화하고 하이퍼튜닝 수행하기\n",
        "Keras Tuner의 네 가지 튜너\n",
        "- RandomSearch\n",
        "- Hyperband\n",
        "- BayesianOptimization\n",
        "- Sklearn"
      ]
    },
    {
      "cell_type": "code",
      "metadata": {
        "id": "Kby38aZ_6xF3"
      },
      "source": [
        "# Hyperband 튜너를 인스턴스화하려면 최적화할 하이퍼모델인 \n",
        "# objective, 및 훈련할 최대 epoch 수(max_epochs)를 지정해야 함\n",
        "tuner = kt.Hyperband(model_builder,\n",
        "                     objective='val_accuracy', \n",
        "                     max_epochs=10,\n",
        "                     factor=3,\n",
        "                     directory='my_dir',\n",
        "                     project_name='intro_to_kt')"
      ],
      "execution_count": null,
      "outputs": []
    },
    {
      "cell_type": "markdown",
      "metadata": {
        "id": "7IMHEMCeAYxM"
      },
      "source": [
        "- Hyperband 튜닝 알고리즘은 적응형 리소스 할당 및 조기 중단을 사용하여 고성능 모델에함 신속하게 수렴\n",
        "- Hyperband는 1 + logfactor( max_epochs)를 계산하고 이를 가장 가까운 정수로 반올림하여 한 브래킷에서 훈련할 모델 수를 결정"
      ]
    },
    {
      "cell_type": "code",
      "metadata": {
        "id": "CPlRZE896xC6"
      },
      "source": [
        "# 훈련 단계가 끝날 때마다 훈련 결과를 지우도록 콜백을 정의합니다.\n",
        "class ClearTrainingOutput(tf.keras.callbacks.Callback):\n",
        "  def on_train_end(*args, **kwargs):\n",
        "    IPython.display.clear_output(wait = True)"
      ],
      "execution_count": null,
      "outputs": []
    },
    {
      "cell_type": "code",
      "metadata": {
        "id": "J6p-uSTi6w_h"
      },
      "source": [
        "tuner.search(img_train, label_train, epochs = 10, validation_data = (img_test, label_test), callbacks = [ClearTrainingOutput()])\n",
        "\n",
        "# Get the optimal hyperparameters\n",
        "best_hps = tuner.get_best_hyperparameters(num_trials = 1)[0]\n",
        "\n",
        "print(f\"\"\"\n",
        "The hyperparameter search is complete. The optimal number of units in the first densely-connected\n",
        "layer is {best_hps.get('units')} and the optimal learning rate for the optimizer\n",
        "is {best_hps.get('learning_rate')}.\n",
        "\"\"\")"
      ],
      "execution_count": null,
      "outputs": []
    },
    {
      "cell_type": "code",
      "metadata": {
        "id": "KJEKqZa56w88"
      },
      "source": [
        "# 최적의 하이퍼파라미터로 모델 재훈련\n",
        "model = tuner.hypermodel.build(best_hps)\n",
        "model.fit(img_train, label_train, epochs = 10, validation_data = (img_test, label_test))"
      ],
      "execution_count": null,
      "outputs": []
    },
    {
      "cell_type": "code",
      "metadata": {
        "id": "A_-QXUCO6w5T"
      },
      "source": [
        ""
      ],
      "execution_count": null,
      "outputs": []
    }
  ]
}