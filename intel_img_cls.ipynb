{
 "cells": [
  {
   "cell_type": "markdown",
   "metadata": {},
   "source": [
    "## Process\n",
    "    1) Load & prepare data set\n",
    "    2) CNN baseline model\n",
    "    3) Transfer learning exploiting keras application modules"
   ]
  },
  {
   "cell_type": "markdown",
   "metadata": {},
   "source": [
    "### 1) Load & prepare data set"
   ]
  },
  {
   "cell_type": "code",
   "execution_count": 13,
   "metadata": {},
   "outputs": [],
   "source": [
    "import glob,os\n",
    "import numpy as np\n",
    "import pandas as pd\n",
    "import matplotlib.pyplot as plt\n",
    "\n",
    "import tensorflow as tf\n",
    "from tensorflow.keras.preprocessing.image import load_img, img_to_array\n",
    "from tensorflow.keras import models,layers\n",
    "from sklearn.utils import shuffle\n",
    "from tensorflow.keras.utils import to_categorical"
   ]
  },
  {
   "cell_type": "code",
   "execution_count": 2,
   "metadata": {},
   "outputs": [],
   "source": [
    "label_dict = {'buildings':0, 'forest':1, 'glacier':2, 'mountain':3, 'sea':4, 'street':5}"
   ]
  },
  {
   "cell_type": "code",
   "execution_count": 3,
   "metadata": {},
   "outputs": [
    {
     "data": {
      "text/plain": [
       "'C:\\\\Users\\\\Kyungbin Choi\\\\Desktop\\\\cv_study\\\\intel_img_cls'"
      ]
     },
     "execution_count": 3,
     "metadata": {},
     "output_type": "execute_result"
    }
   ],
   "source": [
    "os.getcwd()"
   ]
  },
  {
   "cell_type": "code",
   "execution_count": 3,
   "metadata": {},
   "outputs": [
    {
     "data": {
      "text/plain": [
       "['./archive/seg_train/seg_train\\\\buildings',\n",
       " './archive/seg_train/seg_train\\\\forest',\n",
       " './archive/seg_train/seg_train\\\\glacier',\n",
       " './archive/seg_train/seg_train\\\\mountain',\n",
       " './archive/seg_train/seg_train\\\\sea',\n",
       " './archive/seg_train/seg_train\\\\street']"
      ]
     },
     "execution_count": 3,
     "metadata": {},
     "output_type": "execute_result"
    }
   ],
   "source": [
    "glob.glob('./archive/seg_train/seg_train/*')"
   ]
  },
  {
   "cell_type": "code",
   "execution_count": 4,
   "metadata": {},
   "outputs": [
    {
     "data": {
      "text/plain": [
       "['./archive/seg_test/seg_test\\\\buildings',\n",
       " './archive/seg_test/seg_test\\\\forest',\n",
       " './archive/seg_test/seg_test\\\\glacier',\n",
       " './archive/seg_test/seg_test\\\\mountain',\n",
       " './archive/seg_test/seg_test\\\\sea',\n",
       " './archive/seg_test/seg_test\\\\street']"
      ]
     },
     "execution_count": 4,
     "metadata": {},
     "output_type": "execute_result"
    }
   ],
   "source": [
    "glob.glob('./archive/seg_test/seg_test/*')"
   ]
  },
  {
   "cell_type": "code",
   "execution_count": 5,
   "metadata": {},
   "outputs": [
    {
     "data": {
      "text/plain": [
       "2191"
      ]
     },
     "execution_count": 5,
     "metadata": {},
     "output_type": "execute_result"
    }
   ],
   "source": [
    "tmp_repo_list = glob.glob('./archive/seg_train/seg_train/buildings*')\n",
    "len(glob.glob(tmp_repo_list[0]+'/*.jpg'))"
   ]
  },
  {
   "cell_type": "code",
   "execution_count": 6,
   "metadata": {},
   "outputs": [
    {
     "data": {
      "text/plain": [
       "2271"
      ]
     },
     "execution_count": 6,
     "metadata": {},
     "output_type": "execute_result"
    }
   ],
   "source": [
    "tmp_repo_list = glob.glob('./archive/seg_train/seg_train/forest*')\n",
    "len(glob.glob(tmp_repo_list[0]+'/*.jpg'))"
   ]
  },
  {
   "cell_type": "code",
   "execution_count": 8,
   "metadata": {},
   "outputs": [],
   "source": [
    "def img_data_load(repository, y_label, img_size=150):\n",
    "    X_data =[]\n",
    "    y_data =[]\n",
    "    all_files = glob.glob(repository[0]+'/*.jpg')\n",
    "    print(len(all_files))\n",
    "    for img_file in all_files:\n",
    "        smp = load_img(img_file, target_size=(img_size,img_size))\n",
    "        train_smp = img_to_array(smp)\n",
    "        train_smp = train_smp/255. #normalize values\n",
    "        X_data.append(train_smp)\n",
    "        y_data.append(np.array(y_label,dtype = 'int32'))\n",
    "    return X_data, y_data"
   ]
  },
  {
   "cell_type": "code",
   "execution_count": 9,
   "metadata": {},
   "outputs": [
    {
     "name": "stdout",
     "output_type": "stream",
     "text": [
      "buildings 0\n",
      "2191\n",
      "forest 1\n",
      "2271\n",
      "glacier 2\n",
      "2404\n",
      "mountain 3\n",
      "2512\n",
      "sea 4\n",
      "2274\n",
      "street 5\n",
      "2382\n"
     ]
    }
   ],
   "source": [
    "X_val_list = []\n",
    "y_val_list = []\n",
    "for label_, val_ in label_dict.items():\n",
    "    print(label_, val_)\n",
    "    repo = glob.glob('./archive/seg_train/seg_train/'+label_+'*')\n",
    "    X_, y_ = img_data_load(repo, val_)\n",
    "    X_val_list.append(X_)\n",
    "    y_val_list.append(y_)"
   ]
  },
  {
   "cell_type": "code",
   "execution_count": 10,
   "metadata": {},
   "outputs": [],
   "source": [
    "X_train = np.concatenate(X_val_list)\n",
    "y_train = np.concatenate(y_val_list)"
   ]
  },
  {
   "cell_type": "code",
   "execution_count": 11,
   "metadata": {},
   "outputs": [
    {
     "name": "stdout",
     "output_type": "stream",
     "text": [
      "buildings 0\n",
      "437\n",
      "forest 1\n",
      "474\n",
      "glacier 2\n",
      "553\n",
      "mountain 3\n",
      "525\n",
      "sea 4\n",
      "510\n",
      "street 5\n",
      "501\n"
     ]
    }
   ],
   "source": [
    "X_val_test_list = []\n",
    "y_val_test_list = []\n",
    "for label_, val_ in label_dict.items():\n",
    "    print(label_, val_)\n",
    "    repo = glob.glob('./archive/seg_test/seg_test/'+label_+'*')\n",
    "    X_, y_ = img_data_load(repo, val_)\n",
    "    X_val_test_list.append(X_)\n",
    "    y_val_test_list.append(y_)"
   ]
  },
  {
   "cell_type": "code",
   "execution_count": 12,
   "metadata": {},
   "outputs": [],
   "source": [
    "X_test = np.concatenate(X_val_test_list)\n",
    "y_test = np.concatenate(y_val_test_list)"
   ]
  },
  {
   "cell_type": "code",
   "execution_count": 13,
   "metadata": {},
   "outputs": [],
   "source": [
    "from sklearn.model_selection import train_test_split\n",
    "\n",
    "X_train, X_val, y_train, y_val = train_test_split(X_train,y_train, \n",
    "                                                    test_size=500, \n",
    "                                                    shuffle=True, \n",
    "                                                    random_state=1)"
   ]
  },
  {
   "cell_type": "code",
   "execution_count": 14,
   "metadata": {},
   "outputs": [],
   "source": [
    "np.save('X_train.npy',X_train)\n",
    "np.save('y_train.npy',y_train)\n",
    "\n",
    "np.save('X_val.npy',X_val)\n",
    "np.save('y_val.npy',y_val)\n",
    "\n",
    "np.save('X_test.npy',X_test)\n",
    "np.save('y_test.npy',y_test)"
   ]
  },
  {
   "cell_type": "markdown",
   "metadata": {},
   "source": [
    "## 2) Baseline model"
   ]
  },
  {
   "cell_type": "code",
   "execution_count": 4,
   "metadata": {},
   "outputs": [],
   "source": [
    "X_train = np.load('X_train.npy')\n",
    "y_train = np.load('y_train.npy')\n",
    "\n",
    "X_val = np.load('X_val.npy')\n",
    "y_val = np.load('y_val.npy')\n",
    "\n",
    "X_test = np.load('X_test.npy')\n",
    "y_test = np.load('y_test.npy')"
   ]
  },
  {
   "cell_type": "code",
   "execution_count": 5,
   "metadata": {},
   "outputs": [
    {
     "data": {
      "text/plain": [
       "{'buildings': 0,\n",
       " 'forest': 1,\n",
       " 'glacier': 2,\n",
       " 'mountain': 3,\n",
       " 'sea': 4,\n",
       " 'street': 5}"
      ]
     },
     "execution_count": 5,
     "metadata": {},
     "output_type": "execute_result"
    }
   ],
   "source": [
    "label_dict"
   ]
  },
  {
   "cell_type": "code",
   "execution_count": 6,
   "metadata": {},
   "outputs": [
    {
     "data": {
      "text/plain": [
       "(13534,)"
      ]
     },
     "execution_count": 6,
     "metadata": {},
     "output_type": "execute_result"
    }
   ],
   "source": [
    "y_train.shape"
   ]
  },
  {
   "cell_type": "code",
   "execution_count": 7,
   "metadata": {},
   "outputs": [
    {
     "data": {
      "text/plain": [
       "(13534, 150, 150, 3)"
      ]
     },
     "execution_count": 7,
     "metadata": {},
     "output_type": "execute_result"
    }
   ],
   "source": [
    "X_train.shape"
   ]
  },
  {
   "cell_type": "code",
   "execution_count": 8,
   "metadata": {},
   "outputs": [
    {
     "data": {
      "text/plain": [
       "(500, 150, 150, 3)"
      ]
     },
     "execution_count": 8,
     "metadata": {},
     "output_type": "execute_result"
    }
   ],
   "source": [
    "X_val.shape"
   ]
  },
  {
   "cell_type": "code",
   "execution_count": 9,
   "metadata": {},
   "outputs": [
    {
     "data": {
      "text/plain": [
       "(150, 150, 3)"
      ]
     },
     "execution_count": 9,
     "metadata": {},
     "output_type": "execute_result"
    }
   ],
   "source": [
    "(X_train.shape[1:])"
   ]
  },
  {
   "cell_type": "raw",
   "metadata": {},
   "source": [
    "y_train = to_categorical(y_train)\n",
    "y_val = to_categorical(y_val)"
   ]
  },
  {
   "cell_type": "code",
   "execution_count": 10,
   "metadata": {},
   "outputs": [],
   "source": [
    "X_train, y_train = shuffle(X_train, y_train)"
   ]
  },
  {
   "cell_type": "code",
   "execution_count": 11,
   "metadata": {},
   "outputs": [],
   "source": [
    "def basic_cnn(X_train, y_train, X_val_, y_val_):\n",
    "    inputs_ = layers.Input(shape=(X_train.shape[1:]))\n",
    "    conv_layer1 = layers.Conv2D(32, kernel_size=(3,3), activation = 'relu')(inputs_)\n",
    "    conv_layer2 = layers.Conv2D(64, kernel_size=(3,3), activation = 'relu')(conv_layer1)\n",
    "    pool = layers.MaxPool2D((2,2))(conv_layer2)\n",
    "    dropout = layers.Dropout(0.2)(pool)\n",
    "    flatten = layers.Flatten()(dropout)\n",
    "    dense_layer = layers.Dense(128, activation='relu')(flatten)\n",
    "    output = layers.Dense(len(label_dict.keys()), activation='softmax')(dense_layer)\n",
    "    model = models.Model(inputs=inputs_, outputs=output)\n",
    "    adam = tf.keras.optimizers.Adam(.001)\n",
    "    model.compile(optimizer=adam, loss='sparse_categorical_crossentropy', metrics=['accuracy'])\n",
    "    history = model.fit(X_train, y_train, validation_data=(X_val_, y_val_), batch_size = 64, epochs = 20)\n",
    "    \n",
    "    return model, history"
   ]
  },
  {
   "cell_type": "code",
   "execution_count": 12,
   "metadata": {},
   "outputs": [
    {
     "name": "stdout",
     "output_type": "stream",
     "text": [
      "Epoch 1/20\n",
      "212/212 [==============================] - 33s 155ms/step - loss: 1.3654 - accuracy: 0.5994 - val_loss: 0.7314 - val_accuracy: 0.7460\n",
      "Epoch 2/20\n",
      "212/212 [==============================] - 31s 146ms/step - loss: 0.5697 - accuracy: 0.7985 - val_loss: 0.7136 - val_accuracy: 0.7660\n",
      "Epoch 3/20\n",
      "212/212 [==============================] - 32s 149ms/step - loss: 0.3041 - accuracy: 0.9014 - val_loss: 0.7096 - val_accuracy: 0.7800\n",
      "Epoch 4/20\n",
      "212/212 [==============================] - 32s 153ms/step - loss: 0.1273 - accuracy: 0.9635 - val_loss: 0.8238 - val_accuracy: 0.7760\n",
      "Epoch 5/20\n",
      "212/212 [==============================] - 32s 149ms/step - loss: 0.0565 - accuracy: 0.9869 - val_loss: 0.9260 - val_accuracy: 0.7660\n",
      "Epoch 6/20\n",
      "212/212 [==============================] - 31s 148ms/step - loss: 0.0488 - accuracy: 0.9888 - val_loss: 0.9771 - val_accuracy: 0.7760\n",
      "Epoch 7/20\n",
      "212/212 [==============================] - 31s 148ms/step - loss: 0.0452 - accuracy: 0.9899 - val_loss: 1.0184 - val_accuracy: 0.7840\n",
      "Epoch 8/20\n",
      "212/212 [==============================] - 31s 149ms/step - loss: 0.0318 - accuracy: 0.9942 - val_loss: 1.0404 - val_accuracy: 0.7840\n",
      "Epoch 9/20\n",
      "212/212 [==============================] - 32s 149ms/step - loss: 0.0308 - accuracy: 0.9936 - val_loss: 1.1329 - val_accuracy: 0.7560\n",
      "Epoch 10/20\n",
      "212/212 [==============================] - 31s 146ms/step - loss: 0.0218 - accuracy: 0.9962 - val_loss: 1.2060 - val_accuracy: 0.7700\n",
      "Epoch 11/20\n",
      "212/212 [==============================] - 31s 144ms/step - loss: 0.0173 - accuracy: 0.9984 - val_loss: 1.0470 - val_accuracy: 0.7720\n",
      "Epoch 12/20\n",
      "212/212 [==============================] - 31s 145ms/step - loss: 0.0146 - accuracy: 0.9976 - val_loss: 1.2068 - val_accuracy: 0.7960\n",
      "Epoch 13/20\n",
      "212/212 [==============================] - 31s 146ms/step - loss: 0.0152 - accuracy: 0.9984 - val_loss: 1.1361 - val_accuracy: 0.7860\n",
      "Epoch 14/20\n",
      "212/212 [==============================] - 31s 146ms/step - loss: 0.0179 - accuracy: 0.9963 - val_loss: 1.1697 - val_accuracy: 0.7600\n",
      "Epoch 15/20\n",
      "212/212 [==============================] - 31s 147ms/step - loss: 0.0549 - accuracy: 0.9837 - val_loss: 1.6316 - val_accuracy: 0.7160\n",
      "Epoch 16/20\n",
      "212/212 [==============================] - 31s 148ms/step - loss: 0.0307 - accuracy: 0.9922 - val_loss: 1.5073 - val_accuracy: 0.7300\n",
      "Epoch 17/20\n",
      "212/212 [==============================] - 31s 145ms/step - loss: 0.0140 - accuracy: 0.9978 - val_loss: 1.3309 - val_accuracy: 0.7620\n",
      "Epoch 18/20\n",
      "212/212 [==============================] - 31s 146ms/step - loss: 0.0090 - accuracy: 0.9989 - val_loss: 1.2223 - val_accuracy: 0.7680\n",
      "Epoch 19/20\n",
      "212/212 [==============================] - 31s 146ms/step - loss: 0.0099 - accuracy: 0.9988 - val_loss: 1.1127 - val_accuracy: 0.7840\n",
      "Epoch 20/20\n",
      "212/212 [==============================] - 31s 146ms/step - loss: 0.0072 - accuracy: 0.9985 - val_loss: 1.3661 - val_accuracy: 0.7820\n"
     ]
    }
   ],
   "source": [
    "baseline_cnn, history = basic_cnn(X_train, y_train, X_val, y_val)"
   ]
  },
  {
   "cell_type": "code",
   "execution_count": 14,
   "metadata": {},
   "outputs": [
    {
     "name": "stdout",
     "output_type": "stream",
     "text": [
      "Model: \"model\"\n",
      "_________________________________________________________________\n",
      "Layer (type)                 Output Shape              Param #   \n",
      "=================================================================\n",
      "input_1 (InputLayer)         [(None, 150, 150, 3)]     0         \n",
      "_________________________________________________________________\n",
      "conv2d (Conv2D)              (None, 148, 148, 32)      896       \n",
      "_________________________________________________________________\n",
      "conv2d_1 (Conv2D)            (None, 146, 146, 64)      18496     \n",
      "_________________________________________________________________\n",
      "max_pooling2d (MaxPooling2D) (None, 73, 73, 64)        0         \n",
      "_________________________________________________________________\n",
      "dropout (Dropout)            (None, 73, 73, 64)        0         \n",
      "_________________________________________________________________\n",
      "flatten (Flatten)            (None, 341056)            0         \n",
      "_________________________________________________________________\n",
      "dense (Dense)                (None, 128)               43655296  \n",
      "_________________________________________________________________\n",
      "dense_1 (Dense)              (None, 6)                 774       \n",
      "=================================================================\n",
      "Total params: 43,675,462\n",
      "Trainable params: 43,675,462\n",
      "Non-trainable params: 0\n",
      "_________________________________________________________________\n"
     ]
    }
   ],
   "source": [
    "baseline_cnn.summary()"
   ]
  },
  {
   "cell_type": "code",
   "execution_count": 16,
   "metadata": {},
   "outputs": [
    {
     "name": "stdout",
     "output_type": "stream",
     "text": [
      "94/94 [==============================] - 3s 28ms/step - loss: 1.2858 - accuracy: 0.7807\n"
     ]
    },
    {
     "data": {
      "text/plain": [
       "[1.285772681236267, 0.7806666493415833]"
      ]
     },
     "execution_count": 16,
     "metadata": {},
     "output_type": "execute_result"
    }
   ],
   "source": [
    "baseline_cnn.evaluate(X_test, y_test)"
   ]
  },
  {
   "cell_type": "code",
   "execution_count": 23,
   "metadata": {},
   "outputs": [
    {
     "data": {
      "text/plain": [
       "dict_keys(['loss', 'accuracy', 'val_loss', 'val_accuracy'])"
      ]
     },
     "execution_count": 23,
     "metadata": {},
     "output_type": "execute_result"
    }
   ],
   "source": [
    "history.history.keys()"
   ]
  },
  {
   "cell_type": "code",
   "execution_count": 24,
   "metadata": {},
   "outputs": [
    {
     "data": {
      "image/png": "[encoded data removed]",
      "text/plain": [
       "<Figure size 432x288 with 1 Axes>"
      ]
     },
     "metadata": {
      "needs_background": "light"
     },
     "output_type": "display_data"
    }
   ],
   "source": [
    "acc = history.history['accuracy']\n",
    "val_acc = history.history['val_accuracy']\n",
    "loss = history.history['loss']\n",
    "val_loss = history.history['val_loss']\n",
    "\n",
    "epochs = range(1, len(acc) + 1)\n",
    "\n",
    "plt.plot(epochs, loss, 'bo', label='Training loss')\n",
    "plt.plot(epochs, val_loss, 'b', label='Validation loss')\n",
    "plt.title('Training and validation loss')\n",
    "plt.xlabel('Epochs')\n",
    "plt.ylabel('Loss')\n",
    "plt.legend()\n",
    "\n",
    "plt.show()"
   ]
  },
  {
   "cell_type": "code",
   "execution_count": 27,
   "metadata": {},
   "outputs": [],
   "source": [
    "def basic_cnn2(X_train, y_train, X_val_, y_val_):\n",
    "    inputs_ = layers.Input(shape=(X_train.shape[1:]))\n",
    "    conv_layer1 = layers.Conv2D(32, kernel_size=(3,3), activation = 'relu')(inputs_)\n",
    "    conv_layer2 = layers.Conv2D(64, kernel_size=(3,3), activation = 'relu')(conv_layer1)\n",
    "    pool = layers.MaxPool2D((2,2))(conv_layer2)\n",
    "    dropout1 = layers.Dropout(0.2)(pool)\n",
    "    flatten = layers.Flatten()(dropout1)\n",
    "    dense_layer1 = layers.Dense(128, activation='relu')(flatten)\n",
    "    dropout2 = layers.Dropout(0.2)(dense_layer1)\n",
    "    dense_layer2 = layers.Dense(32, activation='relu')(dropout2)\n",
    "    output = layers.Dense(len(label_dict.keys()), activation='softmax')(dense_layer2)\n",
    "    model = models.Model(inputs=inputs_, outputs=output)\n",
    "    adam = tf.keras.optimizers.Adam(2e-4)\n",
    "    model.compile(optimizer=adam, loss='sparse_categorical_crossentropy', metrics=['accuracy'])\n",
    "    history = model.fit(X_train, y_train, validation_data=(X_val_, y_val_), batch_size = 64, epochs = 10)\n",
    "    \n",
    "    return model, history"
   ]
  },
  {
   "cell_type": "code",
   "execution_count": 28,
   "metadata": {},
   "outputs": [
    {
     "name": "stdout",
     "output_type": "stream",
     "text": [
      "Epoch 1/10\n",
      "212/212 [==============================] - 32s 150ms/step - loss: 1.2094 - accuracy: 0.5273 - val_loss: 0.9495 - val_accuracy: 0.6800\n",
      "Epoch 2/10\n",
      "212/212 [==============================] - 31s 146ms/step - loss: 0.8217 - accuracy: 0.6966 - val_loss: 0.7065 - val_accuracy: 0.7500\n",
      "Epoch 3/10\n",
      "212/212 [==============================] - 31s 146ms/step - loss: 0.6351 - accuracy: 0.7693 - val_loss: 0.6349 - val_accuracy: 0.8000\n",
      "Epoch 4/10\n",
      "212/212 [==============================] - 31s 145ms/step - loss: 0.5061 - accuracy: 0.8199 - val_loss: 0.6063 - val_accuracy: 0.8100\n",
      "Epoch 5/10\n",
      "212/212 [==============================] - 31s 146ms/step - loss: 0.3913 - accuracy: 0.8654 - val_loss: 0.6034 - val_accuracy: 0.7800\n",
      "Epoch 6/10\n",
      "212/212 [==============================] - 31s 146ms/step - loss: 0.3045 - accuracy: 0.9003 - val_loss: 0.5660 - val_accuracy: 0.8100\n",
      "Epoch 7/10\n",
      "212/212 [==============================] - 31s 146ms/step - loss: 0.2293 - accuracy: 0.9240 - val_loss: 0.6037 - val_accuracy: 0.8100\n",
      "Epoch 8/10\n",
      "212/212 [==============================] - 31s 146ms/step - loss: 0.1699 - accuracy: 0.9476 - val_loss: 0.6333 - val_accuracy: 0.8020\n",
      "Epoch 9/10\n",
      "212/212 [==============================] - 31s 146ms/step - loss: 0.1256 - accuracy: 0.9642 - val_loss: 0.6658 - val_accuracy: 0.7960\n",
      "Epoch 10/10\n",
      "212/212 [==============================] - 30s 142ms/step - loss: 0.0935 - accuracy: 0.9737 - val_loss: 0.7136 - val_accuracy: 0.8020\n"
     ]
    }
   ],
   "source": [
    "baseline_cnn2, history2 = basic_cnn2(X_train, y_train, X_val, y_val)"
   ]
  },
  {
   "cell_type": "code",
   "execution_count": 29,
   "metadata": {},
   "outputs": [
    {
     "name": "stdout",
     "output_type": "stream",
     "text": [
      "94/94 [==============================] - 2s 25ms/step - loss: 0.7670 - accuracy: 0.7863\n"
     ]
    },
    {
     "data": {
      "text/plain": [
       "[0.7670224905014038, 0.7863333225250244]"
      ]
     },
     "execution_count": 29,
     "metadata": {},
     "output_type": "execute_result"
    }
   ],
   "source": [
    "baseline_cnn2.evaluate(X_test, y_test)"
   ]
  },
  {
   "cell_type": "code",
   "execution_count": 38,
   "metadata": {},
   "outputs": [
    {
     "name": "stdout",
     "output_type": "stream",
     "text": [
      "WARNING:tensorflow:`input_shape` is undefined or non-square, or `rows` is not in [96, 128, 160, 192, 224]. Weights for input shape (224, 224) will be loaded as the default.\n"
     ]
    }
   ],
   "source": [
    "base_model = tf.keras.applications.MobileNetV2(input_shape=X_train.shape[1:],\n",
    "                                               include_top=False,\n",
    "                                               weights='imagenet')"
   ]
  },
  {
   "cell_type": "code",
   "execution_count": 47,
   "metadata": {},
   "outputs": [],
   "source": [
    "train_features = base_model.predict(X_train)\n",
    "test_features = base_model.predict(X_test)\n",
    "val_features = base_model.predict(X_val)"
   ]
  },
  {
   "cell_type": "code",
   "execution_count": 48,
   "metadata": {},
   "outputs": [],
   "source": [
    "def transfer_model(X_feature, y_train, X_val_, y_val_):\n",
    "    inputs_ = layers.Input(shape=(X_feature.shape[1:]))\n",
    "    flatten = layers.Flatten()(inputs_)\n",
    "    dense_layer1 = layers.Dense(128, activation='relu')(flatten)\n",
    "    dropout1 = layers.Dropout(0.2)(dense_layer1)\n",
    "    dense_layer2 = layers.Dense(32, activation='relu')(dropout1)\n",
    "    dropout2 = layers.Dropout(0.2)(dense_layer2)\n",
    "    output = layers.Dense(len(label_dict.keys()), activation='softmax')(dense_layer2)\n",
    "    model = models.Model(inputs=inputs_, outputs=output)\n",
    "    adam = tf.keras.optimizers.Adam(2e-4)\n",
    "    model.compile(optimizer=adam, loss='sparse_categorical_crossentropy', metrics=['accuracy'])\n",
    "    history = model.fit(X_feature, y_train, validation_data=(X_val_, y_val_), batch_size = 64, epochs = 20)\n",
    "    return model, history"
   ]
  },
  {
   "cell_type": "code",
   "execution_count": 49,
   "metadata": {},
   "outputs": [
    {
     "name": "stdout",
     "output_type": "stream",
     "text": [
      "Epoch 1/10\n",
      "212/212 [==============================] - 1s 7ms/step - loss: 0.4411 - accuracy: 0.8456 - val_loss: 0.2824 - val_accuracy: 0.9120\n",
      "Epoch 2/10\n",
      "212/212 [==============================] - 1s 6ms/step - loss: 0.2483 - accuracy: 0.9104 - val_loss: 0.2832 - val_accuracy: 0.9120\n",
      "Epoch 3/10\n",
      "212/212 [==============================] - 1s 6ms/step - loss: 0.1823 - accuracy: 0.9337 - val_loss: 0.2619 - val_accuracy: 0.9300\n",
      "Epoch 4/10\n",
      "212/212 [==============================] - 1s 6ms/step - loss: 0.1393 - accuracy: 0.9494 - val_loss: 0.3052 - val_accuracy: 0.9340\n",
      "Epoch 5/10\n",
      "212/212 [==============================] - 1s 6ms/step - loss: 0.1024 - accuracy: 0.9634 - val_loss: 0.2675 - val_accuracy: 0.9400\n",
      "Epoch 6/10\n",
      "212/212 [==============================] - 1s 6ms/step - loss: 0.0745 - accuracy: 0.9730 - val_loss: 0.2997 - val_accuracy: 0.9360\n",
      "Epoch 7/10\n",
      "212/212 [==============================] - 1s 6ms/step - loss: 0.0616 - accuracy: 0.9784 - val_loss: 0.3645 - val_accuracy: 0.9200\n",
      "Epoch 8/10\n",
      "212/212 [==============================] - 1s 7ms/step - loss: 0.0533 - accuracy: 0.9809 - val_loss: 0.2636 - val_accuracy: 0.9400\n",
      "Epoch 9/10\n",
      "212/212 [==============================] - 1s 6ms/step - loss: 0.0453 - accuracy: 0.9851 - val_loss: 0.3143 - val_accuracy: 0.9260\n",
      "Epoch 10/10\n",
      "212/212 [==============================] - 1s 7ms/step - loss: 0.0366 - accuracy: 0.9883 - val_loss: 0.3973 - val_accuracy: 0.9240\n"
     ]
    }
   ],
   "source": [
    "mobilenetv2_feature_model, history = transfer_model(train_features, y_train,  val_features, y_val)"
   ]
  },
  {
   "cell_type": "code",
   "execution_count": 51,
   "metadata": {},
   "outputs": [
    {
     "name": "stdout",
     "output_type": "stream",
     "text": [
      "94/94 [==============================] - 0s 4ms/step - loss: 0.3596 - accuracy: 0.9070\n"
     ]
    },
    {
     "data": {
      "text/plain": [
       "[0.35964351892471313, 0.9070000052452087]"
      ]
     },
     "execution_count": 51,
     "metadata": {},
     "output_type": "execute_result"
    }
   ],
   "source": [
    "mobilenetv2_feature_model.evaluate(test_features, y_test)"
   ]
  },
  {
   "cell_type": "code",
   "execution_count": 52,
   "metadata": {},
   "outputs": [
    {
     "data": {
      "image/png": "[encoded data removed]",
      "text/plain": [
       "<Figure size 432x288 with 1 Axes>"
      ]
     },
     "metadata": {
      "needs_background": "light"
     },
     "output_type": "display_data"
    }
   ],
   "source": [
    "acc = history.history['accuracy']\n",
    "val_acc = history.history['val_accuracy']\n",
    "loss = history.history['loss']\n",
    "val_loss = history.history['val_loss']\n",
    "\n",
    "epochs = range(1, len(acc) + 1)\n",
    "\n",
    "plt.plot(epochs, loss, 'bo', label='Training loss')\n",
    "plt.plot(epochs, val_loss, 'b', label='Validation loss')\n",
    "plt.title('Training and validation loss')\n",
    "plt.xlabel('Epochs')\n",
    "plt.ylabel('Loss')\n",
    "plt.legend()\n",
    "\n",
    "plt.show()"
   ]
  },
  {
   "cell_type": "code",
   "execution_count": null,
   "metadata": {},
   "outputs": [],
   "source": []
  }
 ],
 "metadata": {
  "kernelspec": {
   "display_name": "deeplearning",
   "language": "python",
   "name": "deeplearning"
  },
  "language_info": {
   "codemirror_mode": {
    "name": "ipython",
    "version": 3
   },
   "file_extension": ".py",
   "mimetype": "text/x-python",
   "name": "python",
   "nbconvert_exporter": "python",
   "pygments_lexer": "ipython3",
   "version": "3.6.12"
  }
 },
 "nbformat": 4,
 "nbformat_minor": 4
}
